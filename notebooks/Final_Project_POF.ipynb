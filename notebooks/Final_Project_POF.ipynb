{
 "cells": [
  {
   "cell_type": "code",
   "execution_count": 87,
   "metadata": {},
   "outputs": [],
   "source": [
    "# Imports\n",
    "import pandas as pd\n",
    "from datetime import datetime\n",
    "\n",
    "import numpy as np\n",
    "import tensorflow as tf\n",
    "\n",
    "import matplotlib.pyplot as plt"
   ]
  },
  {
   "cell_type": "code",
   "execution_count": 51,
   "metadata": {},
   "outputs": [],
   "source": [
    "# Extract Date, Time, Temperature, SumRain into data array\n",
    "atg_obs = pd.read_csv('LFEM_data-.csv', low_memory=False, skiprows=1)\n",
    "atg_obs = atg_obs.drop(columns=[' Pseudo-Julian-Date', 'Relhum', 'Dewpoint', ])\n",
    "\n",
    "data_arr = atg_obs.values"
   ]
  },
  {
   "cell_type": "code",
   "execution_count": 56,
   "metadata": {},
   "outputs": [],
   "source": [
    "def convert_date_time(vector):\n",
    "    date_str, time_str, value1, value2 = vector\n",
    "    date_obj = datetime.strptime(date_str, \"%Y-%m-%d\")\n",
    "    time_obj = datetime.strptime(time_str, '%H:%M')\n",
    "    time_0_24 = time_obj.hour + time_obj.minute / 60\n",
    "    day_of_year = date_obj.timetuple().tm_yday\n",
    "    return [day_of_year, time_0_24, value1, value2]\n",
    "processed_data = np.array([convert_date_time(data) for data in data_arr])"
   ]
  },
  {
   "cell_type": "code",
   "execution_count": 65,
   "metadata": {},
   "outputs": [
    {
     "name": "stdout",
     "output_type": "stream",
     "text": [
      "Data Shape: (521176, 4)\n",
      "Data Entry: [Date, Time, Temperature, SumRain]\n",
      "['2023-01-01' '07:00' 46.2 0.0]\n",
      "[ 1.   7.  46.2  0. ]\n"
     ]
    }
   ],
   "source": [
    "print(f'Data Shape: {data_arr.shape}')\n",
    "print(f'Data Entry: [Date, Time, Temperature, SumRain]')\n",
    "\n",
    "# Pre-Processed\n",
    "print(data_arr[0])\n",
    "\n",
    "# Post-Processed\n",
    "print(processed_data[0])"
   ]
  },
  {
   "cell_type": "code",
   "execution_count": 77,
   "metadata": {},
   "outputs": [
    {
     "name": "stdout",
     "output_type": "stream",
     "text": [
      "[ 1.   7.  46.2] [0.]\n"
     ]
    }
   ],
   "source": [
    "x_data = processed_data[:, :3]\n",
    "y_data = processed_data[:, 3:]\n",
    "print(x_data[0], y_data[0])"
   ]
  },
  {
   "cell_type": "code",
   "execution_count": 85,
   "metadata": {},
   "outputs": [],
   "source": [
    "# Simple Model\n",
    "model = tf.keras.Sequential([\n",
    "    tf.keras.layers.Dense(64, activation='relu', input_shape=(3,)),\n",
    "    tf.keras.layers.Dense(32, activation='relu'),\n",
    "    tf.keras.layers.Dense(1)\n",
    "])\n",
    "\n",
    "# Compile\n",
    "model.compile(optimizer='adam',\n",
    "              loss='mean_squared_error',\n",
    "              metrics=['mae'])"
   ]
  },
  {
   "cell_type": "code",
   "execution_count": 86,
   "metadata": {},
   "outputs": [
    {
     "name": "stdout",
     "output_type": "stream",
     "text": [
      "Epoch 1/50\n",
      "\u001b[1m16287/16287\u001b[0m \u001b[32m━━━━━━━━━━━━━━━━━━━━\u001b[0m\u001b[37m\u001b[0m \u001b[1m5s\u001b[0m 303us/step - loss: 4.9107 - mae: 1.3652\n",
      "Epoch 2/50\n",
      "\u001b[1m16287/16287\u001b[0m \u001b[32m━━━━━━━━━━━━━━━━━━━━\u001b[0m\u001b[37m\u001b[0m \u001b[1m5s\u001b[0m 300us/step - loss: 1.8141 - mae: 0.7862\n",
      "Epoch 3/50\n",
      "\u001b[1m16287/16287\u001b[0m \u001b[32m━━━━━━━━━━━━━━━━━━━━\u001b[0m\u001b[37m\u001b[0m \u001b[1m5s\u001b[0m 299us/step - loss: 0.8534 - mae: 0.5171\n",
      "Epoch 4/50\n",
      "\u001b[1m16287/16287\u001b[0m \u001b[32m━━━━━━━━━━━━━━━━━━━━\u001b[0m\u001b[37m\u001b[0m \u001b[1m5s\u001b[0m 297us/step - loss: 0.6803 - mae: 0.4614\n",
      "Epoch 5/50\n",
      "\u001b[1m16287/16287\u001b[0m \u001b[32m━━━━━━━━━━━━━━━━━━━━\u001b[0m\u001b[37m\u001b[0m \u001b[1m5s\u001b[0m 298us/step - loss: 0.7472 - mae: 0.4922\n",
      "Epoch 6/50\n",
      "\u001b[1m16287/16287\u001b[0m \u001b[32m━━━━━━━━━━━━━━━━━━━━\u001b[0m\u001b[37m\u001b[0m \u001b[1m5s\u001b[0m 299us/step - loss: 0.5884 - mae: 0.4280\n",
      "Epoch 7/50\n",
      "\u001b[1m16287/16287\u001b[0m \u001b[32m━━━━━━━━━━━━━━━━━━━━\u001b[0m\u001b[37m\u001b[0m \u001b[1m5s\u001b[0m 296us/step - loss: 0.5490 - mae: 0.4133\n",
      "Epoch 8/50\n",
      "\u001b[1m16287/16287\u001b[0m \u001b[32m━━━━━━━━━━━━━━━━━━━━\u001b[0m\u001b[37m\u001b[0m \u001b[1m5s\u001b[0m 300us/step - loss: 0.5518 - mae: 0.4114\n",
      "Epoch 9/50\n",
      "\u001b[1m16287/16287\u001b[0m \u001b[32m━━━━━━━━━━━━━━━━━━━━\u001b[0m\u001b[37m\u001b[0m \u001b[1m5s\u001b[0m 297us/step - loss: 0.5165 - mae: 0.4012\n",
      "Epoch 10/50\n",
      "\u001b[1m16287/16287\u001b[0m \u001b[32m━━━━━━━━━━━━━━━━━━━━\u001b[0m\u001b[37m\u001b[0m \u001b[1m5s\u001b[0m 297us/step - loss: 0.5075 - mae: 0.4027\n",
      "Epoch 11/50\n",
      "\u001b[1m16287/16287\u001b[0m \u001b[32m━━━━━━━━━━━━━━━━━━━━\u001b[0m\u001b[37m\u001b[0m \u001b[1m5s\u001b[0m 297us/step - loss: 0.5005 - mae: 0.4013\n",
      "Epoch 12/50\n",
      "\u001b[1m16287/16287\u001b[0m \u001b[32m━━━━━━━━━━━━━━━━━━━━\u001b[0m\u001b[37m\u001b[0m \u001b[1m5s\u001b[0m 298us/step - loss: 0.4788 - mae: 0.3981\n",
      "Epoch 13/50\n",
      "\u001b[1m16287/16287\u001b[0m \u001b[32m━━━━━━━━━━━━━━━━━━━━\u001b[0m\u001b[37m\u001b[0m \u001b[1m5s\u001b[0m 299us/step - loss: 0.4741 - mae: 0.3955\n",
      "Epoch 14/50\n",
      "\u001b[1m16287/16287\u001b[0m \u001b[32m━━━━━━━━━━━━━━━━━━━━\u001b[0m\u001b[37m\u001b[0m \u001b[1m5s\u001b[0m 297us/step - loss: 0.4742 - mae: 0.3917\n",
      "Epoch 15/50\n",
      "\u001b[1m16287/16287\u001b[0m \u001b[32m━━━━━━━━━━━━━━━━━━━━\u001b[0m\u001b[37m\u001b[0m \u001b[1m5s\u001b[0m 300us/step - loss: 0.4515 - mae: 0.3881\n",
      "Epoch 16/50\n",
      "\u001b[1m16287/16287\u001b[0m \u001b[32m━━━━━━━━━━━━━━━━━━━━\u001b[0m\u001b[37m\u001b[0m \u001b[1m5s\u001b[0m 299us/step - loss: 0.4557 - mae: 0.3913\n",
      "Epoch 17/50\n",
      "\u001b[1m16287/16287\u001b[0m \u001b[32m━━━━━━━━━━━━━━━━━━━━\u001b[0m\u001b[37m\u001b[0m \u001b[1m5s\u001b[0m 302us/step - loss: 0.4648 - mae: 0.3960\n",
      "Epoch 18/50\n",
      "\u001b[1m16287/16287\u001b[0m \u001b[32m━━━━━━━━━━━━━━━━━━━━\u001b[0m\u001b[37m\u001b[0m \u001b[1m5s\u001b[0m 301us/step - loss: 0.4535 - mae: 0.3914\n",
      "Epoch 19/50\n",
      "\u001b[1m16287/16287\u001b[0m \u001b[32m━━━━━━━━━━━━━━━━━━━━\u001b[0m\u001b[37m\u001b[0m \u001b[1m5s\u001b[0m 300us/step - loss: 0.4427 - mae: 0.3833\n",
      "Epoch 20/50\n",
      "\u001b[1m16287/16287\u001b[0m \u001b[32m━━━━━━━━━━━━━━━━━━━━\u001b[0m\u001b[37m\u001b[0m \u001b[1m5s\u001b[0m 299us/step - loss: 0.4149 - mae: 0.3792\n",
      "Epoch 21/50\n",
      "\u001b[1m16287/16287\u001b[0m \u001b[32m━━━━━━━━━━━━━━━━━━━━\u001b[0m\u001b[37m\u001b[0m \u001b[1m5s\u001b[0m 299us/step - loss: 0.4154 - mae: 0.3690\n",
      "Epoch 22/50\n",
      "\u001b[1m16287/16287\u001b[0m \u001b[32m━━━━━━━━━━━━━━━━━━━━\u001b[0m\u001b[37m\u001b[0m \u001b[1m5s\u001b[0m 298us/step - loss: 0.4326 - mae: 0.3734\n",
      "Epoch 23/50\n",
      "\u001b[1m16287/16287\u001b[0m \u001b[32m━━━━━━━━━━━━━━━━━━━━\u001b[0m\u001b[37m\u001b[0m \u001b[1m5s\u001b[0m 299us/step - loss: 0.4063 - mae: 0.3675\n",
      "Epoch 24/50\n",
      "\u001b[1m16287/16287\u001b[0m \u001b[32m━━━━━━━━━━━━━━━━━━━━\u001b[0m\u001b[37m\u001b[0m \u001b[1m5s\u001b[0m 299us/step - loss: 0.4089 - mae: 0.3647\n",
      "Epoch 25/50\n",
      "\u001b[1m16287/16287\u001b[0m \u001b[32m━━━━━━━━━━━━━━━━━━━━\u001b[0m\u001b[37m\u001b[0m \u001b[1m5s\u001b[0m 300us/step - loss: 0.3887 - mae: 0.3556\n",
      "Epoch 26/50\n",
      "\u001b[1m16287/16287\u001b[0m \u001b[32m━━━━━━━━━━━━━━━━━━━━\u001b[0m\u001b[37m\u001b[0m \u001b[1m5s\u001b[0m 298us/step - loss: 0.3789 - mae: 0.3493\n",
      "Epoch 27/50\n",
      "\u001b[1m16287/16287\u001b[0m \u001b[32m━━━━━━━━━━━━━━━━━━━━\u001b[0m\u001b[37m\u001b[0m \u001b[1m5s\u001b[0m 300us/step - loss: 0.3655 - mae: 0.3367\n",
      "Epoch 28/50\n",
      "\u001b[1m16287/16287\u001b[0m \u001b[32m━━━━━━━━━━━━━━━━━━━━\u001b[0m\u001b[37m\u001b[0m \u001b[1m5s\u001b[0m 299us/step - loss: 0.3566 - mae: 0.3360\n",
      "Epoch 29/50\n",
      "\u001b[1m16287/16287\u001b[0m \u001b[32m━━━━━━━━━━━━━━━━━━━━\u001b[0m\u001b[37m\u001b[0m \u001b[1m5s\u001b[0m 308us/step - loss: 0.3563 - mae: 0.3329\n",
      "Epoch 30/50\n",
      "\u001b[1m16287/16287\u001b[0m \u001b[32m━━━━━━━━━━━━━━━━━━━━\u001b[0m\u001b[37m\u001b[0m \u001b[1m5s\u001b[0m 306us/step - loss: 0.3728 - mae: 0.3355\n",
      "Epoch 31/50\n",
      "\u001b[1m16287/16287\u001b[0m \u001b[32m━━━━━━━━━━━━━━━━━━━━\u001b[0m\u001b[37m\u001b[0m \u001b[1m5s\u001b[0m 303us/step - loss: 0.4098 - mae: 0.3467\n",
      "Epoch 32/50\n",
      "\u001b[1m16287/16287\u001b[0m \u001b[32m━━━━━━━━━━━━━━━━━━━━\u001b[0m\u001b[37m\u001b[0m \u001b[1m5s\u001b[0m 309us/step - loss: 0.3398 - mae: 0.3268\n",
      "Epoch 33/50\n",
      "\u001b[1m16287/16287\u001b[0m \u001b[32m━━━━━━━━━━━━━━━━━━━━\u001b[0m\u001b[37m\u001b[0m \u001b[1m5s\u001b[0m 307us/step - loss: 0.3330 - mae: 0.3266\n",
      "Epoch 34/50\n",
      "\u001b[1m16287/16287\u001b[0m \u001b[32m━━━━━━━━━━━━━━━━━━━━\u001b[0m\u001b[37m\u001b[0m \u001b[1m5s\u001b[0m 313us/step - loss: 0.3534 - mae: 0.3280\n",
      "Epoch 35/50\n",
      "\u001b[1m16287/16287\u001b[0m \u001b[32m━━━━━━━━━━━━━━━━━━━━\u001b[0m\u001b[37m\u001b[0m \u001b[1m5s\u001b[0m 302us/step - loss: 0.3399 - mae: 0.3264\n",
      "Epoch 36/50\n",
      "\u001b[1m16287/16287\u001b[0m \u001b[32m━━━━━━━━━━━━━━━━━━━━\u001b[0m\u001b[37m\u001b[0m \u001b[1m5s\u001b[0m 307us/step - loss: 0.3415 - mae: 0.3265\n",
      "Epoch 37/50\n",
      "\u001b[1m16287/16287\u001b[0m \u001b[32m━━━━━━━━━━━━━━━━━━━━\u001b[0m\u001b[37m\u001b[0m \u001b[1m5s\u001b[0m 303us/step - loss: 0.3276 - mae: 0.3202\n",
      "Epoch 38/50\n",
      "\u001b[1m16287/16287\u001b[0m \u001b[32m━━━━━━━━━━━━━━━━━━━━\u001b[0m\u001b[37m\u001b[0m \u001b[1m5s\u001b[0m 302us/step - loss: 0.3539 - mae: 0.3247\n",
      "Epoch 39/50\n",
      "\u001b[1m16287/16287\u001b[0m \u001b[32m━━━━━━━━━━━━━━━━━━━━\u001b[0m\u001b[37m\u001b[0m \u001b[1m5s\u001b[0m 301us/step - loss: 0.3375 - mae: 0.3199\n",
      "Epoch 40/50\n",
      "\u001b[1m16287/16287\u001b[0m \u001b[32m━━━━━━━━━━━━━━━━━━━━\u001b[0m\u001b[37m\u001b[0m \u001b[1m5s\u001b[0m 301us/step - loss: 0.3221 - mae: 0.3163\n",
      "Epoch 41/50\n",
      "\u001b[1m16287/16287\u001b[0m \u001b[32m━━━━━━━━━━━━━━━━━━━━\u001b[0m\u001b[37m\u001b[0m \u001b[1m5s\u001b[0m 302us/step - loss: 0.3375 - mae: 0.3198\n",
      "Epoch 42/50\n",
      "\u001b[1m16287/16287\u001b[0m \u001b[32m━━━━━━━━━━━━━━━━━━━━\u001b[0m\u001b[37m\u001b[0m \u001b[1m5s\u001b[0m 301us/step - loss: 0.3408 - mae: 0.3170\n",
      "Epoch 43/50\n",
      "\u001b[1m16287/16287\u001b[0m \u001b[32m━━━━━━━━━━━━━━━━━━━━\u001b[0m\u001b[37m\u001b[0m \u001b[1m5s\u001b[0m 301us/step - loss: 0.3261 - mae: 0.3148\n",
      "Epoch 44/50\n",
      "\u001b[1m16287/16287\u001b[0m \u001b[32m━━━━━━━━━━━━━━━━━━━━\u001b[0m\u001b[37m\u001b[0m \u001b[1m5s\u001b[0m 302us/step - loss: 0.3389 - mae: 0.3144\n",
      "Epoch 45/50\n",
      "\u001b[1m16287/16287\u001b[0m \u001b[32m━━━━━━━━━━━━━━━━━━━━\u001b[0m\u001b[37m\u001b[0m \u001b[1m5s\u001b[0m 303us/step - loss: 0.3271 - mae: 0.3143\n",
      "Epoch 46/50\n",
      "\u001b[1m16287/16287\u001b[0m \u001b[32m━━━━━━━━━━━━━━━━━━━━\u001b[0m\u001b[37m\u001b[0m \u001b[1m5s\u001b[0m 302us/step - loss: 0.3201 - mae: 0.3091\n",
      "Epoch 47/50\n",
      "\u001b[1m16287/16287\u001b[0m \u001b[32m━━━━━━━━━━━━━━━━━━━━\u001b[0m\u001b[37m\u001b[0m \u001b[1m5s\u001b[0m 301us/step - loss: 0.3200 - mae: 0.3105\n",
      "Epoch 48/50\n",
      "\u001b[1m16287/16287\u001b[0m \u001b[32m━━━━━━━━━━━━━━━━━━━━\u001b[0m\u001b[37m\u001b[0m \u001b[1m5s\u001b[0m 302us/step - loss: 0.3437 - mae: 0.3127\n",
      "Epoch 49/50\n",
      "\u001b[1m16287/16287\u001b[0m \u001b[32m━━━━━━━━━━━━━━━━━━━━\u001b[0m\u001b[37m\u001b[0m \u001b[1m5s\u001b[0m 303us/step - loss: 0.3217 - mae: 0.3097\n",
      "Epoch 50/50\n",
      "\u001b[1m16287/16287\u001b[0m \u001b[32m━━━━━━━━━━━━━━━━━━━━\u001b[0m\u001b[37m\u001b[0m \u001b[1m5s\u001b[0m 302us/step - loss: 0.3017 - mae: 0.3071\n"
     ]
    },
    {
     "data": {
      "text/plain": [
       "<keras.src.callbacks.history.History at 0x3237c0f10>"
      ]
     },
     "execution_count": 86,
     "metadata": {},
     "output_type": "execute_result"
    }
   ],
   "source": [
    "# Train the Model:\n",
    "model.fit(x_data, y_data, epochs=50)"
   ]
  },
  {
   "cell_type": "code",
   "execution_count": 88,
   "metadata": {},
   "outputs": [],
   "source": [
    "# Evaluation (Is it worth, the loss is quite high suggesting that either the model architecture is quite poor (likely) or \n",
    "# that we need to better preprocess our data such as rain (also likely))"
   ]
  }
 ],
 "metadata": {
  "kernelspec": {
   "display_name": "EE400-Env",
   "language": "python",
   "name": "python3"
  },
  "language_info": {
   "codemirror_mode": {
    "name": "ipython",
    "version": 3
   },
   "file_extension": ".py",
   "mimetype": "text/x-python",
   "name": "python",
   "nbconvert_exporter": "python",
   "pygments_lexer": "ipython3",
   "version": "3.10.14"
  }
 },
 "nbformat": 4,
 "nbformat_minor": 2
}

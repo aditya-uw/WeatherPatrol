{
 "cells": [
  {
   "cell_type": "code",
   "execution_count": 1,
   "metadata": {},
   "outputs": [],
   "source": [
    "# Imports\n",
    "import pandas as pd\n",
    "import datetime as dt\n",
    "\n",
    "import numpy as np\n",
    "import tensorflow as tf\n",
    "\n",
    "import matplotlib.pyplot as plt\n",
    "\n",
    "import tensorflow as tf\n",
    "from tensorflow.keras import layers, models, regularizers, callbacks\n",
    "from tensorflow.keras.optimizers import Adam\n",
    "from tensorflow.keras.callbacks import ReduceLROnPlateau\n",
    "\n",
    "from sklearn.preprocessing import StandardScaler\n",
    "from sklearn.model_selection import train_test_split"
   ]
  },
  {
   "cell_type": "code",
   "execution_count": 2,
   "metadata": {},
   "outputs": [],
   "source": [
    "atg_obs = pd.read_csv('../../Downloads/LFEM_data--3.csv', low_memory=False, skiprows=1)\n",
    "atg_obs.insert(0, 'datetime_UTC', pd.to_datetime(atg_obs['Date'] + atg_obs['Time'], format='%Y-%m-%d%H:%M'))\n",
    "# atg_obs_selected = atg_obs.loc[(atg_obs['datetime_UTC']>=dt.datetime(2020,5,1))].copy() # Selecting dates"
   ]
  },
  {
   "cell_type": "code",
   "execution_count": 3,
   "metadata": {},
   "outputs": [],
   "source": [
    "atg_obs_selected = atg_obs.copy() # Selecting dates"
   ]
  },
  {
   "cell_type": "code",
   "execution_count": 4,
   "metadata": {},
   "outputs": [],
   "source": [
    "atg_obs_selected = atg_obs_selected.loc[(atg_obs['datetime_UTC']>=dt.datetime(2004,5,1))]"
   ]
  },
  {
   "cell_type": "code",
   "execution_count": 5,
   "metadata": {},
   "outputs": [
    {
     "data": {
      "text/html": [
       "<div>\n",
       "<style scoped>\n",
       "    .dataframe tbody tr th:only-of-type {\n",
       "        vertical-align: middle;\n",
       "    }\n",
       "\n",
       "    .dataframe tbody tr th {\n",
       "        vertical-align: top;\n",
       "    }\n",
       "\n",
       "    .dataframe thead th {\n",
       "        text-align: right;\n",
       "    }\n",
       "</style>\n",
       "<table border=\"1\" class=\"dataframe\">\n",
       "  <thead>\n",
       "    <tr style=\"text-align: right;\">\n",
       "      <th></th>\n",
       "      <th>datetime_UTC</th>\n",
       "      <th>Pseudo-Julian-Date</th>\n",
       "      <th>Date</th>\n",
       "      <th>Time</th>\n",
       "      <th>Temperature</th>\n",
       "      <th>Dewpoint</th>\n",
       "      <th>Relhum</th>\n",
       "      <th>Speed</th>\n",
       "      <th>Gust</th>\n",
       "      <th>Direction</th>\n",
       "      <th>Pressure</th>\n",
       "      <th>Solar</th>\n",
       "      <th>SumRain</th>\n",
       "      <th>Rain</th>\n",
       "    </tr>\n",
       "  </thead>\n",
       "  <tbody>\n",
       "    <tr>\n",
       "      <th>2472357</th>\n",
       "      <td>2004-05-01 00:00:00</td>\n",
       "      <td>2.453127e+06</td>\n",
       "      <td>2004-05-01</td>\n",
       "      <td>00:00</td>\n",
       "      <td>78.800000</td>\n",
       "      <td>26.000000</td>\n",
       "      <td>14.3</td>\n",
       "      <td>5.900000</td>\n",
       "      <td>6.800000</td>\n",
       "      <td>218</td>\n",
       "      <td>1013.4</td>\n",
       "      <td>492.6</td>\n",
       "      <td>251.09</td>\n",
       "      <td>0.00</td>\n",
       "    </tr>\n",
       "    <tr>\n",
       "      <th>2472358</th>\n",
       "      <td>2004-05-01 00:01:00</td>\n",
       "      <td>2.453127e+06</td>\n",
       "      <td>2004-05-01</td>\n",
       "      <td>00:01</td>\n",
       "      <td>78.700000</td>\n",
       "      <td>26.000000</td>\n",
       "      <td>14.3</td>\n",
       "      <td>5.700000</td>\n",
       "      <td>6.500000</td>\n",
       "      <td>220</td>\n",
       "      <td>1013.4</td>\n",
       "      <td>490.1</td>\n",
       "      <td>251.09</td>\n",
       "      <td>0.00</td>\n",
       "    </tr>\n",
       "    <tr>\n",
       "      <th>2472359</th>\n",
       "      <td>2004-05-01 00:02:00</td>\n",
       "      <td>2.453127e+06</td>\n",
       "      <td>2004-05-01</td>\n",
       "      <td>00:02</td>\n",
       "      <td>79.400000</td>\n",
       "      <td>26.900000</td>\n",
       "      <td>14.5</td>\n",
       "      <td>5.000000</td>\n",
       "      <td>5.900000</td>\n",
       "      <td>225</td>\n",
       "      <td>1013.4</td>\n",
       "      <td>487.9</td>\n",
       "      <td>251.09</td>\n",
       "      <td>0.00</td>\n",
       "    </tr>\n",
       "    <tr>\n",
       "      <th>2472360</th>\n",
       "      <td>2004-05-01 00:03:00</td>\n",
       "      <td>2.453127e+06</td>\n",
       "      <td>2004-05-01</td>\n",
       "      <td>00:03</td>\n",
       "      <td>79.900000</td>\n",
       "      <td>27.500000</td>\n",
       "      <td>14.6</td>\n",
       "      <td>4.000000</td>\n",
       "      <td>5.300000</td>\n",
       "      <td>217</td>\n",
       "      <td>1013.3</td>\n",
       "      <td>485.1</td>\n",
       "      <td>251.09</td>\n",
       "      <td>0.00</td>\n",
       "    </tr>\n",
       "    <tr>\n",
       "      <th>2472361</th>\n",
       "      <td>2004-05-01 00:04:00</td>\n",
       "      <td>2.453127e+06</td>\n",
       "      <td>2004-05-01</td>\n",
       "      <td>00:04</td>\n",
       "      <td>79.000000</td>\n",
       "      <td>25.600000</td>\n",
       "      <td>13.9</td>\n",
       "      <td>3.500000</td>\n",
       "      <td>4.700000</td>\n",
       "      <td>219</td>\n",
       "      <td>1013.4</td>\n",
       "      <td>482.3</td>\n",
       "      <td>251.09</td>\n",
       "      <td>0.00</td>\n",
       "    </tr>\n",
       "    <tr>\n",
       "      <th>...</th>\n",
       "      <td>...</td>\n",
       "      <td>...</td>\n",
       "      <td>...</td>\n",
       "      <td>...</td>\n",
       "      <td>...</td>\n",
       "      <td>...</td>\n",
       "      <td>...</td>\n",
       "      <td>...</td>\n",
       "      <td>...</td>\n",
       "      <td>...</td>\n",
       "      <td>...</td>\n",
       "      <td>...</td>\n",
       "      <td>...</td>\n",
       "      <td>...</td>\n",
       "    </tr>\n",
       "    <tr>\n",
       "      <th>12940427</th>\n",
       "      <td>2024-05-22 20:30:00</td>\n",
       "      <td>2.460454e+06</td>\n",
       "      <td>2024-05-22</td>\n",
       "      <td>20:30</td>\n",
       "      <td>55.900000</td>\n",
       "      <td>41.500000</td>\n",
       "      <td>58.5</td>\n",
       "      <td>6.100000</td>\n",
       "      <td>7.800000</td>\n",
       "      <td>267</td>\n",
       "      <td>1010.8</td>\n",
       "      <td>920.2</td>\n",
       "      <td>969.65</td>\n",
       "      <td>0.00</td>\n",
       "    </tr>\n",
       "    <tr>\n",
       "      <th>12940428</th>\n",
       "      <td>2024-05-22 20:31:00</td>\n",
       "      <td>2.460454e+06</td>\n",
       "      <td>2024-05-22</td>\n",
       "      <td>20:31</td>\n",
       "      <td>56.000000</td>\n",
       "      <td>41.700000</td>\n",
       "      <td>58.4</td>\n",
       "      <td>6.600000</td>\n",
       "      <td>9.500000</td>\n",
       "      <td>267</td>\n",
       "      <td>1010.9</td>\n",
       "      <td>756.5</td>\n",
       "      <td>969.65</td>\n",
       "      <td>0.00</td>\n",
       "    </tr>\n",
       "    <tr>\n",
       "      <th>12940429</th>\n",
       "      <td>2024-05-22 20:32:00</td>\n",
       "      <td>2.460454e+06</td>\n",
       "      <td>2024-05-22</td>\n",
       "      <td>20:32</td>\n",
       "      <td>56.200000</td>\n",
       "      <td>41.700000</td>\n",
       "      <td>58.2</td>\n",
       "      <td>5.900000</td>\n",
       "      <td>10.100000</td>\n",
       "      <td>357</td>\n",
       "      <td>1010.8</td>\n",
       "      <td>657.9</td>\n",
       "      <td>969.65</td>\n",
       "      <td>0.00</td>\n",
       "    </tr>\n",
       "    <tr>\n",
       "      <th>12940430</th>\n",
       "      <td>2024-05-22 20:33:00</td>\n",
       "      <td>2.460454e+06</td>\n",
       "      <td>2024-05-22</td>\n",
       "      <td>20:33</td>\n",
       "      <td>56.400000</td>\n",
       "      <td>42.100000</td>\n",
       "      <td>58.6</td>\n",
       "      <td>8.500000</td>\n",
       "      <td>10.500000</td>\n",
       "      <td>300</td>\n",
       "      <td>1011.0</td>\n",
       "      <td>570.1</td>\n",
       "      <td>969.65</td>\n",
       "      <td>0.00</td>\n",
       "    </tr>\n",
       "    <tr>\n",
       "      <th>12940431</th>\n",
       "      <td>2024-05-22 20:34:00</td>\n",
       "      <td>2.460454e+06</td>\n",
       "      <td>2024-05-22</td>\n",
       "      <td>20:34</td>\n",
       "      <td>56.600000</td>\n",
       "      <td>41.400000</td>\n",
       "      <td>56.8</td>\n",
       "      <td>8.700000</td>\n",
       "      <td>11.700000</td>\n",
       "      <td>291</td>\n",
       "      <td>1011.1</td>\n",
       "      <td>525.6</td>\n",
       "      <td>969.65</td>\n",
       "      <td>0.00</td>\n",
       "    </tr>\n",
       "  </tbody>\n",
       "</table>\n",
       "<p>10468075 rows × 14 columns</p>\n",
       "</div>"
      ],
      "text/plain": [
       "                datetime_UTC   Pseudo-Julian-Date        Date   Time  \\\n",
       "2472357  2004-05-01 00:00:00         2.453127e+06  2004-05-01  00:00   \n",
       "2472358  2004-05-01 00:01:00         2.453127e+06  2004-05-01  00:01   \n",
       "2472359  2004-05-01 00:02:00         2.453127e+06  2004-05-01  00:02   \n",
       "2472360  2004-05-01 00:03:00         2.453127e+06  2004-05-01  00:03   \n",
       "2472361  2004-05-01 00:04:00         2.453127e+06  2004-05-01  00:04   \n",
       "...                      ...                  ...         ...    ...   \n",
       "12940427 2024-05-22 20:30:00         2.460454e+06  2024-05-22  20:30   \n",
       "12940428 2024-05-22 20:31:00         2.460454e+06  2024-05-22  20:31   \n",
       "12940429 2024-05-22 20:32:00         2.460454e+06  2024-05-22  20:32   \n",
       "12940430 2024-05-22 20:33:00         2.460454e+06  2024-05-22  20:33   \n",
       "12940431 2024-05-22 20:34:00         2.460454e+06  2024-05-22  20:34   \n",
       "\n",
       "         Temperature   Dewpoint Relhum     Speed       Gust Direction  \\\n",
       "2472357    78.800000  26.000000   14.3  5.900000   6.800000       218   \n",
       "2472358    78.700000  26.000000   14.3  5.700000   6.500000       220   \n",
       "2472359    79.400000  26.900000   14.5  5.000000   5.900000       225   \n",
       "2472360    79.900000  27.500000   14.6  4.000000   5.300000       217   \n",
       "2472361    79.000000  25.600000   13.9  3.500000   4.700000       219   \n",
       "...              ...        ...    ...       ...        ...       ...   \n",
       "12940427   55.900000  41.500000   58.5  6.100000   7.800000       267   \n",
       "12940428   56.000000  41.700000   58.4  6.600000   9.500000       267   \n",
       "12940429   56.200000  41.700000   58.2  5.900000  10.100000       357   \n",
       "12940430   56.400000  42.100000   58.6  8.500000  10.500000       300   \n",
       "12940431   56.600000  41.400000   56.8  8.700000  11.700000       291   \n",
       "\n",
       "         Pressure  Solar  SumRain  Rain  \n",
       "2472357    1013.4  492.6   251.09  0.00  \n",
       "2472358    1013.4  490.1   251.09  0.00  \n",
       "2472359    1013.4  487.9   251.09  0.00  \n",
       "2472360    1013.3  485.1   251.09  0.00  \n",
       "2472361    1013.4  482.3   251.09  0.00  \n",
       "...           ...    ...      ...   ...  \n",
       "12940427   1010.8  920.2   969.65  0.00  \n",
       "12940428   1010.9  756.5   969.65  0.00  \n",
       "12940429   1010.8  657.9   969.65  0.00  \n",
       "12940430   1011.0  570.1   969.65  0.00  \n",
       "12940431   1011.1  525.6   969.65  0.00  \n",
       "\n",
       "[10468075 rows x 14 columns]"
      ]
     },
     "execution_count": 5,
     "metadata": {},
     "output_type": "execute_result"
    }
   ],
   "source": [
    "atg_obs_selected"
   ]
  },
  {
   "cell_type": "code",
   "execution_count": 6,
   "metadata": {},
   "outputs": [],
   "source": [
    "no_erros_obs = atg_obs_selected.loc[(atg_obs_selected['Rain']!='M')&(atg_obs_selected['Temperature']!='M')&(atg_obs_selected['Pressure']!='M')&(atg_obs_selected['Relhum']!='M')&(atg_obs_selected['Relhum']!='0.00.')].copy()\n",
    "no_erros_obs['Rain'] = no_erros_obs['Rain'].astype(float)\n",
    "no_erros_obs['Temperature'] = no_erros_obs['Temperature'].astype(float)\n",
    "no_erros_obs['Pressure'] = no_erros_obs['Pressure'].astype(float)\n",
    "no_erros_obs['Relhum'] = no_erros_obs['Relhum'].astype(float)"
   ]
  },
  {
   "cell_type": "code",
   "execution_count": 7,
   "metadata": {},
   "outputs": [
    {
     "data": {
      "text/html": [
       "<div>\n",
       "<style scoped>\n",
       "    .dataframe tbody tr th:only-of-type {\n",
       "        vertical-align: middle;\n",
       "    }\n",
       "\n",
       "    .dataframe tbody tr th {\n",
       "        vertical-align: top;\n",
       "    }\n",
       "\n",
       "    .dataframe thead th {\n",
       "        text-align: right;\n",
       "    }\n",
       "</style>\n",
       "<table border=\"1\" class=\"dataframe\">\n",
       "  <thead>\n",
       "    <tr style=\"text-align: right;\">\n",
       "      <th></th>\n",
       "      <th>datetime_UTC</th>\n",
       "      <th>Pseudo-Julian-Date</th>\n",
       "      <th>Date</th>\n",
       "      <th>Time</th>\n",
       "      <th>Temperature</th>\n",
       "      <th>Dewpoint</th>\n",
       "      <th>Relhum</th>\n",
       "      <th>Speed</th>\n",
       "      <th>Gust</th>\n",
       "      <th>Direction</th>\n",
       "      <th>Pressure</th>\n",
       "      <th>Solar</th>\n",
       "      <th>SumRain</th>\n",
       "      <th>Rain</th>\n",
       "    </tr>\n",
       "  </thead>\n",
       "  <tbody>\n",
       "    <tr>\n",
       "      <th>2472357</th>\n",
       "      <td>2004-05-01 00:00:00</td>\n",
       "      <td>2.453127e+06</td>\n",
       "      <td>2004-05-01</td>\n",
       "      <td>00:00</td>\n",
       "      <td>78.8</td>\n",
       "      <td>26.000000</td>\n",
       "      <td>14.3</td>\n",
       "      <td>5.900000</td>\n",
       "      <td>6.800000</td>\n",
       "      <td>218</td>\n",
       "      <td>1013.4</td>\n",
       "      <td>492.6</td>\n",
       "      <td>251.09</td>\n",
       "      <td>0.0</td>\n",
       "    </tr>\n",
       "    <tr>\n",
       "      <th>2472358</th>\n",
       "      <td>2004-05-01 00:01:00</td>\n",
       "      <td>2.453127e+06</td>\n",
       "      <td>2004-05-01</td>\n",
       "      <td>00:01</td>\n",
       "      <td>78.7</td>\n",
       "      <td>26.000000</td>\n",
       "      <td>14.3</td>\n",
       "      <td>5.700000</td>\n",
       "      <td>6.500000</td>\n",
       "      <td>220</td>\n",
       "      <td>1013.4</td>\n",
       "      <td>490.1</td>\n",
       "      <td>251.09</td>\n",
       "      <td>0.0</td>\n",
       "    </tr>\n",
       "    <tr>\n",
       "      <th>2472359</th>\n",
       "      <td>2004-05-01 00:02:00</td>\n",
       "      <td>2.453127e+06</td>\n",
       "      <td>2004-05-01</td>\n",
       "      <td>00:02</td>\n",
       "      <td>79.4</td>\n",
       "      <td>26.900000</td>\n",
       "      <td>14.5</td>\n",
       "      <td>5.000000</td>\n",
       "      <td>5.900000</td>\n",
       "      <td>225</td>\n",
       "      <td>1013.4</td>\n",
       "      <td>487.9</td>\n",
       "      <td>251.09</td>\n",
       "      <td>0.0</td>\n",
       "    </tr>\n",
       "    <tr>\n",
       "      <th>2472360</th>\n",
       "      <td>2004-05-01 00:03:00</td>\n",
       "      <td>2.453127e+06</td>\n",
       "      <td>2004-05-01</td>\n",
       "      <td>00:03</td>\n",
       "      <td>79.9</td>\n",
       "      <td>27.500000</td>\n",
       "      <td>14.6</td>\n",
       "      <td>4.000000</td>\n",
       "      <td>5.300000</td>\n",
       "      <td>217</td>\n",
       "      <td>1013.3</td>\n",
       "      <td>485.1</td>\n",
       "      <td>251.09</td>\n",
       "      <td>0.0</td>\n",
       "    </tr>\n",
       "    <tr>\n",
       "      <th>2472361</th>\n",
       "      <td>2004-05-01 00:04:00</td>\n",
       "      <td>2.453127e+06</td>\n",
       "      <td>2004-05-01</td>\n",
       "      <td>00:04</td>\n",
       "      <td>79.0</td>\n",
       "      <td>25.600000</td>\n",
       "      <td>13.9</td>\n",
       "      <td>3.500000</td>\n",
       "      <td>4.700000</td>\n",
       "      <td>219</td>\n",
       "      <td>1013.4</td>\n",
       "      <td>482.3</td>\n",
       "      <td>251.09</td>\n",
       "      <td>0.0</td>\n",
       "    </tr>\n",
       "    <tr>\n",
       "      <th>...</th>\n",
       "      <td>...</td>\n",
       "      <td>...</td>\n",
       "      <td>...</td>\n",
       "      <td>...</td>\n",
       "      <td>...</td>\n",
       "      <td>...</td>\n",
       "      <td>...</td>\n",
       "      <td>...</td>\n",
       "      <td>...</td>\n",
       "      <td>...</td>\n",
       "      <td>...</td>\n",
       "      <td>...</td>\n",
       "      <td>...</td>\n",
       "      <td>...</td>\n",
       "    </tr>\n",
       "    <tr>\n",
       "      <th>12940427</th>\n",
       "      <td>2024-05-22 20:30:00</td>\n",
       "      <td>2.460454e+06</td>\n",
       "      <td>2024-05-22</td>\n",
       "      <td>20:30</td>\n",
       "      <td>55.9</td>\n",
       "      <td>41.500000</td>\n",
       "      <td>58.5</td>\n",
       "      <td>6.100000</td>\n",
       "      <td>7.800000</td>\n",
       "      <td>267</td>\n",
       "      <td>1010.8</td>\n",
       "      <td>920.2</td>\n",
       "      <td>969.65</td>\n",
       "      <td>0.0</td>\n",
       "    </tr>\n",
       "    <tr>\n",
       "      <th>12940428</th>\n",
       "      <td>2024-05-22 20:31:00</td>\n",
       "      <td>2.460454e+06</td>\n",
       "      <td>2024-05-22</td>\n",
       "      <td>20:31</td>\n",
       "      <td>56.0</td>\n",
       "      <td>41.700000</td>\n",
       "      <td>58.4</td>\n",
       "      <td>6.600000</td>\n",
       "      <td>9.500000</td>\n",
       "      <td>267</td>\n",
       "      <td>1010.9</td>\n",
       "      <td>756.5</td>\n",
       "      <td>969.65</td>\n",
       "      <td>0.0</td>\n",
       "    </tr>\n",
       "    <tr>\n",
       "      <th>12940429</th>\n",
       "      <td>2024-05-22 20:32:00</td>\n",
       "      <td>2.460454e+06</td>\n",
       "      <td>2024-05-22</td>\n",
       "      <td>20:32</td>\n",
       "      <td>56.2</td>\n",
       "      <td>41.700000</td>\n",
       "      <td>58.2</td>\n",
       "      <td>5.900000</td>\n",
       "      <td>10.100000</td>\n",
       "      <td>357</td>\n",
       "      <td>1010.8</td>\n",
       "      <td>657.9</td>\n",
       "      <td>969.65</td>\n",
       "      <td>0.0</td>\n",
       "    </tr>\n",
       "    <tr>\n",
       "      <th>12940430</th>\n",
       "      <td>2024-05-22 20:33:00</td>\n",
       "      <td>2.460454e+06</td>\n",
       "      <td>2024-05-22</td>\n",
       "      <td>20:33</td>\n",
       "      <td>56.4</td>\n",
       "      <td>42.100000</td>\n",
       "      <td>58.6</td>\n",
       "      <td>8.500000</td>\n",
       "      <td>10.500000</td>\n",
       "      <td>300</td>\n",
       "      <td>1011.0</td>\n",
       "      <td>570.1</td>\n",
       "      <td>969.65</td>\n",
       "      <td>0.0</td>\n",
       "    </tr>\n",
       "    <tr>\n",
       "      <th>12940431</th>\n",
       "      <td>2024-05-22 20:34:00</td>\n",
       "      <td>2.460454e+06</td>\n",
       "      <td>2024-05-22</td>\n",
       "      <td>20:34</td>\n",
       "      <td>56.6</td>\n",
       "      <td>41.400000</td>\n",
       "      <td>56.8</td>\n",
       "      <td>8.700000</td>\n",
       "      <td>11.700000</td>\n",
       "      <td>291</td>\n",
       "      <td>1011.1</td>\n",
       "      <td>525.6</td>\n",
       "      <td>969.65</td>\n",
       "      <td>0.0</td>\n",
       "    </tr>\n",
       "  </tbody>\n",
       "</table>\n",
       "<p>10394789 rows × 14 columns</p>\n",
       "</div>"
      ],
      "text/plain": [
       "                datetime_UTC   Pseudo-Julian-Date        Date   Time  \\\n",
       "2472357  2004-05-01 00:00:00         2.453127e+06  2004-05-01  00:00   \n",
       "2472358  2004-05-01 00:01:00         2.453127e+06  2004-05-01  00:01   \n",
       "2472359  2004-05-01 00:02:00         2.453127e+06  2004-05-01  00:02   \n",
       "2472360  2004-05-01 00:03:00         2.453127e+06  2004-05-01  00:03   \n",
       "2472361  2004-05-01 00:04:00         2.453127e+06  2004-05-01  00:04   \n",
       "...                      ...                  ...         ...    ...   \n",
       "12940427 2024-05-22 20:30:00         2.460454e+06  2024-05-22  20:30   \n",
       "12940428 2024-05-22 20:31:00         2.460454e+06  2024-05-22  20:31   \n",
       "12940429 2024-05-22 20:32:00         2.460454e+06  2024-05-22  20:32   \n",
       "12940430 2024-05-22 20:33:00         2.460454e+06  2024-05-22  20:33   \n",
       "12940431 2024-05-22 20:34:00         2.460454e+06  2024-05-22  20:34   \n",
       "\n",
       "          Temperature   Dewpoint  Relhum     Speed       Gust Direction  \\\n",
       "2472357          78.8  26.000000    14.3  5.900000   6.800000       218   \n",
       "2472358          78.7  26.000000    14.3  5.700000   6.500000       220   \n",
       "2472359          79.4  26.900000    14.5  5.000000   5.900000       225   \n",
       "2472360          79.9  27.500000    14.6  4.000000   5.300000       217   \n",
       "2472361          79.0  25.600000    13.9  3.500000   4.700000       219   \n",
       "...               ...        ...     ...       ...        ...       ...   \n",
       "12940427         55.9  41.500000    58.5  6.100000   7.800000       267   \n",
       "12940428         56.0  41.700000    58.4  6.600000   9.500000       267   \n",
       "12940429         56.2  41.700000    58.2  5.900000  10.100000       357   \n",
       "12940430         56.4  42.100000    58.6  8.500000  10.500000       300   \n",
       "12940431         56.6  41.400000    56.8  8.700000  11.700000       291   \n",
       "\n",
       "          Pressure  Solar  SumRain  Rain  \n",
       "2472357     1013.4  492.6   251.09   0.0  \n",
       "2472358     1013.4  490.1   251.09   0.0  \n",
       "2472359     1013.4  487.9   251.09   0.0  \n",
       "2472360     1013.3  485.1   251.09   0.0  \n",
       "2472361     1013.4  482.3   251.09   0.0  \n",
       "...            ...    ...      ...   ...  \n",
       "12940427    1010.8  920.2   969.65   0.0  \n",
       "12940428    1010.9  756.5   969.65   0.0  \n",
       "12940429    1010.8  657.9   969.65   0.0  \n",
       "12940430    1011.0  570.1   969.65   0.0  \n",
       "12940431    1011.1  525.6   969.65   0.0  \n",
       "\n",
       "[10394789 rows x 14 columns]"
      ]
     },
     "execution_count": 7,
     "metadata": {},
     "output_type": "execute_result"
    }
   ],
   "source": [
    "no_erros_obs"
   ]
  },
  {
   "cell_type": "code",
   "execution_count": 8,
   "metadata": {},
   "outputs": [
    {
     "data": {
      "text/plain": [
       "<pandas.core.resample.DatetimeIndexResampler object at 0x28430b460>"
      ]
     },
     "execution_count": 8,
     "metadata": {},
     "output_type": "execute_result"
    }
   ],
   "source": [
    "first_obs_each_period = no_erros_obs.resample(on='datetime_UTC', rule='1h')\n",
    "first_obs_each_period"
   ]
  },
  {
   "cell_type": "code",
   "execution_count": 9,
   "metadata": {},
   "outputs": [],
   "source": [
    "summed_rain_each_period = first_obs_each_period['Rain'].sum()\n",
    "\n",
    "lightrainfall_times = summed_rain_each_period[(summed_rain_each_period<=0.10)&(summed_rain_each_period>0.0)]\n",
    "moderaterainfall_times = summed_rain_each_period[(summed_rain_each_period<=0.30)&(summed_rain_each_period>0.10)]\n",
    "heavyrainfall_times = summed_rain_each_period[(summed_rain_each_period>0.30)]\n",
    "\n",
    "any_rainfall_times = summed_rain_each_period[(summed_rain_each_period>0.0)]\n",
    "\n",
    "summed_rain_each_period.loc[lightrainfall_times.index] = 1\n",
    "summed_rain_each_period.loc[moderaterainfall_times.index] = 2\n",
    "summed_rain_each_period.loc[heavyrainfall_times.index] = 3\n",
    "# summed_rain_each_period.loc[any_rainfall_times.index] = 1"
   ]
  },
  {
   "cell_type": "code",
   "execution_count": 10,
   "metadata": {},
   "outputs": [
    {
     "data": {
      "text/html": [
       "<div>\n",
       "<style scoped>\n",
       "    .dataframe tbody tr th:only-of-type {\n",
       "        vertical-align: middle;\n",
       "    }\n",
       "\n",
       "    .dataframe tbody tr th {\n",
       "        vertical-align: top;\n",
       "    }\n",
       "\n",
       "    .dataframe thead th {\n",
       "        text-align: right;\n",
       "    }\n",
       "</style>\n",
       "<table border=\"1\" class=\"dataframe\">\n",
       "  <thead>\n",
       "    <tr style=\"text-align: right;\">\n",
       "      <th></th>\n",
       "      <th>date</th>\n",
       "      <th>time</th>\n",
       "      <th>temperature</th>\n",
       "      <th>pressure</th>\n",
       "      <th>relhum</th>\n",
       "      <th>rainfall_type</th>\n",
       "    </tr>\n",
       "    <tr>\n",
       "      <th>datetime_UTC</th>\n",
       "      <th></th>\n",
       "      <th></th>\n",
       "      <th></th>\n",
       "      <th></th>\n",
       "      <th></th>\n",
       "      <th></th>\n",
       "    </tr>\n",
       "  </thead>\n",
       "  <tbody>\n",
       "    <tr>\n",
       "      <th>2004-05-01 00:00:00</th>\n",
       "      <td>2004-05-01</td>\n",
       "      <td>00:00</td>\n",
       "      <td>78.8</td>\n",
       "      <td>1013.4</td>\n",
       "      <td>14.3</td>\n",
       "      <td>0.0</td>\n",
       "    </tr>\n",
       "    <tr>\n",
       "      <th>2004-05-01 01:00:00</th>\n",
       "      <td>2004-05-01</td>\n",
       "      <td>01:00</td>\n",
       "      <td>80.0</td>\n",
       "      <td>1013.1</td>\n",
       "      <td>17.2</td>\n",
       "      <td>0.0</td>\n",
       "    </tr>\n",
       "    <tr>\n",
       "      <th>2004-05-01 02:00:00</th>\n",
       "      <td>2004-05-01</td>\n",
       "      <td>02:00</td>\n",
       "      <td>79.1</td>\n",
       "      <td>1012.7</td>\n",
       "      <td>16.9</td>\n",
       "      <td>0.0</td>\n",
       "    </tr>\n",
       "    <tr>\n",
       "      <th>2004-05-01 03:00:00</th>\n",
       "      <td>2004-05-01</td>\n",
       "      <td>03:00</td>\n",
       "      <td>77.7</td>\n",
       "      <td>1012.7</td>\n",
       "      <td>18.6</td>\n",
       "      <td>0.0</td>\n",
       "    </tr>\n",
       "    <tr>\n",
       "      <th>2004-05-01 04:00:00</th>\n",
       "      <td>2004-05-01</td>\n",
       "      <td>04:00</td>\n",
       "      <td>72.2</td>\n",
       "      <td>1013.3</td>\n",
       "      <td>29.9</td>\n",
       "      <td>0.0</td>\n",
       "    </tr>\n",
       "    <tr>\n",
       "      <th>...</th>\n",
       "      <td>...</td>\n",
       "      <td>...</td>\n",
       "      <td>...</td>\n",
       "      <td>...</td>\n",
       "      <td>...</td>\n",
       "      <td>...</td>\n",
       "    </tr>\n",
       "    <tr>\n",
       "      <th>2024-05-22 16:00:00</th>\n",
       "      <td>2024-05-22</td>\n",
       "      <td>16:00</td>\n",
       "      <td>49.9</td>\n",
       "      <td>1008.8</td>\n",
       "      <td>84.8</td>\n",
       "      <td>0.0</td>\n",
       "    </tr>\n",
       "    <tr>\n",
       "      <th>2024-05-22 17:00:00</th>\n",
       "      <td>2024-05-22</td>\n",
       "      <td>17:00</td>\n",
       "      <td>51.0</td>\n",
       "      <td>1009.1</td>\n",
       "      <td>74.8</td>\n",
       "      <td>0.0</td>\n",
       "    </tr>\n",
       "    <tr>\n",
       "      <th>2024-05-22 18:00:00</th>\n",
       "      <td>2024-05-22</td>\n",
       "      <td>18:00</td>\n",
       "      <td>54.2</td>\n",
       "      <td>1009.6</td>\n",
       "      <td>63.6</td>\n",
       "      <td>0.0</td>\n",
       "    </tr>\n",
       "    <tr>\n",
       "      <th>2024-05-22 19:00:00</th>\n",
       "      <td>2024-05-22</td>\n",
       "      <td>19:00</td>\n",
       "      <td>53.3</td>\n",
       "      <td>1010.2</td>\n",
       "      <td>63.1</td>\n",
       "      <td>0.0</td>\n",
       "    </tr>\n",
       "    <tr>\n",
       "      <th>2024-05-22 20:00:00</th>\n",
       "      <td>2024-05-22</td>\n",
       "      <td>20:00</td>\n",
       "      <td>54.4</td>\n",
       "      <td>1010.8</td>\n",
       "      <td>61.6</td>\n",
       "      <td>0.0</td>\n",
       "    </tr>\n",
       "  </tbody>\n",
       "</table>\n",
       "<p>175845 rows × 6 columns</p>\n",
       "</div>"
      ],
      "text/plain": [
       "                           date   time  temperature  pressure  relhum  \\\n",
       "datetime_UTC                                                            \n",
       "2004-05-01 00:00:00  2004-05-01  00:00         78.8    1013.4    14.3   \n",
       "2004-05-01 01:00:00  2004-05-01  01:00         80.0    1013.1    17.2   \n",
       "2004-05-01 02:00:00  2004-05-01  02:00         79.1    1012.7    16.9   \n",
       "2004-05-01 03:00:00  2004-05-01  03:00         77.7    1012.7    18.6   \n",
       "2004-05-01 04:00:00  2004-05-01  04:00         72.2    1013.3    29.9   \n",
       "...                         ...    ...          ...       ...     ...   \n",
       "2024-05-22 16:00:00  2024-05-22  16:00         49.9    1008.8    84.8   \n",
       "2024-05-22 17:00:00  2024-05-22  17:00         51.0    1009.1    74.8   \n",
       "2024-05-22 18:00:00  2024-05-22  18:00         54.2    1009.6    63.6   \n",
       "2024-05-22 19:00:00  2024-05-22  19:00         53.3    1010.2    63.1   \n",
       "2024-05-22 20:00:00  2024-05-22  20:00         54.4    1010.8    61.6   \n",
       "\n",
       "                     rainfall_type  \n",
       "datetime_UTC                        \n",
       "2004-05-01 00:00:00            0.0  \n",
       "2004-05-01 01:00:00            0.0  \n",
       "2004-05-01 02:00:00            0.0  \n",
       "2004-05-01 03:00:00            0.0  \n",
       "2004-05-01 04:00:00            0.0  \n",
       "...                            ...  \n",
       "2024-05-22 16:00:00            0.0  \n",
       "2024-05-22 17:00:00            0.0  \n",
       "2024-05-22 18:00:00            0.0  \n",
       "2024-05-22 19:00:00            0.0  \n",
       "2024-05-22 20:00:00            0.0  \n",
       "\n",
       "[175845 rows x 6 columns]"
      ]
     },
     "execution_count": 10,
     "metadata": {},
     "output_type": "execute_result"
    }
   ],
   "source": [
    "# Extract Date, Time, Temperature, SumRain into data array\n",
    "atg_obs_necessary = pd.DataFrame()\n",
    "atg_obs_necessary['date'] = first_obs_each_period['Date'].first()\n",
    "atg_obs_necessary['time'] = first_obs_each_period['Time'].first()\n",
    "atg_obs_necessary['temperature'] = first_obs_each_period['Temperature'].first()\n",
    "atg_obs_necessary['pressure'] = first_obs_each_period['Pressure'].first()\n",
    "atg_obs_necessary['relhum'] = first_obs_each_period['Relhum'].first()\n",
    "atg_obs_necessary['rainfall_type'] = summed_rain_each_period\n",
    "\n",
    "data_arr = atg_obs_necessary.values\n",
    "atg_obs_necessary"
   ]
  },
  {
   "cell_type": "code",
   "execution_count": 11,
   "metadata": {},
   "outputs": [
    {
     "data": {
      "text/html": [
       "<div>\n",
       "<style scoped>\n",
       "    .dataframe tbody tr th:only-of-type {\n",
       "        vertical-align: middle;\n",
       "    }\n",
       "\n",
       "    .dataframe tbody tr th {\n",
       "        vertical-align: top;\n",
       "    }\n",
       "\n",
       "    .dataframe thead th {\n",
       "        text-align: right;\n",
       "    }\n",
       "</style>\n",
       "<table border=\"1\" class=\"dataframe\">\n",
       "  <thead>\n",
       "    <tr style=\"text-align: right;\">\n",
       "      <th></th>\n",
       "      <th>date</th>\n",
       "      <th>time</th>\n",
       "      <th>temperature</th>\n",
       "      <th>pressure</th>\n",
       "      <th>relhum</th>\n",
       "      <th>rainfall_type</th>\n",
       "    </tr>\n",
       "    <tr>\n",
       "      <th>datetime_UTC</th>\n",
       "      <th></th>\n",
       "      <th></th>\n",
       "      <th></th>\n",
       "      <th></th>\n",
       "      <th></th>\n",
       "      <th></th>\n",
       "    </tr>\n",
       "  </thead>\n",
       "  <tbody>\n",
       "    <tr>\n",
       "      <th>2004-05-11 09:00:00</th>\n",
       "      <td>2004-05-11</td>\n",
       "      <td>09:00</td>\n",
       "      <td>49.1</td>\n",
       "      <td>1007.6</td>\n",
       "      <td>86.2</td>\n",
       "      <td>2.0</td>\n",
       "    </tr>\n",
       "    <tr>\n",
       "      <th>2004-08-06 18:00:00</th>\n",
       "      <td>2004-08-06</td>\n",
       "      <td>18:00</td>\n",
       "      <td>60.1</td>\n",
       "      <td>1007.6</td>\n",
       "      <td>84.4</td>\n",
       "      <td>2.0</td>\n",
       "    </tr>\n",
       "    <tr>\n",
       "      <th>2004-08-22 10:00:00</th>\n",
       "      <td>2004-08-22</td>\n",
       "      <td>10:00</td>\n",
       "      <td>63.4</td>\n",
       "      <td>999.8</td>\n",
       "      <td>89.2</td>\n",
       "      <td>2.0</td>\n",
       "    </tr>\n",
       "    <tr>\n",
       "      <th>2004-09-01 13:00:00</th>\n",
       "      <td>2004-09-01</td>\n",
       "      <td>13:00</td>\n",
       "      <td>57.6</td>\n",
       "      <td>1012.6</td>\n",
       "      <td>79.6</td>\n",
       "      <td>2.0</td>\n",
       "    </tr>\n",
       "    <tr>\n",
       "      <th>2004-09-11 05:00:00</th>\n",
       "      <td>2004-09-11</td>\n",
       "      <td>05:00</td>\n",
       "      <td>64.9</td>\n",
       "      <td>1004.5</td>\n",
       "      <td>72.9</td>\n",
       "      <td>2.0</td>\n",
       "    </tr>\n",
       "    <tr>\n",
       "      <th>...</th>\n",
       "      <td>...</td>\n",
       "      <td>...</td>\n",
       "      <td>...</td>\n",
       "      <td>...</td>\n",
       "      <td>...</td>\n",
       "      <td>...</td>\n",
       "    </tr>\n",
       "    <tr>\n",
       "      <th>2024-04-30 01:00:00</th>\n",
       "      <td>2024-04-30</td>\n",
       "      <td>01:00</td>\n",
       "      <td>47.9</td>\n",
       "      <td>1014.4</td>\n",
       "      <td>76.0</td>\n",
       "      <td>2.0</td>\n",
       "    </tr>\n",
       "    <tr>\n",
       "      <th>2024-05-07 07:00:00</th>\n",
       "      <td>2024-05-07</td>\n",
       "      <td>07:00</td>\n",
       "      <td>46.0</td>\n",
       "      <td>1013.1</td>\n",
       "      <td>91.5</td>\n",
       "      <td>2.0</td>\n",
       "    </tr>\n",
       "    <tr>\n",
       "      <th>2024-05-19 11:00:00</th>\n",
       "      <td>2024-05-19</td>\n",
       "      <td>11:00</td>\n",
       "      <td>48.6</td>\n",
       "      <td>1017.7</td>\n",
       "      <td>88.1</td>\n",
       "      <td>2.0</td>\n",
       "    </tr>\n",
       "    <tr>\n",
       "      <th>2024-05-22 09:00:00</th>\n",
       "      <td>2024-05-22</td>\n",
       "      <td>09:00</td>\n",
       "      <td>47.1</td>\n",
       "      <td>1006.1</td>\n",
       "      <td>88.4</td>\n",
       "      <td>2.0</td>\n",
       "    </tr>\n",
       "    <tr>\n",
       "      <th>2024-05-22 10:00:00</th>\n",
       "      <td>2024-05-22</td>\n",
       "      <td>10:00</td>\n",
       "      <td>46.7</td>\n",
       "      <td>1007.0</td>\n",
       "      <td>92.9</td>\n",
       "      <td>2.0</td>\n",
       "    </tr>\n",
       "  </tbody>\n",
       "</table>\n",
       "<p>1302 rows × 6 columns</p>\n",
       "</div>"
      ],
      "text/plain": [
       "                           date   time  temperature  pressure  relhum  \\\n",
       "datetime_UTC                                                            \n",
       "2004-05-11 09:00:00  2004-05-11  09:00         49.1    1007.6    86.2   \n",
       "2004-08-06 18:00:00  2004-08-06  18:00         60.1    1007.6    84.4   \n",
       "2004-08-22 10:00:00  2004-08-22  10:00         63.4     999.8    89.2   \n",
       "2004-09-01 13:00:00  2004-09-01  13:00         57.6    1012.6    79.6   \n",
       "2004-09-11 05:00:00  2004-09-11  05:00         64.9    1004.5    72.9   \n",
       "...                         ...    ...          ...       ...     ...   \n",
       "2024-04-30 01:00:00  2024-04-30  01:00         47.9    1014.4    76.0   \n",
       "2024-05-07 07:00:00  2024-05-07  07:00         46.0    1013.1    91.5   \n",
       "2024-05-19 11:00:00  2024-05-19  11:00         48.6    1017.7    88.1   \n",
       "2024-05-22 09:00:00  2024-05-22  09:00         47.1    1006.1    88.4   \n",
       "2024-05-22 10:00:00  2024-05-22  10:00         46.7    1007.0    92.9   \n",
       "\n",
       "                     rainfall_type  \n",
       "datetime_UTC                        \n",
       "2004-05-11 09:00:00            2.0  \n",
       "2004-08-06 18:00:00            2.0  \n",
       "2004-08-22 10:00:00            2.0  \n",
       "2004-09-01 13:00:00            2.0  \n",
       "2004-09-11 05:00:00            2.0  \n",
       "...                            ...  \n",
       "2024-04-30 01:00:00            2.0  \n",
       "2024-05-07 07:00:00            2.0  \n",
       "2024-05-19 11:00:00            2.0  \n",
       "2024-05-22 09:00:00            2.0  \n",
       "2024-05-22 10:00:00            2.0  \n",
       "\n",
       "[1302 rows x 6 columns]"
      ]
     },
     "execution_count": 11,
     "metadata": {},
     "output_type": "execute_result"
    }
   ],
   "source": [
    "atg_obs_necessary.loc[atg_obs_necessary['rainfall_type']==2]"
   ]
  },
  {
   "cell_type": "code",
   "execution_count": 12,
   "metadata": {},
   "outputs": [
    {
     "data": {
      "text/html": [
       "<div>\n",
       "<style scoped>\n",
       "    .dataframe tbody tr th:only-of-type {\n",
       "        vertical-align: middle;\n",
       "    }\n",
       "\n",
       "    .dataframe tbody tr th {\n",
       "        vertical-align: top;\n",
       "    }\n",
       "\n",
       "    .dataframe thead th {\n",
       "        text-align: right;\n",
       "    }\n",
       "</style>\n",
       "<table border=\"1\" class=\"dataframe\">\n",
       "  <thead>\n",
       "    <tr style=\"text-align: right;\">\n",
       "      <th></th>\n",
       "      <th>date</th>\n",
       "      <th>time</th>\n",
       "      <th>temperature</th>\n",
       "      <th>pressure</th>\n",
       "      <th>relhum</th>\n",
       "      <th>rainfall_type</th>\n",
       "    </tr>\n",
       "    <tr>\n",
       "      <th>datetime_UTC</th>\n",
       "      <th></th>\n",
       "      <th></th>\n",
       "      <th></th>\n",
       "      <th></th>\n",
       "      <th></th>\n",
       "      <th></th>\n",
       "    </tr>\n",
       "  </thead>\n",
       "  <tbody>\n",
       "    <tr>\n",
       "      <th>2004-05-01 00:00:00</th>\n",
       "      <td>2004-05-01</td>\n",
       "      <td>00:00</td>\n",
       "      <td>78.8</td>\n",
       "      <td>1013.4</td>\n",
       "      <td>14.3</td>\n",
       "      <td>0.0</td>\n",
       "    </tr>\n",
       "    <tr>\n",
       "      <th>2004-05-01 01:00:00</th>\n",
       "      <td>2004-05-01</td>\n",
       "      <td>01:00</td>\n",
       "      <td>80.0</td>\n",
       "      <td>1013.1</td>\n",
       "      <td>17.2</td>\n",
       "      <td>0.0</td>\n",
       "    </tr>\n",
       "    <tr>\n",
       "      <th>2004-05-01 02:00:00</th>\n",
       "      <td>2004-05-01</td>\n",
       "      <td>02:00</td>\n",
       "      <td>79.1</td>\n",
       "      <td>1012.7</td>\n",
       "      <td>16.9</td>\n",
       "      <td>0.0</td>\n",
       "    </tr>\n",
       "    <tr>\n",
       "      <th>2004-05-01 03:00:00</th>\n",
       "      <td>2004-05-01</td>\n",
       "      <td>03:00</td>\n",
       "      <td>77.7</td>\n",
       "      <td>1012.7</td>\n",
       "      <td>18.6</td>\n",
       "      <td>0.0</td>\n",
       "    </tr>\n",
       "    <tr>\n",
       "      <th>2004-05-01 04:00:00</th>\n",
       "      <td>2004-05-01</td>\n",
       "      <td>04:00</td>\n",
       "      <td>72.2</td>\n",
       "      <td>1013.3</td>\n",
       "      <td>29.9</td>\n",
       "      <td>0.0</td>\n",
       "    </tr>\n",
       "    <tr>\n",
       "      <th>...</th>\n",
       "      <td>...</td>\n",
       "      <td>...</td>\n",
       "      <td>...</td>\n",
       "      <td>...</td>\n",
       "      <td>...</td>\n",
       "      <td>...</td>\n",
       "    </tr>\n",
       "    <tr>\n",
       "      <th>2024-05-22 16:00:00</th>\n",
       "      <td>2024-05-22</td>\n",
       "      <td>16:00</td>\n",
       "      <td>49.9</td>\n",
       "      <td>1008.8</td>\n",
       "      <td>84.8</td>\n",
       "      <td>0.0</td>\n",
       "    </tr>\n",
       "    <tr>\n",
       "      <th>2024-05-22 17:00:00</th>\n",
       "      <td>2024-05-22</td>\n",
       "      <td>17:00</td>\n",
       "      <td>51.0</td>\n",
       "      <td>1009.1</td>\n",
       "      <td>74.8</td>\n",
       "      <td>0.0</td>\n",
       "    </tr>\n",
       "    <tr>\n",
       "      <th>2024-05-22 18:00:00</th>\n",
       "      <td>2024-05-22</td>\n",
       "      <td>18:00</td>\n",
       "      <td>54.2</td>\n",
       "      <td>1009.6</td>\n",
       "      <td>63.6</td>\n",
       "      <td>0.0</td>\n",
       "    </tr>\n",
       "    <tr>\n",
       "      <th>2024-05-22 19:00:00</th>\n",
       "      <td>2024-05-22</td>\n",
       "      <td>19:00</td>\n",
       "      <td>53.3</td>\n",
       "      <td>1010.2</td>\n",
       "      <td>63.1</td>\n",
       "      <td>0.0</td>\n",
       "    </tr>\n",
       "    <tr>\n",
       "      <th>2024-05-22 20:00:00</th>\n",
       "      <td>2024-05-22</td>\n",
       "      <td>20:00</td>\n",
       "      <td>54.4</td>\n",
       "      <td>1010.8</td>\n",
       "      <td>61.6</td>\n",
       "      <td>0.0</td>\n",
       "    </tr>\n",
       "  </tbody>\n",
       "</table>\n",
       "<p>42997 rows × 6 columns</p>\n",
       "</div>"
      ],
      "text/plain": [
       "                           date   time  temperature  pressure  relhum  \\\n",
       "datetime_UTC                                                            \n",
       "2004-05-01 00:00:00  2004-05-01  00:00         78.8    1013.4    14.3   \n",
       "2004-05-01 01:00:00  2004-05-01  01:00         80.0    1013.1    17.2   \n",
       "2004-05-01 02:00:00  2004-05-01  02:00         79.1    1012.7    16.9   \n",
       "2004-05-01 03:00:00  2004-05-01  03:00         77.7    1012.7    18.6   \n",
       "2004-05-01 04:00:00  2004-05-01  04:00         72.2    1013.3    29.9   \n",
       "...                         ...    ...          ...       ...     ...   \n",
       "2024-05-22 16:00:00  2024-05-22  16:00         49.9    1008.8    84.8   \n",
       "2024-05-22 17:00:00  2024-05-22  17:00         51.0    1009.1    74.8   \n",
       "2024-05-22 18:00:00  2024-05-22  18:00         54.2    1009.6    63.6   \n",
       "2024-05-22 19:00:00  2024-05-22  19:00         53.3    1010.2    63.1   \n",
       "2024-05-22 20:00:00  2024-05-22  20:00         54.4    1010.8    61.6   \n",
       "\n",
       "                     rainfall_type  \n",
       "datetime_UTC                        \n",
       "2004-05-01 00:00:00            0.0  \n",
       "2004-05-01 01:00:00            0.0  \n",
       "2004-05-01 02:00:00            0.0  \n",
       "2004-05-01 03:00:00            0.0  \n",
       "2004-05-01 04:00:00            0.0  \n",
       "...                            ...  \n",
       "2024-05-22 16:00:00            0.0  \n",
       "2024-05-22 17:00:00            0.0  \n",
       "2024-05-22 18:00:00            0.0  \n",
       "2024-05-22 19:00:00            0.0  \n",
       "2024-05-22 20:00:00            0.0  \n",
       "\n",
       "[42997 rows x 6 columns]"
      ]
     },
     "execution_count": 12,
     "metadata": {},
     "output_type": "execute_result"
    }
   ],
   "source": [
    "notable_event_times = atg_obs_necessary.loc[atg_obs_necessary['rainfall_type']>=3].index\n",
    "\n",
    "relevant_times = pd.DataFrame()\n",
    "for event_time in notable_event_times:\n",
    "    # event_time = notable_event_times[1]\n",
    "    if not(event_time in relevant_times.index):\n",
    "        time_around_event = atg_obs_necessary.loc[event_time-pd.Timedelta(days=30):event_time+pd.Timedelta(days=30)].copy()\n",
    "        relevant_times = pd.concat([relevant_times, time_around_event])\n",
    "relevant_times"
   ]
  },
  {
   "cell_type": "code",
   "execution_count": 13,
   "metadata": {},
   "outputs": [
    {
     "data": {
      "image/png": "[encoded data removed]",
      "text/plain": [
       "<Figure size 600x400 with 1 Axes>"
      ]
     },
     "metadata": {},
     "output_type": "display_data"
    },
    {
     "data": {
      "text/plain": [
       "(array([38145,  4341,   464,    47]), array([0, 1, 2, 3, 4]))"
      ]
     },
     "execution_count": 13,
     "metadata": {},
     "output_type": "execute_result"
    }
   ],
   "source": [
    "rain_counts, classes = np.histogram(relevant_times['rainfall_type'].values, bins=np.arange(0,5))\n",
    "\n",
    "plt.figure(figsize=(6,4))\n",
    "# plt.title(f'Hours where it rained at least {rain_thresh} inches')\n",
    "plt.bar(x=np.arange(0,4), width=1, height=rain_counts, facecolor='blue', edgecolor='k', alpha=0.6)\n",
    "plt.ylabel('# of hours')\n",
    "plt.xticks(ticks=np.arange(0,4), labels=['No rain', 'Light rainfall', 'Mid Rainfall', 'Heavy rainfall'])\n",
    "plt.xlabel('Rainfall type')\n",
    "# plt.yscale('log')\n",
    "plt.show()\n",
    "rain_counts, classes"
   ]
  },
  {
   "cell_type": "code",
   "execution_count": 14,
   "metadata": {},
   "outputs": [],
   "source": [
    "train_val_times, test_times = train_test_split(relevant_times,random_state=42,test_size=0.2)"
   ]
  },
  {
   "cell_type": "code",
   "execution_count": 15,
   "metadata": {},
   "outputs": [],
   "source": [
    "train_times, val_times = train_test_split(train_val_times,random_state=42,test_size=0.25)"
   ]
  },
  {
   "cell_type": "code",
   "execution_count": 16,
   "metadata": {},
   "outputs": [
    {
     "data": {
      "text/html": [
       "<div>\n",
       "<style scoped>\n",
       "    .dataframe tbody tr th:only-of-type {\n",
       "        vertical-align: middle;\n",
       "    }\n",
       "\n",
       "    .dataframe tbody tr th {\n",
       "        vertical-align: top;\n",
       "    }\n",
       "\n",
       "    .dataframe thead th {\n",
       "        text-align: right;\n",
       "    }\n",
       "</style>\n",
       "<table border=\"1\" class=\"dataframe\">\n",
       "  <thead>\n",
       "    <tr style=\"text-align: right;\">\n",
       "      <th></th>\n",
       "      <th>date</th>\n",
       "      <th>time</th>\n",
       "      <th>temperature</th>\n",
       "      <th>pressure</th>\n",
       "      <th>relhum</th>\n",
       "      <th>rainfall_type</th>\n",
       "    </tr>\n",
       "    <tr>\n",
       "      <th>datetime_UTC</th>\n",
       "      <th></th>\n",
       "      <th></th>\n",
       "      <th></th>\n",
       "      <th></th>\n",
       "      <th></th>\n",
       "      <th></th>\n",
       "    </tr>\n",
       "  </thead>\n",
       "  <tbody>\n",
       "    <tr>\n",
       "      <th>2016-06-18 17:00:00</th>\n",
       "      <td>2016-06-18</td>\n",
       "      <td>17:00</td>\n",
       "      <td>53.4</td>\n",
       "      <td>1015.2</td>\n",
       "      <td>86.6</td>\n",
       "      <td>1.0</td>\n",
       "    </tr>\n",
       "    <tr>\n",
       "      <th>2004-10-18 16:00:00</th>\n",
       "      <td>2004-10-18</td>\n",
       "      <td>16:00</td>\n",
       "      <td>50.1</td>\n",
       "      <td>995.6</td>\n",
       "      <td>74.1</td>\n",
       "      <td>0.0</td>\n",
       "    </tr>\n",
       "    <tr>\n",
       "      <th>2015-03-12 07:00:00</th>\n",
       "      <td>2015-03-12</td>\n",
       "      <td>07:00</td>\n",
       "      <td>55.2</td>\n",
       "      <td>1016.9</td>\n",
       "      <td>78.5</td>\n",
       "      <td>1.0</td>\n",
       "    </tr>\n",
       "    <tr>\n",
       "      <th>2009-05-11 14:00:00</th>\n",
       "      <td>2009-05-11</td>\n",
       "      <td>14:00</td>\n",
       "      <td>49.7</td>\n",
       "      <td>1010.2</td>\n",
       "      <td>85.3</td>\n",
       "      <td>0.0</td>\n",
       "    </tr>\n",
       "    <tr>\n",
       "      <th>2020-08-31 06:00:00</th>\n",
       "      <td>2020-08-31</td>\n",
       "      <td>06:00</td>\n",
       "      <td>56.4</td>\n",
       "      <td>1013.6</td>\n",
       "      <td>77.2</td>\n",
       "      <td>0.0</td>\n",
       "    </tr>\n",
       "    <tr>\n",
       "      <th>...</th>\n",
       "      <td>...</td>\n",
       "      <td>...</td>\n",
       "      <td>...</td>\n",
       "      <td>...</td>\n",
       "      <td>...</td>\n",
       "      <td>...</td>\n",
       "    </tr>\n",
       "    <tr>\n",
       "      <th>2017-10-31 09:00:00</th>\n",
       "      <td>2017-10-31</td>\n",
       "      <td>09:00</td>\n",
       "      <td>46.9</td>\n",
       "      <td>1016.5</td>\n",
       "      <td>66.1</td>\n",
       "      <td>0.0</td>\n",
       "    </tr>\n",
       "    <tr>\n",
       "      <th>2007-12-30 02:00:00</th>\n",
       "      <td>2007-12-30</td>\n",
       "      <td>02:00</td>\n",
       "      <td>40.3</td>\n",
       "      <td>1002.5</td>\n",
       "      <td>82.9</td>\n",
       "      <td>0.0</td>\n",
       "    </tr>\n",
       "    <tr>\n",
       "      <th>2022-05-29 16:00:00</th>\n",
       "      <td>2022-05-29</td>\n",
       "      <td>16:00</td>\n",
       "      <td>50.2</td>\n",
       "      <td>1008.8</td>\n",
       "      <td>84.9</td>\n",
       "      <td>0.0</td>\n",
       "    </tr>\n",
       "    <tr>\n",
       "      <th>2014-03-03 15:00:00</th>\n",
       "      <td>2014-03-03</td>\n",
       "      <td>15:00</td>\n",
       "      <td>47.8</td>\n",
       "      <td>1000.6</td>\n",
       "      <td>87.7</td>\n",
       "      <td>1.0</td>\n",
       "    </tr>\n",
       "    <tr>\n",
       "      <th>2014-10-25 05:00:00</th>\n",
       "      <td>2014-10-25</td>\n",
       "      <td>05:00</td>\n",
       "      <td>51.8</td>\n",
       "      <td>1006.2</td>\n",
       "      <td>83.1</td>\n",
       "      <td>1.0</td>\n",
       "    </tr>\n",
       "  </tbody>\n",
       "</table>\n",
       "<p>25797 rows × 6 columns</p>\n",
       "</div>"
      ],
      "text/plain": [
       "                           date   time  temperature  pressure  relhum  \\\n",
       "datetime_UTC                                                            \n",
       "2016-06-18 17:00:00  2016-06-18  17:00         53.4    1015.2    86.6   \n",
       "2004-10-18 16:00:00  2004-10-18  16:00         50.1     995.6    74.1   \n",
       "2015-03-12 07:00:00  2015-03-12  07:00         55.2    1016.9    78.5   \n",
       "2009-05-11 14:00:00  2009-05-11  14:00         49.7    1010.2    85.3   \n",
       "2020-08-31 06:00:00  2020-08-31  06:00         56.4    1013.6    77.2   \n",
       "...                         ...    ...          ...       ...     ...   \n",
       "2017-10-31 09:00:00  2017-10-31  09:00         46.9    1016.5    66.1   \n",
       "2007-12-30 02:00:00  2007-12-30  02:00         40.3    1002.5    82.9   \n",
       "2022-05-29 16:00:00  2022-05-29  16:00         50.2    1008.8    84.9   \n",
       "2014-03-03 15:00:00  2014-03-03  15:00         47.8    1000.6    87.7   \n",
       "2014-10-25 05:00:00  2014-10-25  05:00         51.8    1006.2    83.1   \n",
       "\n",
       "                     rainfall_type  \n",
       "datetime_UTC                        \n",
       "2016-06-18 17:00:00            1.0  \n",
       "2004-10-18 16:00:00            0.0  \n",
       "2015-03-12 07:00:00            1.0  \n",
       "2009-05-11 14:00:00            0.0  \n",
       "2020-08-31 06:00:00            0.0  \n",
       "...                            ...  \n",
       "2017-10-31 09:00:00            0.0  \n",
       "2007-12-30 02:00:00            0.0  \n",
       "2022-05-29 16:00:00            0.0  \n",
       "2014-03-03 15:00:00            1.0  \n",
       "2014-10-25 05:00:00            1.0  \n",
       "\n",
       "[25797 rows x 6 columns]"
      ]
     },
     "execution_count": 16,
     "metadata": {},
     "output_type": "execute_result"
    }
   ],
   "source": [
    "train_times"
   ]
  },
  {
   "cell_type": "code",
   "execution_count": 17,
   "metadata": {},
   "outputs": [
    {
     "data": {
      "text/html": [
       "<div>\n",
       "<style scoped>\n",
       "    .dataframe tbody tr th:only-of-type {\n",
       "        vertical-align: middle;\n",
       "    }\n",
       "\n",
       "    .dataframe tbody tr th {\n",
       "        vertical-align: top;\n",
       "    }\n",
       "\n",
       "    .dataframe thead th {\n",
       "        text-align: right;\n",
       "    }\n",
       "</style>\n",
       "<table border=\"1\" class=\"dataframe\">\n",
       "  <thead>\n",
       "    <tr style=\"text-align: right;\">\n",
       "      <th></th>\n",
       "      <th>date</th>\n",
       "      <th>time</th>\n",
       "      <th>temperature</th>\n",
       "      <th>pressure</th>\n",
       "      <th>relhum</th>\n",
       "      <th>rainfall_type</th>\n",
       "    </tr>\n",
       "    <tr>\n",
       "      <th>datetime_UTC</th>\n",
       "      <th></th>\n",
       "      <th></th>\n",
       "      <th></th>\n",
       "      <th></th>\n",
       "      <th></th>\n",
       "      <th></th>\n",
       "    </tr>\n",
       "  </thead>\n",
       "  <tbody>\n",
       "    <tr>\n",
       "      <th>2012-11-26 05:00:00</th>\n",
       "      <td>2012-11-26</td>\n",
       "      <td>05:00</td>\n",
       "      <td>40.9</td>\n",
       "      <td>1020.3</td>\n",
       "      <td>81.7</td>\n",
       "      <td>0.0</td>\n",
       "    </tr>\n",
       "    <tr>\n",
       "      <th>2020-10-22 22:00:00</th>\n",
       "      <td>2020-10-22</td>\n",
       "      <td>22:00</td>\n",
       "      <td>51.9</td>\n",
       "      <td>1024.8</td>\n",
       "      <td>61.1</td>\n",
       "      <td>0.0</td>\n",
       "    </tr>\n",
       "    <tr>\n",
       "      <th>2009-06-04 19:00:00</th>\n",
       "      <td>2009-06-04</td>\n",
       "      <td>19:00</td>\n",
       "      <td>77.3</td>\n",
       "      <td>1005.5</td>\n",
       "      <td>32.1</td>\n",
       "      <td>0.0</td>\n",
       "    </tr>\n",
       "    <tr>\n",
       "      <th>2021-12-22 20:00:00</th>\n",
       "      <td>2021-12-22</td>\n",
       "      <td>20:00</td>\n",
       "      <td>50.1</td>\n",
       "      <td>998.8</td>\n",
       "      <td>68.8</td>\n",
       "      <td>0.0</td>\n",
       "    </tr>\n",
       "    <tr>\n",
       "      <th>2015-02-21 06:00:00</th>\n",
       "      <td>2015-02-21</td>\n",
       "      <td>06:00</td>\n",
       "      <td>48.3</td>\n",
       "      <td>1020.5</td>\n",
       "      <td>78.6</td>\n",
       "      <td>0.0</td>\n",
       "    </tr>\n",
       "    <tr>\n",
       "      <th>...</th>\n",
       "      <td>...</td>\n",
       "      <td>...</td>\n",
       "      <td>...</td>\n",
       "      <td>...</td>\n",
       "      <td>...</td>\n",
       "      <td>...</td>\n",
       "    </tr>\n",
       "    <tr>\n",
       "      <th>2004-09-13 20:00:00</th>\n",
       "      <td>2004-09-13</td>\n",
       "      <td>20:00</td>\n",
       "      <td>63.1</td>\n",
       "      <td>1003.5</td>\n",
       "      <td>64.6</td>\n",
       "      <td>0.0</td>\n",
       "    </tr>\n",
       "    <tr>\n",
       "      <th>2012-11-19 07:00:00</th>\n",
       "      <td>2012-11-19</td>\n",
       "      <td>07:00</td>\n",
       "      <td>49.4</td>\n",
       "      <td>997.2</td>\n",
       "      <td>73.8</td>\n",
       "      <td>0.0</td>\n",
       "    </tr>\n",
       "    <tr>\n",
       "      <th>2009-06-18 18:00:00</th>\n",
       "      <td>2009-06-18</td>\n",
       "      <td>18:00</td>\n",
       "      <td>61.9</td>\n",
       "      <td>1012.3</td>\n",
       "      <td>70.6</td>\n",
       "      <td>0.0</td>\n",
       "    </tr>\n",
       "    <tr>\n",
       "      <th>2004-11-29 08:00:00</th>\n",
       "      <td>2004-11-29</td>\n",
       "      <td>08:00</td>\n",
       "      <td>36.2</td>\n",
       "      <td>1029.7</td>\n",
       "      <td>86.8</td>\n",
       "      <td>0.0</td>\n",
       "    </tr>\n",
       "    <tr>\n",
       "      <th>2023-01-21 23:00:00</th>\n",
       "      <td>2023-01-21</td>\n",
       "      <td>23:00</td>\n",
       "      <td>43.3</td>\n",
       "      <td>1014.3</td>\n",
       "      <td>80.7</td>\n",
       "      <td>1.0</td>\n",
       "    </tr>\n",
       "  </tbody>\n",
       "</table>\n",
       "<p>8600 rows × 6 columns</p>\n",
       "</div>"
      ],
      "text/plain": [
       "                           date   time  temperature  pressure  relhum  \\\n",
       "datetime_UTC                                                            \n",
       "2012-11-26 05:00:00  2012-11-26  05:00         40.9    1020.3    81.7   \n",
       "2020-10-22 22:00:00  2020-10-22  22:00         51.9    1024.8    61.1   \n",
       "2009-06-04 19:00:00  2009-06-04  19:00         77.3    1005.5    32.1   \n",
       "2021-12-22 20:00:00  2021-12-22  20:00         50.1     998.8    68.8   \n",
       "2015-02-21 06:00:00  2015-02-21  06:00         48.3    1020.5    78.6   \n",
       "...                         ...    ...          ...       ...     ...   \n",
       "2004-09-13 20:00:00  2004-09-13  20:00         63.1    1003.5    64.6   \n",
       "2012-11-19 07:00:00  2012-11-19  07:00         49.4     997.2    73.8   \n",
       "2009-06-18 18:00:00  2009-06-18  18:00         61.9    1012.3    70.6   \n",
       "2004-11-29 08:00:00  2004-11-29  08:00         36.2    1029.7    86.8   \n",
       "2023-01-21 23:00:00  2023-01-21  23:00         43.3    1014.3    80.7   \n",
       "\n",
       "                     rainfall_type  \n",
       "datetime_UTC                        \n",
       "2012-11-26 05:00:00            0.0  \n",
       "2020-10-22 22:00:00            0.0  \n",
       "2009-06-04 19:00:00            0.0  \n",
       "2021-12-22 20:00:00            0.0  \n",
       "2015-02-21 06:00:00            0.0  \n",
       "...                            ...  \n",
       "2004-09-13 20:00:00            0.0  \n",
       "2012-11-19 07:00:00            0.0  \n",
       "2009-06-18 18:00:00            0.0  \n",
       "2004-11-29 08:00:00            0.0  \n",
       "2023-01-21 23:00:00            1.0  \n",
       "\n",
       "[8600 rows x 6 columns]"
      ]
     },
     "execution_count": 17,
     "metadata": {},
     "output_type": "execute_result"
    }
   ],
   "source": [
    "val_times"
   ]
  },
  {
   "cell_type": "code",
   "execution_count": 18,
   "metadata": {},
   "outputs": [
    {
     "data": {
      "text/html": [
       "<div>\n",
       "<style scoped>\n",
       "    .dataframe tbody tr th:only-of-type {\n",
       "        vertical-align: middle;\n",
       "    }\n",
       "\n",
       "    .dataframe tbody tr th {\n",
       "        vertical-align: top;\n",
       "    }\n",
       "\n",
       "    .dataframe thead th {\n",
       "        text-align: right;\n",
       "    }\n",
       "</style>\n",
       "<table border=\"1\" class=\"dataframe\">\n",
       "  <thead>\n",
       "    <tr style=\"text-align: right;\">\n",
       "      <th></th>\n",
       "      <th>date</th>\n",
       "      <th>time</th>\n",
       "      <th>temperature</th>\n",
       "      <th>pressure</th>\n",
       "      <th>relhum</th>\n",
       "      <th>rainfall_type</th>\n",
       "    </tr>\n",
       "    <tr>\n",
       "      <th>datetime_UTC</th>\n",
       "      <th></th>\n",
       "      <th></th>\n",
       "      <th></th>\n",
       "      <th></th>\n",
       "      <th></th>\n",
       "      <th></th>\n",
       "    </tr>\n",
       "  </thead>\n",
       "  <tbody>\n",
       "    <tr>\n",
       "      <th>2021-01-07 19:00:00</th>\n",
       "      <td>2021-01-07</td>\n",
       "      <td>19:00</td>\n",
       "      <td>47.1</td>\n",
       "      <td>1021.4</td>\n",
       "      <td>80.0</td>\n",
       "      <td>0.0</td>\n",
       "    </tr>\n",
       "    <tr>\n",
       "      <th>2017-10-26 18:00:00</th>\n",
       "      <td>2017-10-26</td>\n",
       "      <td>18:00</td>\n",
       "      <td>52.7</td>\n",
       "      <td>1021.3</td>\n",
       "      <td>81.0</td>\n",
       "      <td>0.0</td>\n",
       "    </tr>\n",
       "    <tr>\n",
       "      <th>2009-06-12 05:00:00</th>\n",
       "      <td>2009-06-12</td>\n",
       "      <td>05:00</td>\n",
       "      <td>63.7</td>\n",
       "      <td>1009.9</td>\n",
       "      <td>60.0</td>\n",
       "      <td>0.0</td>\n",
       "    </tr>\n",
       "    <tr>\n",
       "      <th>2014-10-19 18:00:00</th>\n",
       "      <td>2014-10-19</td>\n",
       "      <td>18:00</td>\n",
       "      <td>64.7</td>\n",
       "      <td>1003.2</td>\n",
       "      <td>67.0</td>\n",
       "      <td>0.0</td>\n",
       "    </tr>\n",
       "    <tr>\n",
       "      <th>2015-11-03 15:00:00</th>\n",
       "      <td>2015-11-03</td>\n",
       "      <td>15:00</td>\n",
       "      <td>46.4</td>\n",
       "      <td>1012.4</td>\n",
       "      <td>85.0</td>\n",
       "      <td>0.0</td>\n",
       "    </tr>\n",
       "    <tr>\n",
       "      <th>...</th>\n",
       "      <td>...</td>\n",
       "      <td>...</td>\n",
       "      <td>...</td>\n",
       "      <td>...</td>\n",
       "      <td>...</td>\n",
       "      <td>...</td>\n",
       "    </tr>\n",
       "    <tr>\n",
       "      <th>2021-12-12 19:00:00</th>\n",
       "      <td>2021-12-12</td>\n",
       "      <td>19:00</td>\n",
       "      <td>41.4</td>\n",
       "      <td>999.4</td>\n",
       "      <td>67.9</td>\n",
       "      <td>0.0</td>\n",
       "    </tr>\n",
       "    <tr>\n",
       "      <th>2023-01-07 20:00:00</th>\n",
       "      <td>2023-01-07</td>\n",
       "      <td>20:00</td>\n",
       "      <td>47.4</td>\n",
       "      <td>1006.1</td>\n",
       "      <td>89.9</td>\n",
       "      <td>1.0</td>\n",
       "    </tr>\n",
       "    <tr>\n",
       "      <th>2013-04-13 18:00:00</th>\n",
       "      <td>2013-04-13</td>\n",
       "      <td>18:00</td>\n",
       "      <td>43.3</td>\n",
       "      <td>1008.0</td>\n",
       "      <td>71.6</td>\n",
       "      <td>0.0</td>\n",
       "    </tr>\n",
       "    <tr>\n",
       "      <th>2020-10-02 05:00:00</th>\n",
       "      <td>2020-10-02</td>\n",
       "      <td>05:00</td>\n",
       "      <td>62.1</td>\n",
       "      <td>1016.4</td>\n",
       "      <td>77.1</td>\n",
       "      <td>0.0</td>\n",
       "    </tr>\n",
       "    <tr>\n",
       "      <th>2019-12-19 13:00:00</th>\n",
       "      <td>2019-12-19</td>\n",
       "      <td>13:00</td>\n",
       "      <td>43.1</td>\n",
       "      <td>1006.2</td>\n",
       "      <td>88.5</td>\n",
       "      <td>0.0</td>\n",
       "    </tr>\n",
       "  </tbody>\n",
       "</table>\n",
       "<p>8600 rows × 6 columns</p>\n",
       "</div>"
      ],
      "text/plain": [
       "                           date   time  temperature  pressure  relhum  \\\n",
       "datetime_UTC                                                            \n",
       "2021-01-07 19:00:00  2021-01-07  19:00         47.1    1021.4    80.0   \n",
       "2017-10-26 18:00:00  2017-10-26  18:00         52.7    1021.3    81.0   \n",
       "2009-06-12 05:00:00  2009-06-12  05:00         63.7    1009.9    60.0   \n",
       "2014-10-19 18:00:00  2014-10-19  18:00         64.7    1003.2    67.0   \n",
       "2015-11-03 15:00:00  2015-11-03  15:00         46.4    1012.4    85.0   \n",
       "...                         ...    ...          ...       ...     ...   \n",
       "2021-12-12 19:00:00  2021-12-12  19:00         41.4     999.4    67.9   \n",
       "2023-01-07 20:00:00  2023-01-07  20:00         47.4    1006.1    89.9   \n",
       "2013-04-13 18:00:00  2013-04-13  18:00         43.3    1008.0    71.6   \n",
       "2020-10-02 05:00:00  2020-10-02  05:00         62.1    1016.4    77.1   \n",
       "2019-12-19 13:00:00  2019-12-19  13:00         43.1    1006.2    88.5   \n",
       "\n",
       "                     rainfall_type  \n",
       "datetime_UTC                        \n",
       "2021-01-07 19:00:00            0.0  \n",
       "2017-10-26 18:00:00            0.0  \n",
       "2009-06-12 05:00:00            0.0  \n",
       "2014-10-19 18:00:00            0.0  \n",
       "2015-11-03 15:00:00            0.0  \n",
       "...                            ...  \n",
       "2021-12-12 19:00:00            0.0  \n",
       "2023-01-07 20:00:00            1.0  \n",
       "2013-04-13 18:00:00            0.0  \n",
       "2020-10-02 05:00:00            0.0  \n",
       "2019-12-19 13:00:00            0.0  \n",
       "\n",
       "[8600 rows x 6 columns]"
      ]
     },
     "execution_count": 18,
     "metadata": {},
     "output_type": "execute_result"
    }
   ],
   "source": [
    "test_times"
   ]
  },
  {
   "cell_type": "code",
   "execution_count": 19,
   "metadata": {},
   "outputs": [],
   "source": [
    "def get_processed_df_from_data(dataset):\n",
    "    date_objs = pd.to_datetime(dataset['date'], format=\"%Y-%m-%d\")\n",
    "    time_objs = pd.to_datetime(dataset['time'], format='%H:%M')\n",
    "\n",
    "    days_of_year = pd.DatetimeIndex(date_objs).dayofyear\n",
    "    months = pd.DatetimeIndex(date_objs).month\n",
    "    times_in_hours_from_zero = (pd.DatetimeIndex(time_objs).hour + (pd.DatetimeIndex(time_objs).minute/60))\n",
    "    hours = pd.DatetimeIndex(time_objs).hour\n",
    "\n",
    "    processed_df = pd.DataFrame()\n",
    "    processed_df['months_from_july'] = (np.abs(months - 7))\n",
    "    # processed_df['month'] = months\n",
    "    processed_df['time_of_day'] = ((hours-8)%24) // 6\n",
    "    # processed_df['days_of_year'] = days_of_year\n",
    "    # processed_df['times_in_hours_from_zero'] = times_in_hours_from_zero\n",
    "\n",
    "    vals = dataset['temperature']\n",
    "    med_val = vals.median()\n",
    "    dif_vals = np.abs(vals-med_val)\n",
    "    max_normval = dif_vals.max()\n",
    "    norm_vals = 1-(dif_vals/max_normval)\n",
    "    processed_df['feature_1'] = vals.values\n",
    "\n",
    "    vals = dataset['relhum']\n",
    "    med_val = vals.median()\n",
    "    dif_vals = np.abs(vals-med_val)\n",
    "    max_normval = dif_vals.max()\n",
    "    norm_vals = 1-(dif_vals/max_normval)\n",
    "    processed_df['feature_2'] = vals.values\n",
    "\n",
    "    vals = dataset['pressure']\n",
    "    med_val = vals.median()\n",
    "    dif_vals = np.abs(vals-med_val)\n",
    "    max_normval = dif_vals.max()\n",
    "    norm_vals = 1-(dif_vals/max_normval)\n",
    "    processed_df['feature_3'] = vals.values\n",
    "\n",
    "    processed_df['class'] = dataset['rainfall_type'].values\n",
    "    return processed_df"
   ]
  },
  {
   "cell_type": "code",
   "execution_count": 20,
   "metadata": {},
   "outputs": [],
   "source": [
    "processed_df_train = get_processed_df_from_data(train_times)\n",
    "processed_df_val = get_processed_df_from_data(val_times)\n",
    "processed_df_test = get_processed_df_from_data(test_times)"
   ]
  },
  {
   "cell_type": "code",
   "execution_count": 21,
   "metadata": {},
   "outputs": [
    {
     "data": {
      "text/html": [
       "<div>\n",
       "<style scoped>\n",
       "    .dataframe tbody tr th:only-of-type {\n",
       "        vertical-align: middle;\n",
       "    }\n",
       "\n",
       "    .dataframe tbody tr th {\n",
       "        vertical-align: top;\n",
       "    }\n",
       "\n",
       "    .dataframe thead th {\n",
       "        text-align: right;\n",
       "    }\n",
       "</style>\n",
       "<table border=\"1\" class=\"dataframe\">\n",
       "  <thead>\n",
       "    <tr style=\"text-align: right;\">\n",
       "      <th></th>\n",
       "      <th>months_from_july</th>\n",
       "      <th>time_of_day</th>\n",
       "      <th>feature_1</th>\n",
       "      <th>feature_2</th>\n",
       "      <th>feature_3</th>\n",
       "      <th>class</th>\n",
       "    </tr>\n",
       "  </thead>\n",
       "  <tbody>\n",
       "    <tr>\n",
       "      <th>0</th>\n",
       "      <td>1.0</td>\n",
       "      <td>1.0</td>\n",
       "      <td>53.4</td>\n",
       "      <td>86.6</td>\n",
       "      <td>1015.2</td>\n",
       "      <td>1.0</td>\n",
       "    </tr>\n",
       "    <tr>\n",
       "      <th>1</th>\n",
       "      <td>3.0</td>\n",
       "      <td>1.0</td>\n",
       "      <td>50.1</td>\n",
       "      <td>74.1</td>\n",
       "      <td>995.6</td>\n",
       "      <td>0.0</td>\n",
       "    </tr>\n",
       "    <tr>\n",
       "      <th>2</th>\n",
       "      <td>4.0</td>\n",
       "      <td>3.0</td>\n",
       "      <td>55.2</td>\n",
       "      <td>78.5</td>\n",
       "      <td>1016.9</td>\n",
       "      <td>1.0</td>\n",
       "    </tr>\n",
       "    <tr>\n",
       "      <th>3</th>\n",
       "      <td>2.0</td>\n",
       "      <td>1.0</td>\n",
       "      <td>49.7</td>\n",
       "      <td>85.3</td>\n",
       "      <td>1010.2</td>\n",
       "      <td>0.0</td>\n",
       "    </tr>\n",
       "    <tr>\n",
       "      <th>4</th>\n",
       "      <td>1.0</td>\n",
       "      <td>3.0</td>\n",
       "      <td>56.4</td>\n",
       "      <td>77.2</td>\n",
       "      <td>1013.6</td>\n",
       "      <td>0.0</td>\n",
       "    </tr>\n",
       "    <tr>\n",
       "      <th>...</th>\n",
       "      <td>...</td>\n",
       "      <td>...</td>\n",
       "      <td>...</td>\n",
       "      <td>...</td>\n",
       "      <td>...</td>\n",
       "      <td>...</td>\n",
       "    </tr>\n",
       "    <tr>\n",
       "      <th>25792</th>\n",
       "      <td>3.0</td>\n",
       "      <td>0.0</td>\n",
       "      <td>46.9</td>\n",
       "      <td>66.1</td>\n",
       "      <td>1016.5</td>\n",
       "      <td>0.0</td>\n",
       "    </tr>\n",
       "    <tr>\n",
       "      <th>25793</th>\n",
       "      <td>5.0</td>\n",
       "      <td>3.0</td>\n",
       "      <td>40.3</td>\n",
       "      <td>82.9</td>\n",
       "      <td>1002.5</td>\n",
       "      <td>0.0</td>\n",
       "    </tr>\n",
       "    <tr>\n",
       "      <th>25794</th>\n",
       "      <td>2.0</td>\n",
       "      <td>1.0</td>\n",
       "      <td>50.2</td>\n",
       "      <td>84.9</td>\n",
       "      <td>1008.8</td>\n",
       "      <td>0.0</td>\n",
       "    </tr>\n",
       "    <tr>\n",
       "      <th>25795</th>\n",
       "      <td>4.0</td>\n",
       "      <td>1.0</td>\n",
       "      <td>47.8</td>\n",
       "      <td>87.7</td>\n",
       "      <td>1000.6</td>\n",
       "      <td>1.0</td>\n",
       "    </tr>\n",
       "    <tr>\n",
       "      <th>25796</th>\n",
       "      <td>3.0</td>\n",
       "      <td>3.0</td>\n",
       "      <td>51.8</td>\n",
       "      <td>83.1</td>\n",
       "      <td>1006.2</td>\n",
       "      <td>1.0</td>\n",
       "    </tr>\n",
       "  </tbody>\n",
       "</table>\n",
       "<p>25797 rows × 6 columns</p>\n",
       "</div>"
      ],
      "text/plain": [
       "       months_from_july  time_of_day  feature_1  feature_2  feature_3  class\n",
       "0                   1.0          1.0       53.4       86.6     1015.2    1.0\n",
       "1                   3.0          1.0       50.1       74.1      995.6    0.0\n",
       "2                   4.0          3.0       55.2       78.5     1016.9    1.0\n",
       "3                   2.0          1.0       49.7       85.3     1010.2    0.0\n",
       "4                   1.0          3.0       56.4       77.2     1013.6    0.0\n",
       "...                 ...          ...        ...        ...        ...    ...\n",
       "25792               3.0          0.0       46.9       66.1     1016.5    0.0\n",
       "25793               5.0          3.0       40.3       82.9     1002.5    0.0\n",
       "25794               2.0          1.0       50.2       84.9     1008.8    0.0\n",
       "25795               4.0          1.0       47.8       87.7     1000.6    1.0\n",
       "25796               3.0          3.0       51.8       83.1     1006.2    1.0\n",
       "\n",
       "[25797 rows x 6 columns]"
      ]
     },
     "execution_count": 21,
     "metadata": {},
     "output_type": "execute_result"
    }
   ],
   "source": [
    "processed_df_train"
   ]
  },
  {
   "cell_type": "code",
   "execution_count": 22,
   "metadata": {},
   "outputs": [
    {
     "data": {
      "text/html": [
       "<div>\n",
       "<style scoped>\n",
       "    .dataframe tbody tr th:only-of-type {\n",
       "        vertical-align: middle;\n",
       "    }\n",
       "\n",
       "    .dataframe tbody tr th {\n",
       "        vertical-align: top;\n",
       "    }\n",
       "\n",
       "    .dataframe thead th {\n",
       "        text-align: right;\n",
       "    }\n",
       "</style>\n",
       "<table border=\"1\" class=\"dataframe\">\n",
       "  <thead>\n",
       "    <tr style=\"text-align: right;\">\n",
       "      <th></th>\n",
       "      <th>months_from_july</th>\n",
       "      <th>time_of_day</th>\n",
       "      <th>feature_1</th>\n",
       "      <th>feature_2</th>\n",
       "      <th>feature_3</th>\n",
       "      <th>class</th>\n",
       "    </tr>\n",
       "  </thead>\n",
       "  <tbody>\n",
       "    <tr>\n",
       "      <th>0</th>\n",
       "      <td>4.0</td>\n",
       "      <td>3.0</td>\n",
       "      <td>40.9</td>\n",
       "      <td>81.7</td>\n",
       "      <td>1020.3</td>\n",
       "      <td>0.0</td>\n",
       "    </tr>\n",
       "    <tr>\n",
       "      <th>1</th>\n",
       "      <td>3.0</td>\n",
       "      <td>2.0</td>\n",
       "      <td>51.9</td>\n",
       "      <td>61.1</td>\n",
       "      <td>1024.8</td>\n",
       "      <td>0.0</td>\n",
       "    </tr>\n",
       "    <tr>\n",
       "      <th>2</th>\n",
       "      <td>1.0</td>\n",
       "      <td>1.0</td>\n",
       "      <td>77.3</td>\n",
       "      <td>32.1</td>\n",
       "      <td>1005.5</td>\n",
       "      <td>0.0</td>\n",
       "    </tr>\n",
       "    <tr>\n",
       "      <th>3</th>\n",
       "      <td>5.0</td>\n",
       "      <td>2.0</td>\n",
       "      <td>50.1</td>\n",
       "      <td>68.8</td>\n",
       "      <td>998.8</td>\n",
       "      <td>0.0</td>\n",
       "    </tr>\n",
       "    <tr>\n",
       "      <th>4</th>\n",
       "      <td>5.0</td>\n",
       "      <td>3.0</td>\n",
       "      <td>48.3</td>\n",
       "      <td>78.6</td>\n",
       "      <td>1020.5</td>\n",
       "      <td>0.0</td>\n",
       "    </tr>\n",
       "    <tr>\n",
       "      <th>...</th>\n",
       "      <td>...</td>\n",
       "      <td>...</td>\n",
       "      <td>...</td>\n",
       "      <td>...</td>\n",
       "      <td>...</td>\n",
       "      <td>...</td>\n",
       "    </tr>\n",
       "    <tr>\n",
       "      <th>8595</th>\n",
       "      <td>2.0</td>\n",
       "      <td>2.0</td>\n",
       "      <td>63.1</td>\n",
       "      <td>64.6</td>\n",
       "      <td>1003.5</td>\n",
       "      <td>0.0</td>\n",
       "    </tr>\n",
       "    <tr>\n",
       "      <th>8596</th>\n",
       "      <td>4.0</td>\n",
       "      <td>3.0</td>\n",
       "      <td>49.4</td>\n",
       "      <td>73.8</td>\n",
       "      <td>997.2</td>\n",
       "      <td>0.0</td>\n",
       "    </tr>\n",
       "    <tr>\n",
       "      <th>8597</th>\n",
       "      <td>1.0</td>\n",
       "      <td>1.0</td>\n",
       "      <td>61.9</td>\n",
       "      <td>70.6</td>\n",
       "      <td>1012.3</td>\n",
       "      <td>0.0</td>\n",
       "    </tr>\n",
       "    <tr>\n",
       "      <th>8598</th>\n",
       "      <td>4.0</td>\n",
       "      <td>0.0</td>\n",
       "      <td>36.2</td>\n",
       "      <td>86.8</td>\n",
       "      <td>1029.7</td>\n",
       "      <td>0.0</td>\n",
       "    </tr>\n",
       "    <tr>\n",
       "      <th>8599</th>\n",
       "      <td>6.0</td>\n",
       "      <td>2.0</td>\n",
       "      <td>43.3</td>\n",
       "      <td>80.7</td>\n",
       "      <td>1014.3</td>\n",
       "      <td>1.0</td>\n",
       "    </tr>\n",
       "  </tbody>\n",
       "</table>\n",
       "<p>8600 rows × 6 columns</p>\n",
       "</div>"
      ],
      "text/plain": [
       "      months_from_july  time_of_day  feature_1  feature_2  feature_3  class\n",
       "0                  4.0          3.0       40.9       81.7     1020.3    0.0\n",
       "1                  3.0          2.0       51.9       61.1     1024.8    0.0\n",
       "2                  1.0          1.0       77.3       32.1     1005.5    0.0\n",
       "3                  5.0          2.0       50.1       68.8      998.8    0.0\n",
       "4                  5.0          3.0       48.3       78.6     1020.5    0.0\n",
       "...                ...          ...        ...        ...        ...    ...\n",
       "8595               2.0          2.0       63.1       64.6     1003.5    0.0\n",
       "8596               4.0          3.0       49.4       73.8      997.2    0.0\n",
       "8597               1.0          1.0       61.9       70.6     1012.3    0.0\n",
       "8598               4.0          0.0       36.2       86.8     1029.7    0.0\n",
       "8599               6.0          2.0       43.3       80.7     1014.3    1.0\n",
       "\n",
       "[8600 rows x 6 columns]"
      ]
     },
     "execution_count": 22,
     "metadata": {},
     "output_type": "execute_result"
    }
   ],
   "source": [
    "processed_df_val"
   ]
  },
  {
   "cell_type": "code",
   "execution_count": 23,
   "metadata": {},
   "outputs": [
    {
     "data": {
      "text/html": [
       "<div>\n",
       "<style scoped>\n",
       "    .dataframe tbody tr th:only-of-type {\n",
       "        vertical-align: middle;\n",
       "    }\n",
       "\n",
       "    .dataframe tbody tr th {\n",
       "        vertical-align: top;\n",
       "    }\n",
       "\n",
       "    .dataframe thead th {\n",
       "        text-align: right;\n",
       "    }\n",
       "</style>\n",
       "<table border=\"1\" class=\"dataframe\">\n",
       "  <thead>\n",
       "    <tr style=\"text-align: right;\">\n",
       "      <th></th>\n",
       "      <th>months_from_july</th>\n",
       "      <th>time_of_day</th>\n",
       "      <th>feature_1</th>\n",
       "      <th>feature_2</th>\n",
       "      <th>feature_3</th>\n",
       "      <th>class</th>\n",
       "    </tr>\n",
       "  </thead>\n",
       "  <tbody>\n",
       "    <tr>\n",
       "      <th>0</th>\n",
       "      <td>6.0</td>\n",
       "      <td>1.0</td>\n",
       "      <td>47.1</td>\n",
       "      <td>80.0</td>\n",
       "      <td>1021.4</td>\n",
       "      <td>0.0</td>\n",
       "    </tr>\n",
       "    <tr>\n",
       "      <th>1</th>\n",
       "      <td>3.0</td>\n",
       "      <td>1.0</td>\n",
       "      <td>52.7</td>\n",
       "      <td>81.0</td>\n",
       "      <td>1021.3</td>\n",
       "      <td>0.0</td>\n",
       "    </tr>\n",
       "    <tr>\n",
       "      <th>2</th>\n",
       "      <td>1.0</td>\n",
       "      <td>3.0</td>\n",
       "      <td>63.7</td>\n",
       "      <td>60.0</td>\n",
       "      <td>1009.9</td>\n",
       "      <td>0.0</td>\n",
       "    </tr>\n",
       "    <tr>\n",
       "      <th>3</th>\n",
       "      <td>3.0</td>\n",
       "      <td>1.0</td>\n",
       "      <td>64.7</td>\n",
       "      <td>67.0</td>\n",
       "      <td>1003.2</td>\n",
       "      <td>0.0</td>\n",
       "    </tr>\n",
       "    <tr>\n",
       "      <th>4</th>\n",
       "      <td>4.0</td>\n",
       "      <td>1.0</td>\n",
       "      <td>46.4</td>\n",
       "      <td>85.0</td>\n",
       "      <td>1012.4</td>\n",
       "      <td>0.0</td>\n",
       "    </tr>\n",
       "    <tr>\n",
       "      <th>...</th>\n",
       "      <td>...</td>\n",
       "      <td>...</td>\n",
       "      <td>...</td>\n",
       "      <td>...</td>\n",
       "      <td>...</td>\n",
       "      <td>...</td>\n",
       "    </tr>\n",
       "    <tr>\n",
       "      <th>8595</th>\n",
       "      <td>5.0</td>\n",
       "      <td>1.0</td>\n",
       "      <td>41.4</td>\n",
       "      <td>67.9</td>\n",
       "      <td>999.4</td>\n",
       "      <td>0.0</td>\n",
       "    </tr>\n",
       "    <tr>\n",
       "      <th>8596</th>\n",
       "      <td>6.0</td>\n",
       "      <td>2.0</td>\n",
       "      <td>47.4</td>\n",
       "      <td>89.9</td>\n",
       "      <td>1006.1</td>\n",
       "      <td>1.0</td>\n",
       "    </tr>\n",
       "    <tr>\n",
       "      <th>8597</th>\n",
       "      <td>3.0</td>\n",
       "      <td>1.0</td>\n",
       "      <td>43.3</td>\n",
       "      <td>71.6</td>\n",
       "      <td>1008.0</td>\n",
       "      <td>0.0</td>\n",
       "    </tr>\n",
       "    <tr>\n",
       "      <th>8598</th>\n",
       "      <td>3.0</td>\n",
       "      <td>3.0</td>\n",
       "      <td>62.1</td>\n",
       "      <td>77.1</td>\n",
       "      <td>1016.4</td>\n",
       "      <td>0.0</td>\n",
       "    </tr>\n",
       "    <tr>\n",
       "      <th>8599</th>\n",
       "      <td>5.0</td>\n",
       "      <td>0.0</td>\n",
       "      <td>43.1</td>\n",
       "      <td>88.5</td>\n",
       "      <td>1006.2</td>\n",
       "      <td>0.0</td>\n",
       "    </tr>\n",
       "  </tbody>\n",
       "</table>\n",
       "<p>8600 rows × 6 columns</p>\n",
       "</div>"
      ],
      "text/plain": [
       "      months_from_july  time_of_day  feature_1  feature_2  feature_3  class\n",
       "0                  6.0          1.0       47.1       80.0     1021.4    0.0\n",
       "1                  3.0          1.0       52.7       81.0     1021.3    0.0\n",
       "2                  1.0          3.0       63.7       60.0     1009.9    0.0\n",
       "3                  3.0          1.0       64.7       67.0     1003.2    0.0\n",
       "4                  4.0          1.0       46.4       85.0     1012.4    0.0\n",
       "...                ...          ...        ...        ...        ...    ...\n",
       "8595               5.0          1.0       41.4       67.9      999.4    0.0\n",
       "8596               6.0          2.0       47.4       89.9     1006.1    1.0\n",
       "8597               3.0          1.0       43.3       71.6     1008.0    0.0\n",
       "8598               3.0          3.0       62.1       77.1     1016.4    0.0\n",
       "8599               5.0          0.0       43.1       88.5     1006.2    0.0\n",
       "\n",
       "[8600 rows x 6 columns]"
      ]
     },
     "execution_count": 23,
     "metadata": {},
     "output_type": "execute_result"
    }
   ],
   "source": [
    "processed_df_test"
   ]
  },
  {
   "cell_type": "code",
   "execution_count": 24,
   "metadata": {},
   "outputs": [
    {
     "data": {
      "image/png": "[encoded data removed]",
      "text/plain": [
       "<Figure size 600x400 with 1 Axes>"
      ]
     },
     "metadata": {},
     "output_type": "display_data"
    },
    {
     "data": {
      "text/plain": [
       "(array([22882,  2605,   280,    30]), array([0, 1, 2, 3, 4]))"
      ]
     },
     "execution_count": 24,
     "metadata": {},
     "output_type": "execute_result"
    }
   ],
   "source": [
    "rain_counts, classes = np.histogram(processed_df_train['class'].values, bins=np.arange(0,5))\n",
    "\n",
    "plt.figure(figsize=(6,4))\n",
    "# plt.title(f'Hours where it rained at least {rain_thresh} inches')\n",
    "plt.bar(x=np.arange(0,4), width=1, height=rain_counts, facecolor='blue', edgecolor='k', alpha=0.6)\n",
    "plt.xticks(np.arange(0,5))\n",
    "plt.ylabel('# of hours')\n",
    "plt.xticks(ticks=np.arange(0,4), labels=['No rain', 'Light rainfall', 'Mid rainfall',  'Heavy rainfall'])\n",
    "plt.xlabel('Rainfall type')\n",
    "# plt.yscale('log')\n",
    "plt.show()\n",
    "rain_counts, classes"
   ]
  },
  {
   "cell_type": "code",
   "execution_count": 25,
   "metadata": {},
   "outputs": [
    {
     "data": {
      "image/png": "[encoded data removed]",
      "text/plain": [
       "<Figure size 600x400 with 1 Axes>"
      ]
     },
     "metadata": {},
     "output_type": "display_data"
    },
    {
     "data": {
      "text/plain": [
       "(array([7627,  875,   89,    9]), array([0, 1, 2, 3, 4]))"
      ]
     },
     "execution_count": 25,
     "metadata": {},
     "output_type": "execute_result"
    }
   ],
   "source": [
    "rain_counts, classes = np.histogram(processed_df_val['class'].values, bins=np.arange(0,5))\n",
    "\n",
    "plt.figure(figsize=(6,4))\n",
    "# plt.title(f'Hours where it rained at least {rain_thresh} inches')\n",
    "plt.bar(x=np.arange(0,4), width=1, height=rain_counts, facecolor='blue', edgecolor='k', alpha=0.6)\n",
    "plt.xticks(np.arange(0,5))\n",
    "plt.ylabel('# of hours')\n",
    "plt.xticks(ticks=np.arange(0,4), labels=['No rain', 'Light rainfall', 'Mid rainfall',  'Heavy rainfall'])\n",
    "plt.xlabel('Rainfall type')\n",
    "# plt.yscale('log')\n",
    "plt.show()\n",
    "rain_counts, classes"
   ]
  },
  {
   "cell_type": "code",
   "execution_count": 26,
   "metadata": {},
   "outputs": [
    {
     "data": {
      "image/png": "[encoded data removed]",
      "text/plain": [
       "<Figure size 600x400 with 1 Axes>"
      ]
     },
     "metadata": {},
     "output_type": "display_data"
    },
    {
     "data": {
      "text/plain": [
       "(array([7636,  861,   95,    8]), array([0, 1, 2, 3, 4]))"
      ]
     },
     "execution_count": 26,
     "metadata": {},
     "output_type": "execute_result"
    }
   ],
   "source": [
    "rain_counts, classes = np.histogram(processed_df_test['class'].values, bins=np.arange(0,5))\n",
    "\n",
    "plt.figure(figsize=(6,4))\n",
    "# plt.title(f'Hours where it rained at least {rain_thresh} inches')\n",
    "plt.bar(x=np.arange(0,4), width=1, height=rain_counts, facecolor='blue', edgecolor='k', alpha=0.6)\n",
    "plt.xticks(np.arange(0,5))\n",
    "plt.ylabel('# of hours')\n",
    "plt.xticks(ticks=np.arange(0,4), labels=['No rain', 'Light rainfall', 'Mid rainfall',  'Heavy rainfall'])\n",
    "plt.xlabel('Rainfall type')\n",
    "# plt.yscale('log')\n",
    "plt.show()\n",
    "rain_counts, classes"
   ]
  },
  {
   "cell_type": "code",
   "execution_count": 27,
   "metadata": {},
   "outputs": [
    {
     "data": {
      "text/plain": [
       "(25737, 6)"
      ]
     },
     "execution_count": 27,
     "metadata": {},
     "output_type": "execute_result"
    }
   ],
   "source": [
    "processed_data_train = processed_df_train.values.astype(float)\n",
    "processed_data_train = processed_data_train[~np.isnan(processed_data_train).any(axis=1)]\n",
    "processed_data_train.shape"
   ]
  },
  {
   "cell_type": "code",
   "execution_count": 28,
   "metadata": {},
   "outputs": [
    {
     "data": {
      "text/plain": [
       "(8575, 6)"
      ]
     },
     "execution_count": 28,
     "metadata": {},
     "output_type": "execute_result"
    }
   ],
   "source": [
    "processed_data_val = processed_df_val.values.astype(float)\n",
    "processed_data_val = processed_data_val[~np.isnan(processed_data_val).any(axis=1)]\n",
    "processed_data_val.shape"
   ]
  },
  {
   "cell_type": "code",
   "execution_count": 29,
   "metadata": {},
   "outputs": [
    {
     "data": {
      "text/plain": [
       "(8580, 6)"
      ]
     },
     "execution_count": 29,
     "metadata": {},
     "output_type": "execute_result"
    }
   ],
   "source": [
    "processed_data_test = processed_df_test.values.astype(float)\n",
    "processed_data_test = processed_data_test[~np.isnan(processed_data_test).any(axis=1)]\n",
    "processed_data_test.shape"
   ]
  },
  {
   "cell_type": "code",
   "execution_count": 30,
   "metadata": {},
   "outputs": [
    {
     "name": "stdout",
     "output_type": "stream",
     "text": [
      "Data Shape: (175845, 6)\n",
      "Data Entry: [Month, Time of Day, Temperature, Relative Humidity, Pressure, Rain type]\n",
      "['2004-05-01' '00:00' 78.8 1013.4 14.3 0.0]\n",
      "[1.0000e+00 1.0000e+00 5.3400e+01 8.6600e+01 1.0152e+03 1.0000e+00]\n",
      "[   4.     3.    40.9   81.7 1020.3    0. ]\n",
      "[6.0000e+00 1.0000e+00 4.7100e+01 8.0000e+01 1.0214e+03 0.0000e+00]\n"
     ]
    }
   ],
   "source": [
    "print(f'Data Shape: {data_arr.shape}')\n",
    "print(f'Data Entry: [Month, Time of Day, Temperature, Relative Humidity, Pressure, Rain type]')\n",
    "\n",
    "# Pre-Processed\n",
    "print(data_arr[0])\n",
    "\n",
    "# Post-Processed\n",
    "print(processed_data_train[0])\n",
    "print(processed_data_val[0])\n",
    "print(processed_data_test[0])"
   ]
  },
  {
   "cell_type": "code",
   "execution_count": 31,
   "metadata": {},
   "outputs": [
    {
     "name": "stdout",
     "output_type": "stream",
     "text": [
      "[1.0000e+00 1.0000e+00 5.3400e+01 8.6600e+01 1.0152e+03] [1]\n"
     ]
    }
   ],
   "source": [
    "x_data_train = processed_data_train[:, :processed_data_train.shape[1]-1]\n",
    "y_data_train = processed_data_train[:, processed_data_train.shape[1]-1:].astype(int)\n",
    "print(x_data_train[0], y_data_train[0])"
   ]
  },
  {
   "cell_type": "code",
   "execution_count": 32,
   "metadata": {},
   "outputs": [
    {
     "name": "stdout",
     "output_type": "stream",
     "text": [
      "[   4.     3.    40.9   81.7 1020.3] [0]\n"
     ]
    }
   ],
   "source": [
    "x_data_val = processed_data_val[:, :processed_data_train.shape[1]-1]\n",
    "y_data_val = processed_data_val[:, processed_data_train.shape[1]-1:].astype(int)\n",
    "print(x_data_val[0], y_data_val[0])"
   ]
  },
  {
   "cell_type": "code",
   "execution_count": 33,
   "metadata": {},
   "outputs": [
    {
     "name": "stdout",
     "output_type": "stream",
     "text": [
      "[6.0000e+00 1.0000e+00 4.7100e+01 8.0000e+01 1.0214e+03] [0]\n"
     ]
    }
   ],
   "source": [
    "x_data_test = processed_data_test[:, :processed_data_train.shape[1]-1]\n",
    "y_data_test = processed_data_test[:, processed_data_train.shape[1]-1:].astype(int)\n",
    "print(x_data_test[0], y_data_test[0])"
   ]
  },
  {
   "cell_type": "code",
   "execution_count": 34,
   "metadata": {},
   "outputs": [],
   "source": [
    "# # Assuming X is your feature matrix and y is your target vector\n",
    "# # First split: train+val and test\n",
    "# X_train_val, X_test, y_train_val, y_test = train_test_split(x_data, y_data, test_size=0.2, random_state=42)\n",
    "\n",
    "# # Second split: train and val\n",
    "# X_train, X_val, y_train, y_val = train_test_split(X_train_val, y_train_val, test_size=0.25, random_state=42)  # 0.25 x 0.8 = 0.2\n",
    "\n",
    "# # Now you have X_train, X_val, X_test, y_train, y_val, y_test\n",
    "# print(f\"Training set size: {X_train.shape[0]}\")\n",
    "# print(f\"Validation set size: {X_val.shape[0]}\")\n",
    "# print(f\"Test set size: {X_test.shape[0]}\")"
   ]
  },
  {
   "cell_type": "code",
   "execution_count": 35,
   "metadata": {},
   "outputs": [
    {
     "data": {
      "image/png": "[encoded data removed]",
      "text/plain": [
       "<Figure size 600x400 with 1 Axes>"
      ]
     },
     "metadata": {},
     "output_type": "display_data"
    },
    {
     "data": {
      "text/plain": [
       "(array([22822,  2605,   280,    30]), array([0, 1, 2, 3, 4]))"
      ]
     },
     "execution_count": 35,
     "metadata": {},
     "output_type": "execute_result"
    }
   ],
   "source": [
    "rain_counts, classes = np.histogram(y_data_train, bins=np.arange(0,5))\n",
    "\n",
    "plt.figure(figsize=(6,4))\n",
    "# plt.title(f'Hours where it rained at least {rain_thresh} inches')\n",
    "plt.bar(x=np.arange(0,4), width=1, height=rain_counts, facecolor='blue', edgecolor='k', alpha=0.6)\n",
    "plt.ylabel('# of hours')\n",
    "plt.xticks(ticks=np.arange(0,4), labels=['No rain', 'Light rainfall', 'Mid Rainfall', 'Heavy rainfall'])\n",
    "plt.xlabel('Rainfall type')\n",
    "# plt.yscale('log')\n",
    "plt.show()\n",
    "rain_counts, classes"
   ]
  },
  {
   "cell_type": "code",
   "execution_count": 36,
   "metadata": {},
   "outputs": [
    {
     "data": {
      "image/png": "[encoded data removed]",
      "text/plain": [
       "<Figure size 600x400 with 1 Axes>"
      ]
     },
     "metadata": {},
     "output_type": "display_data"
    },
    {
     "data": {
      "text/plain": [
       "(array([7602,  875,   89,    9]), array([0, 1, 2, 3, 4]))"
      ]
     },
     "execution_count": 36,
     "metadata": {},
     "output_type": "execute_result"
    }
   ],
   "source": [
    "rain_counts, classes = np.histogram(y_data_val, bins=np.arange(0,5))\n",
    "\n",
    "plt.figure(figsize=(6,4))\n",
    "# plt.title(f'Hours where it rained at least {rain_thresh} inches')\n",
    "plt.bar(x=np.arange(0,4), width=1, height=rain_counts, facecolor='blue', edgecolor='k', alpha=0.6)\n",
    "plt.ylabel('# of hours')\n",
    "plt.xticks(ticks=np.arange(0,4), labels=['No rain', 'Light rainfall', 'Mid Rainfall', 'Heavy rainfall'])\n",
    "plt.xlabel('Rainfall type')\n",
    "# plt.yscale('log')\n",
    "plt.show()\n",
    "rain_counts, classes"
   ]
  },
  {
   "cell_type": "code",
   "execution_count": 37,
   "metadata": {},
   "outputs": [
    {
     "data": {
      "image/png": "[encoded data removed]",
      "text/plain": [
       "<Figure size 600x400 with 1 Axes>"
      ]
     },
     "metadata": {},
     "output_type": "display_data"
    },
    {
     "data": {
      "text/plain": [
       "(array([7616,  861,   95,    8]), array([0, 1, 2, 3, 4]))"
      ]
     },
     "execution_count": 37,
     "metadata": {},
     "output_type": "execute_result"
    }
   ],
   "source": [
    "rain_counts, classes = np.histogram(y_data_test, bins=np.arange(0,5))\n",
    "\n",
    "plt.figure(figsize=(6,4))\n",
    "# plt.title(f'Hours where it rained at least {rain_thresh} inches')\n",
    "plt.bar(x=np.arange(0,4), width=1, height=rain_counts, facecolor='blue', edgecolor='k', alpha=0.6)\n",
    "plt.ylabel('# of hours')\n",
    "plt.xticks(ticks=np.arange(0,4), labels=['No rain', 'Light rainfall', 'Mid Rainfall', 'Heavy rainfall'])\n",
    "plt.xlabel('Rainfall type')\n",
    "# plt.yscale('log')\n",
    "plt.show()\n",
    "rain_counts, classes"
   ]
  },
  {
   "cell_type": "code",
   "execution_count": 38,
   "metadata": {},
   "outputs": [],
   "source": [
    "from imblearn.over_sampling import SMOTE \n",
    "smote = SMOTE(random_state = 42)"
   ]
  },
  {
   "cell_type": "code",
   "execution_count": 39,
   "metadata": {},
   "outputs": [],
   "source": [
    "x_train_res, y_train_res = smote.fit_resample(x_data_train, y_data_train.ravel())"
   ]
  },
  {
   "cell_type": "code",
   "execution_count": 40,
   "metadata": {},
   "outputs": [
    {
     "data": {
      "text/plain": [
       "((8575, 5), (8575, 1))"
      ]
     },
     "execution_count": 40,
     "metadata": {},
     "output_type": "execute_result"
    }
   ],
   "source": [
    "x_data_val.shape, y_data_val.shape"
   ]
  },
  {
   "cell_type": "code",
   "execution_count": 41,
   "metadata": {},
   "outputs": [],
   "source": [
    "x_val_res, y_val_res = smote.fit_resample(x_data_val, y_data_val.ravel())"
   ]
  },
  {
   "cell_type": "code",
   "execution_count": 42,
   "metadata": {},
   "outputs": [
    {
     "data": {
      "text/plain": [
       "((8580, 5), (8580, 1))"
      ]
     },
     "execution_count": 42,
     "metadata": {},
     "output_type": "execute_result"
    }
   ],
   "source": [
    "x_data_test.shape, y_data_test.shape"
   ]
  },
  {
   "cell_type": "code",
   "execution_count": 43,
   "metadata": {},
   "outputs": [],
   "source": [
    "x_test_res, y_test_res = smote.fit_resample(x_data_test, y_data_test.ravel()) "
   ]
  },
  {
   "cell_type": "code",
   "execution_count": 44,
   "metadata": {},
   "outputs": [
    {
     "data": {
      "image/png": "[encoded data removed]",
      "text/plain": [
       "<Figure size 600x400 with 1 Axes>"
      ]
     },
     "metadata": {},
     "output_type": "display_data"
    },
    {
     "data": {
      "text/plain": [
       "(array([22822, 22822, 22822, 22822]), array([0, 1, 2, 3, 4]))"
      ]
     },
     "execution_count": 44,
     "metadata": {},
     "output_type": "execute_result"
    }
   ],
   "source": [
    "rain_counts, classes = np.histogram(y_train_res, bins=np.arange(0,5))\n",
    "\n",
    "plt.figure(figsize=(6,4))\n",
    "# plt.title(f'Hours where it rained at least {rain_thresh} inches')\n",
    "plt.bar(x=np.arange(0,4), width=1, height=rain_counts, facecolor='blue', edgecolor='k', alpha=0.6)\n",
    "# plt.xticks(np.arange(0,4))\n",
    "plt.ylabel('# of hours')\n",
    "plt.xticks(ticks=np.arange(0,4), labels=['No rain', 'Light rainfall', 'Mid rainfall', 'Heavy rainfall'])\n",
    "plt.xlabel('Rainfall type')\n",
    "plt.show()\n",
    "rain_counts, classes"
   ]
  },
  {
   "cell_type": "code",
   "execution_count": 45,
   "metadata": {},
   "outputs": [
    {
     "name": "stdout",
     "output_type": "stream",
     "text": [
      "Metal device set to: Apple M2\n",
      "\n",
      "systemMemory: 16.00 GB\n",
      "maxCacheSize: 5.33 GB\n",
      "\n",
      "Model: \"sequential\"\n",
      "_________________________________________________________________\n",
      " Layer (type)                Output Shape              Param #   \n",
      "=================================================================\n",
      " dense (Dense)               (None, 64)                384       \n",
      "                                                                 \n",
      " dropout (Dropout)           (None, 64)                0         \n",
      "                                                                 \n",
      " dense_1 (Dense)             (None, 32)                2080      \n",
      "                                                                 \n",
      " dropout_1 (Dropout)         (None, 32)                0         \n",
      "                                                                 \n",
      " dense_2 (Dense)             (None, 4)                 132       \n",
      "                                                                 \n",
      "=================================================================\n",
      "Total params: 2,596\n",
      "Trainable params: 2,596\n",
      "Non-trainable params: 0\n",
      "_________________________________________________________________\n"
     ]
    },
    {
     "name": "stderr",
     "output_type": "stream",
     "text": [
      "2024-05-22 23:15:29.375845: I tensorflow/core/common_runtime/pluggable_device/pluggable_device_factory.cc:305] Could not identify NUMA node of platform GPU ID 0, defaulting to 0. Your kernel may not have been built with NUMA support.\n",
      "2024-05-22 23:15:29.376615: I tensorflow/core/common_runtime/pluggable_device/pluggable_device_factory.cc:271] Created TensorFlow device (/job:localhost/replica:0/task:0/device:GPU:0 with 0 MB memory) -> physical PluggableDevice (device: 0, name: METAL, pci bus id: <undefined>)\n"
     ]
    }
   ],
   "source": [
    "scaler = StandardScaler()\n",
    "X_train_scaled = scaler.fit_transform(x_train_res)\n",
    "X_val_scaled = scaler.transform(x_val_res)\n",
    "\n",
    "# Define the model\n",
    "model = models.Sequential()\n",
    "\n",
    "# Input layer\n",
    "model.add(layers.Input(shape=(5,)))\n",
    "\n",
    "# Hidden layers\n",
    "model.add(layers.Dense(64, activation='relu', kernel_regularizer=regularizers.l2(0.001)))\n",
    "model.add(layers.Dropout(0.5))\n",
    "model.add(layers.Dense(32, activation='relu', kernel_regularizer=regularizers.l2(0.001)))\n",
    "model.add(layers.Dropout(0.5))\n",
    "\n",
    "# Output layer\n",
    "model.add(layers.Dense(4, activation='softmax'))  # Softmax for multiclass classification\n",
    "\n",
    "# Compile the model\n",
    "optimizer = Adam(learning_rate=0.001)\n",
    "model.compile(optimizer=optimizer, loss='sparse_categorical_crossentropy', metrics=['accuracy'])\n",
    "\n",
    "# Learning rate reduction callback\n",
    "reduce_lr = ReduceLROnPlateau(monitor='val_loss', factor=0.2, patience=5, min_lr=0.0001)\n",
    "\n",
    "# Early stopping callback\n",
    "early_stopping = callbacks.EarlyStopping(monitor='val_loss', patience=10, restore_best_weights=True)\n",
    "\n",
    "# Print model summary\n",
    "model.summary()"
   ]
  },
  {
   "cell_type": "code",
   "execution_count": 46,
   "metadata": {},
   "outputs": [
    {
     "data": {
      "text/plain": [
       "((91288, 5), (91288,))"
      ]
     },
     "execution_count": 46,
     "metadata": {},
     "output_type": "execute_result"
    }
   ],
   "source": [
    "X_train_scaled.shape, y_train_res.shape"
   ]
  },
  {
   "cell_type": "code",
   "execution_count": 47,
   "metadata": {},
   "outputs": [
    {
     "data": {
      "text/plain": [
       "((30408, 5), (30408,))"
      ]
     },
     "execution_count": 47,
     "metadata": {},
     "output_type": "execute_result"
    }
   ],
   "source": [
    "X_val_scaled.shape, y_val_res.shape"
   ]
  },
  {
   "cell_type": "code",
   "execution_count": 48,
   "metadata": {},
   "outputs": [
    {
     "data": {
      "image/png": "[encoded data removed]",
      "text/plain": [
       "<Figure size 600x400 with 1 Axes>"
      ]
     },
     "metadata": {},
     "output_type": "display_data"
    },
    {
     "data": {
      "text/plain": [
       "(array([ 1880, 16345, 16042, 12522, 22807, 18114,  3578]),\n",
       " array([0, 1, 2, 3, 4, 5, 6, 7]))"
      ]
     },
     "execution_count": 48,
     "metadata": {},
     "output_type": "execute_result"
    }
   ],
   "source": [
    "binwidth = 1\n",
    "rain_counts, classes = np.histogram(x_train_res[:,0], bins=np.arange(0,7+binwidth,binwidth))\n",
    "\n",
    "plt.figure(figsize=(6,4))\n",
    "# plt.title(f'Hours where it rained at least {rain_thresh} inches')\n",
    "plt.bar(x=np.arange(0,7,binwidth), width=binwidth, height=rain_counts, facecolor='blue', edgecolor='k', alpha=0.6)\n",
    "# plt.xticks(np.arange(-1,1+binwidth,binwidth))\n",
    "plt.ylabel('# of hours')\n",
    "# plt.xticks(ticks=np.arange(0,4), labels=['No rain', 'Light rainfall', 'Mid rainfall', 'Heavy rainfall'])\n",
    "plt.xlabel('Month distance from July')\n",
    "plt.show()\n",
    "rain_counts, classes"
   ]
  },
  {
   "cell_type": "code",
   "execution_count": 49,
   "metadata": {},
   "outputs": [
    {
     "data": {
      "text/plain": [
       "array([[-1.53155801, -0.48395652,  0.19508583,  0.54919021,  0.90879715],\n",
       "       [-0.24384619, -0.48395652, -0.16444351, -0.45290138, -1.48395005],\n",
       "       [ 0.40000972,  1.43545236,  0.39119275, -0.10016514,  1.11633134],\n",
       "       ...,\n",
       "       [-0.90383032,  0.49978795,  0.75752329, -0.29715377,  0.97439949],\n",
       "       [-1.4039919 ,  1.43545236,  0.89966373, -0.77016894,  0.61407443],\n",
       "       [-1.53155801, -0.07183343,  0.82063909,  0.47571602,  0.43717982]])"
      ]
     },
     "execution_count": 49,
     "metadata": {},
     "output_type": "execute_result"
    }
   ],
   "source": [
    "X_train_scaled"
   ]
  },
  {
   "cell_type": "code",
   "execution_count": 50,
   "metadata": {},
   "outputs": [
    {
     "data": {
      "image/png": "[encoded data removed]",
      "text/plain": [
       "<Figure size 600x400 with 1 Axes>"
      ]
     },
     "metadata": {},
     "output_type": "display_data"
    },
    {
     "data": {
      "text/plain": [
       "(array([    0,     0,     0,  1549, 14987, 26714, 25547, 22491,     0,\n",
       "            0,     0,     0,     0]),\n",
       " array([-6, -5, -4, -3, -2, -1,  0,  1,  2,  3,  4,  5,  6,  7]))"
      ]
     },
     "execution_count": 50,
     "metadata": {},
     "output_type": "execute_result"
    }
   ],
   "source": [
    "binwidth = 1\n",
    "rain_counts, classes = np.histogram(X_train_scaled[:,0], bins=np.arange(-6,7+binwidth,binwidth))\n",
    "\n",
    "plt.figure(figsize=(6,4))\n",
    "# plt.title(f'Hours where it rained at least {rain_thresh} inches')\n",
    "plt.bar(x=np.arange(-6,7,binwidth), width=binwidth, height=rain_counts, facecolor='blue', edgecolor='k', alpha=0.6)\n",
    "# plt.xticks(np.arange(-1,1+binwidth,binwidth))\n",
    "plt.ylabel('# of hours')\n",
    "# plt.xticks(ticks=np.arange(0,4), labels=['No rain', 'Light rainfall', 'Mid rainfall', 'Heavy rainfall'])\n",
    "plt.xlabel('Rainfall type')\n",
    "plt.show()\n",
    "rain_counts, classes"
   ]
  },
  {
   "cell_type": "code",
   "execution_count": 51,
   "metadata": {},
   "outputs": [
    {
     "name": "stdout",
     "output_type": "stream",
     "text": [
      "Epoch 1/50\n"
     ]
    },
    {
     "name": "stderr",
     "output_type": "stream",
     "text": [
      "2024-05-22 23:15:30.010865: W tensorflow/core/platform/profile_utils/cpu_utils.cc:128] Failed to get CPU frequency: 0 Hz\n",
      "2024-05-22 23:15:30.237411: I tensorflow/core/grappler/optimizers/custom_graph_optimizer_registry.cc:113] Plugin optimizer for device_type GPU is enabled.\n"
     ]
    },
    {
     "name": "stdout",
     "output_type": "stream",
     "text": [
      "2853/2853 [==============================] - ETA: 0s - loss: 1.0267 - accuracy: 0.5687"
     ]
    },
    {
     "name": "stderr",
     "output_type": "stream",
     "text": [
      "2024-05-22 23:15:55.492595: I tensorflow/core/grappler/optimizers/custom_graph_optimizer_registry.cc:113] Plugin optimizer for device_type GPU is enabled.\n"
     ]
    },
    {
     "name": "stdout",
     "output_type": "stream",
     "text": [
      "2853/2853 [==============================] - 31s 11ms/step - loss: 1.0267 - accuracy: 0.5687 - val_loss: 1.2165 - val_accuracy: 0.4357 - lr: 0.0010\n",
      "Epoch 2/50\n",
      "2853/2853 [==============================] - 25s 9ms/step - loss: 0.9121 - accuracy: 0.6171 - val_loss: 1.3772 - val_accuracy: 0.4409 - lr: 0.0010\n",
      "Epoch 3/50\n",
      "2853/2853 [==============================] - 24s 9ms/step - loss: 0.8782 - accuracy: 0.6304 - val_loss: 1.3862 - val_accuracy: 0.4320 - lr: 0.0010\n",
      "Epoch 4/50\n",
      "2853/2853 [==============================] - 24s 9ms/step - loss: 0.8585 - accuracy: 0.6400 - val_loss: 1.5078 - val_accuracy: 0.4314 - lr: 0.0010\n",
      "Epoch 5/50\n",
      "2853/2853 [==============================] - 24s 8ms/step - loss: 0.8455 - accuracy: 0.6454 - val_loss: 1.6262 - val_accuracy: 0.4382 - lr: 0.0010\n",
      "Epoch 6/50\n",
      "2853/2853 [==============================] - 24s 9ms/step - loss: 0.8367 - accuracy: 0.6493 - val_loss: 1.6694 - val_accuracy: 0.4389 - lr: 0.0010\n",
      "Epoch 7/50\n",
      "2853/2853 [==============================] - 24s 8ms/step - loss: 0.8196 - accuracy: 0.6556 - val_loss: 1.6792 - val_accuracy: 0.4397 - lr: 2.0000e-04\n",
      "Epoch 8/50\n",
      "2853/2853 [==============================] - 24s 9ms/step - loss: 0.8139 - accuracy: 0.6578 - val_loss: 1.6665 - val_accuracy: 0.4389 - lr: 2.0000e-04\n",
      "Epoch 9/50\n",
      "2853/2853 [==============================] - 24s 8ms/step - loss: 0.8126 - accuracy: 0.6587 - val_loss: 1.6866 - val_accuracy: 0.4393 - lr: 2.0000e-04\n",
      "Epoch 10/50\n",
      "2853/2853 [==============================] - 25s 9ms/step - loss: 0.8092 - accuracy: 0.6595 - val_loss: 1.6920 - val_accuracy: 0.4385 - lr: 2.0000e-04\n",
      "Epoch 11/50\n",
      "2853/2853 [==============================] - 24s 9ms/step - loss: 0.8070 - accuracy: 0.6611 - val_loss: 1.6753 - val_accuracy: 0.4334 - lr: 2.0000e-04\n"
     ]
    }
   ],
   "source": [
    "# Train the Model:\n",
    "history = model.fit(\n",
    "    X_train_scaled, y_train_res,\n",
    "    epochs=50,\n",
    "    batch_size=32,\n",
    "    validation_data=(X_val_scaled, y_val_res),\n",
    "    callbacks=[early_stopping, reduce_lr]\n",
    ")"
   ]
  },
  {
   "cell_type": "code",
   "execution_count": 52,
   "metadata": {},
   "outputs": [],
   "source": [
    "# Evaluation (Is it worth, the loss is quite high suggesting that either the model architecture is quite poor (likely) or \n",
    "# that we need to better preprocess our data such as rain (also likely))"
   ]
  },
  {
   "cell_type": "code",
   "execution_count": 53,
   "metadata": {},
   "outputs": [],
   "source": [
    "X_test_scaled = scaler.transform(x_test_res)"
   ]
  },
  {
   "cell_type": "code",
   "execution_count": 54,
   "metadata": {},
   "outputs": [
    {
     "name": "stdout",
     "output_type": "stream",
     "text": [
      " 73/952 [=>............................] - ETA: 1s"
     ]
    },
    {
     "name": "stderr",
     "output_type": "stream",
     "text": [
      "2024-05-22 23:20:04.103802: I tensorflow/core/grappler/optimizers/custom_graph_optimizer_registry.cc:113] Plugin optimizer for device_type GPU is enabled.\n"
     ]
    },
    {
     "name": "stdout",
     "output_type": "stream",
     "text": [
      "952/952 [==============================] - 2s 2ms/step\n"
     ]
    }
   ],
   "source": [
    "predictions = model.predict(X_test_scaled)"
   ]
  },
  {
   "cell_type": "code",
   "execution_count": 55,
   "metadata": {},
   "outputs": [
    {
     "data": {
      "text/plain": [
       "0"
      ]
     },
     "execution_count": 55,
     "metadata": {},
     "output_type": "execute_result"
    }
   ],
   "source": [
    "np.argmax(predictions[0])"
   ]
  },
  {
   "cell_type": "code",
   "execution_count": 56,
   "metadata": {},
   "outputs": [
    {
     "data": {
      "text/plain": [
       "0"
      ]
     },
     "execution_count": 56,
     "metadata": {},
     "output_type": "execute_result"
    }
   ],
   "source": [
    "y_test_res[0]"
   ]
  },
  {
   "cell_type": "code",
   "execution_count": 57,
   "metadata": {},
   "outputs": [
    {
     "name": "stderr",
     "output_type": "stream",
     "text": [
      "2024-05-22 23:20:06.205360: I tensorflow/core/grappler/optimizers/custom_graph_optimizer_registry.cc:113] Plugin optimizer for device_type GPU is enabled.\n"
     ]
    },
    {
     "name": "stdout",
     "output_type": "stream",
     "text": [
      "952/952 - 4s - loss: 1.0409 - accuracy: 0.5354 - 4s/epoch - 4ms/step\n"
     ]
    },
    {
     "data": {
      "text/plain": [
       "[1.0408765077590942, 0.5354188680648804]"
      ]
     },
     "execution_count": 57,
     "metadata": {},
     "output_type": "execute_result"
    }
   ],
   "source": [
    "model.evaluate(X_test_scaled, y_test_res.astype(float), verbose=2)"
   ]
  },
  {
   "cell_type": "code",
   "execution_count": 58,
   "metadata": {},
   "outputs": [],
   "source": [
    "from sklearn.metrics import confusion_matrix, ConfusionMatrixDisplay, f1_score"
   ]
  },
  {
   "cell_type": "code",
   "execution_count": 59,
   "metadata": {},
   "outputs": [
    {
     "data": {
      "text/plain": [
       "array([0, 0, 0, ..., 3, 3, 3])"
      ]
     },
     "execution_count": 59,
     "metadata": {},
     "output_type": "execute_result"
    }
   ],
   "source": [
    "y_test_res"
   ]
  },
  {
   "cell_type": "code",
   "execution_count": 60,
   "metadata": {},
   "outputs": [
    {
     "data": {
      "text/plain": [
       "array([0, 0, 0, ..., 2, 2, 3])"
      ]
     },
     "execution_count": 60,
     "metadata": {},
     "output_type": "execute_result"
    }
   ],
   "source": [
    "np.argmax(predictions,axis=1)"
   ]
  },
  {
   "cell_type": "code",
   "execution_count": 61,
   "metadata": {},
   "outputs": [
    {
     "name": "stdout",
     "output_type": "stream",
     "text": [
      "Confusion Matrix:\n",
      "[[5407 1423  223  563]\n",
      " [1159 3043 2137 1277]\n",
      " [ 380 1652 4373 1211]\n",
      " [ 146  607 3375 3488]]\n"
     ]
    },
    {
     "data": {
      "image/png": "[encoded data removed]",
      "text/plain": [
       "<Figure size 640x480 with 2 Axes>"
      ]
     },
     "metadata": {},
     "output_type": "display_data"
    }
   ],
   "source": [
    "cm = confusion_matrix(y_test_res, np.argmax(predictions,axis=1))\n",
    "\n",
    "# Print the confusion matrix\n",
    "print(\"Confusion Matrix:\")\n",
    "print(cm)\n",
    "\n",
    "# Visualize the confusion matrix\n",
    "disp = ConfusionMatrixDisplay(confusion_matrix=cm, display_labels=[0, 1, 2, 3])\n",
    "disp.plot(cmap=plt.cm.Blues)\n",
    "plt.show()"
   ]
  },
  {
   "cell_type": "code",
   "execution_count": 62,
   "metadata": {},
   "outputs": [
    {
     "data": {
      "text/plain": [
       "array([0.73524612, 0.42437766, 0.4934552 , 0.49282939])"
      ]
     },
     "execution_count": 62,
     "metadata": {},
     "output_type": "execute_result"
    }
   ],
   "source": [
    "f1_score(y_test_res, np.argmax(predictions,axis=1), average=None)"
   ]
  }
 ],
 "metadata": {
  "kernelspec": {
   "display_name": "EE400-Env",
   "language": "python",
   "name": "python3"
  },
  "language_info": {
   "codemirror_mode": {
    "name": "ipython",
    "version": 3
   },
   "file_extension": ".py",
   "mimetype": "text/x-python",
   "name": "python",
   "nbconvert_exporter": "python",
   "pygments_lexer": "ipython3",
   "version": "3.10.14"
  }
 },
 "nbformat": 4,
 "nbformat_minor": 2
}

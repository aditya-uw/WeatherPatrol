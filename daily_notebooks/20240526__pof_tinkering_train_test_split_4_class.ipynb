{
 "cells": [
  {
   "cell_type": "code",
   "execution_count": 1,
   "metadata": {},
   "outputs": [],
   "source": [
    "# Imports\n",
    "import pandas as pd\n",
    "import datetime as dt\n",
    "\n",
    "import numpy as np\n",
    "import tensorflow as tf\n",
    "\n",
    "import matplotlib.pyplot as plt\n",
    "\n",
    "import tensorflow as tf\n",
    "from tensorflow.keras import layers, models, regularizers, callbacks\n",
    "from tensorflow.keras.optimizers import Adam\n",
    "from tensorflow.keras.callbacks import ReduceLROnPlateau\n",
    "\n",
    "from sklearn.preprocessing import StandardScaler\n",
    "from sklearn.model_selection import train_test_split\n",
    "from sklearn.metrics import confusion_matrix, ConfusionMatrixDisplay, f1_score\n",
    "from imblearn.over_sampling import SMOTE "
   ]
  },
  {
   "cell_type": "code",
   "execution_count": 2,
   "metadata": {},
   "outputs": [],
   "source": [
    "def clean_up_observations_and_add_rain_class(atg_obs_selected):\n",
    "    no_erros_obs = atg_obs_selected.loc[(atg_obs_selected['Rain']!='M')&(atg_obs_selected['Temperature']!='M')&(atg_obs_selected['Pressure']!='M')&(atg_obs_selected['Relhum']!='M')&(atg_obs_selected['Relhum']!='0.00.')].copy()\n",
    "\n",
    "    no_erros_obs['datetime_PST'] = pd.DatetimeIndex(no_erros_obs['datetime_UTC']).tz_localize('UTC').tz_convert('US/Pacific')\n",
    "    no_erros_obs['Date_PST'] = pd.DatetimeIndex(no_erros_obs['datetime_PST']).date\n",
    "    no_erros_obs['Time_PST'] = pd.DatetimeIndex(no_erros_obs['datetime_PST']).time\n",
    "    no_erros_obs['Rain'] = no_erros_obs['Rain'].astype(float)\n",
    "    no_erros_obs['Temperature'] = no_erros_obs['Temperature'].astype(float)\n",
    "    no_erros_obs['Pressure'] = no_erros_obs['Pressure'].astype(float)\n",
    "    no_erros_obs['Relhum'] = no_erros_obs['Relhum'].astype(float)\n",
    "\n",
    "    first_obs_each_period = no_erros_obs.resample(on='datetime_PST', rule='1h')\n",
    "    summed_rain_each_period = first_obs_each_period['Rain'].sum()\n",
    "\n",
    "    lightrainfall_times = summed_rain_each_period[(summed_rain_each_period<=0.06)&(summed_rain_each_period>0.0)]\n",
    "    moderaterainfall_times = summed_rain_each_period[(summed_rain_each_period<=0.10)&(summed_rain_each_period>0.06)]\n",
    "    heavyrainfall_times = summed_rain_each_period[(summed_rain_each_period>0.10)]\n",
    "\n",
    "    summed_rain_each_period.loc[lightrainfall_times.index] = 1\n",
    "    summed_rain_each_period.loc[moderaterainfall_times.index] = 2\n",
    "    summed_rain_each_period.loc[heavyrainfall_times.index] = 3\n",
    "\n",
    "    # Extract Date, Time, Temperature, SumRain into data array\n",
    "    atg_obs_necessary = pd.DataFrame()\n",
    "    atg_obs_necessary['date'] = first_obs_each_period['Date_PST'].first()\n",
    "    atg_obs_necessary['time'] = first_obs_each_period['Time_PST'].first()\n",
    "    atg_obs_necessary['temperature'] = first_obs_each_period['Temperature'].first()\n",
    "    atg_obs_necessary['pressure'] = first_obs_each_period['Pressure'].first()\n",
    "    atg_obs_necessary['relhum'] = first_obs_each_period['Relhum'].first()\n",
    "    atg_obs_necessary['rainfall_type'] = summed_rain_each_period\n",
    "\n",
    "    atg_obs_necessary = atg_obs_necessary.dropna()\n",
    "    data_arr = atg_obs_necessary.values\n",
    "\n",
    "\n",
    "    return atg_obs_necessary, data_arr"
   ]
  },
  {
   "cell_type": "code",
   "execution_count": 3,
   "metadata": {},
   "outputs": [],
   "source": [
    "atg_obs = pd.read_csv('../../Downloads/LFEM_data-.csv', low_memory=False, skiprows=1)\n",
    "atg_obs.insert(0, 'datetime_UTC', pd.to_datetime(atg_obs['Date'] + atg_obs['Time'], format='%Y-%m-%d%H:%M'))"
   ]
  },
  {
   "cell_type": "code",
   "execution_count": 4,
   "metadata": {},
   "outputs": [],
   "source": [
    "atg_obs_selected = atg_obs.copy() # Selecting dates\n",
    "atg_obs_selected = atg_obs_selected.loc[(atg_obs['datetime_UTC']>=dt.datetime(2023,1,1))]"
   ]
  },
  {
   "cell_type": "code",
   "execution_count": 5,
   "metadata": {},
   "outputs": [],
   "source": [
    "# Extract Date, Time, Temperature, SumRain into data array\n",
    "atg_obs_necessary, data_arr = clean_up_observations_and_add_rain_class(atg_obs_selected)"
   ]
  },
  {
   "cell_type": "code",
   "execution_count": 6,
   "metadata": {},
   "outputs": [
    {
     "data": {
      "text/html": [
       "<div>\n",
       "<style scoped>\n",
       "    .dataframe tbody tr th:only-of-type {\n",
       "        vertical-align: middle;\n",
       "    }\n",
       "\n",
       "    .dataframe tbody tr th {\n",
       "        vertical-align: top;\n",
       "    }\n",
       "\n",
       "    .dataframe thead th {\n",
       "        text-align: right;\n",
       "    }\n",
       "</style>\n",
       "<table border=\"1\" class=\"dataframe\">\n",
       "  <thead>\n",
       "    <tr style=\"text-align: right;\">\n",
       "      <th></th>\n",
       "      <th>date</th>\n",
       "      <th>time</th>\n",
       "      <th>temperature</th>\n",
       "      <th>pressure</th>\n",
       "      <th>relhum</th>\n",
       "      <th>rainfall_type</th>\n",
       "    </tr>\n",
       "    <tr>\n",
       "      <th>datetime_PST</th>\n",
       "      <th></th>\n",
       "      <th></th>\n",
       "      <th></th>\n",
       "      <th></th>\n",
       "      <th></th>\n",
       "      <th></th>\n",
       "    </tr>\n",
       "  </thead>\n",
       "  <tbody>\n",
       "    <tr>\n",
       "      <th>2024-05-19 07:00:00-07:00</th>\n",
       "      <td>2024-05-19</td>\n",
       "      <td>07:00:00</td>\n",
       "      <td>48.3</td>\n",
       "      <td>1019.2</td>\n",
       "      <td>88.5</td>\n",
       "      <td>0.0</td>\n",
       "    </tr>\n",
       "    <tr>\n",
       "      <th>2024-05-19 08:00:00-07:00</th>\n",
       "      <td>2024-05-19</td>\n",
       "      <td>08:00:00</td>\n",
       "      <td>48.8</td>\n",
       "      <td>1019.6</td>\n",
       "      <td>85.9</td>\n",
       "      <td>0.0</td>\n",
       "    </tr>\n",
       "    <tr>\n",
       "      <th>2024-05-19 09:00:00-07:00</th>\n",
       "      <td>2024-05-19</td>\n",
       "      <td>09:00:00</td>\n",
       "      <td>51.4</td>\n",
       "      <td>1020.2</td>\n",
       "      <td>77.0</td>\n",
       "      <td>0.0</td>\n",
       "    </tr>\n",
       "    <tr>\n",
       "      <th>2024-05-19 10:00:00-07:00</th>\n",
       "      <td>2024-05-19</td>\n",
       "      <td>10:00:00</td>\n",
       "      <td>52.9</td>\n",
       "      <td>1020.4</td>\n",
       "      <td>71.7</td>\n",
       "      <td>0.0</td>\n",
       "    </tr>\n",
       "    <tr>\n",
       "      <th>2024-05-19 11:00:00-07:00</th>\n",
       "      <td>2024-05-19</td>\n",
       "      <td>11:00:00</td>\n",
       "      <td>51.3</td>\n",
       "      <td>1020.7</td>\n",
       "      <td>74.5</td>\n",
       "      <td>0.0</td>\n",
       "    </tr>\n",
       "    <tr>\n",
       "      <th>2024-05-19 12:00:00-07:00</th>\n",
       "      <td>2024-05-19</td>\n",
       "      <td>12:00:00</td>\n",
       "      <td>53.4</td>\n",
       "      <td>1020.8</td>\n",
       "      <td>62.8</td>\n",
       "      <td>0.0</td>\n",
       "    </tr>\n",
       "    <tr>\n",
       "      <th>2024-05-19 13:00:00-07:00</th>\n",
       "      <td>2024-05-19</td>\n",
       "      <td>13:00:00</td>\n",
       "      <td>56.3</td>\n",
       "      <td>1020.8</td>\n",
       "      <td>58.4</td>\n",
       "      <td>0.0</td>\n",
       "    </tr>\n",
       "    <tr>\n",
       "      <th>2024-05-19 14:00:00-07:00</th>\n",
       "      <td>2024-05-19</td>\n",
       "      <td>14:00:00</td>\n",
       "      <td>59.1</td>\n",
       "      <td>1020.4</td>\n",
       "      <td>50.4</td>\n",
       "      <td>0.0</td>\n",
       "    </tr>\n",
       "    <tr>\n",
       "      <th>2024-05-19 15:00:00-07:00</th>\n",
       "      <td>2024-05-19</td>\n",
       "      <td>15:00:00</td>\n",
       "      <td>61.4</td>\n",
       "      <td>1020.2</td>\n",
       "      <td>49.6</td>\n",
       "      <td>0.0</td>\n",
       "    </tr>\n",
       "    <tr>\n",
       "      <th>2024-05-19 16:00:00-07:00</th>\n",
       "      <td>2024-05-19</td>\n",
       "      <td>16:00:00</td>\n",
       "      <td>62.1</td>\n",
       "      <td>1020.1</td>\n",
       "      <td>40.9</td>\n",
       "      <td>0.0</td>\n",
       "    </tr>\n",
       "    <tr>\n",
       "      <th>2024-05-19 17:00:00-07:00</th>\n",
       "      <td>2024-05-19</td>\n",
       "      <td>17:00:00</td>\n",
       "      <td>61.9</td>\n",
       "      <td>1019.6</td>\n",
       "      <td>43.1</td>\n",
       "      <td>0.0</td>\n",
       "    </tr>\n",
       "    <tr>\n",
       "      <th>2024-05-19 18:00:00-07:00</th>\n",
       "      <td>2024-05-19</td>\n",
       "      <td>18:00:00</td>\n",
       "      <td>61.6</td>\n",
       "      <td>1019.5</td>\n",
       "      <td>41.7</td>\n",
       "      <td>0.0</td>\n",
       "    </tr>\n",
       "    <tr>\n",
       "      <th>2024-05-19 19:00:00-07:00</th>\n",
       "      <td>2024-05-19</td>\n",
       "      <td>19:00:00</td>\n",
       "      <td>61.8</td>\n",
       "      <td>1019.5</td>\n",
       "      <td>40.6</td>\n",
       "      <td>0.0</td>\n",
       "    </tr>\n",
       "    <tr>\n",
       "      <th>2024-05-19 20:00:00-07:00</th>\n",
       "      <td>2024-05-19</td>\n",
       "      <td>20:00:00</td>\n",
       "      <td>60.8</td>\n",
       "      <td>1019.5</td>\n",
       "      <td>42.9</td>\n",
       "      <td>0.0</td>\n",
       "    </tr>\n",
       "    <tr>\n",
       "      <th>2024-05-19 21:00:00-07:00</th>\n",
       "      <td>2024-05-19</td>\n",
       "      <td>21:00:00</td>\n",
       "      <td>58.8</td>\n",
       "      <td>1019.6</td>\n",
       "      <td>45.2</td>\n",
       "      <td>0.0</td>\n",
       "    </tr>\n",
       "    <tr>\n",
       "      <th>2024-05-19 22:00:00-07:00</th>\n",
       "      <td>2024-05-19</td>\n",
       "      <td>22:00:00</td>\n",
       "      <td>56.4</td>\n",
       "      <td>1020.2</td>\n",
       "      <td>52.1</td>\n",
       "      <td>0.0</td>\n",
       "    </tr>\n",
       "    <tr>\n",
       "      <th>2024-05-19 23:00:00-07:00</th>\n",
       "      <td>2024-05-19</td>\n",
       "      <td>23:00:00</td>\n",
       "      <td>55.2</td>\n",
       "      <td>1020.3</td>\n",
       "      <td>60.2</td>\n",
       "      <td>0.0</td>\n",
       "    </tr>\n",
       "    <tr>\n",
       "      <th>2024-05-20 00:00:00-07:00</th>\n",
       "      <td>2024-05-20</td>\n",
       "      <td>00:00:00</td>\n",
       "      <td>53.3</td>\n",
       "      <td>1020.4</td>\n",
       "      <td>64.6</td>\n",
       "      <td>0.0</td>\n",
       "    </tr>\n",
       "    <tr>\n",
       "      <th>2024-05-20 01:00:00-07:00</th>\n",
       "      <td>2024-05-20</td>\n",
       "      <td>01:00:00</td>\n",
       "      <td>51.5</td>\n",
       "      <td>1020.9</td>\n",
       "      <td>69.2</td>\n",
       "      <td>0.0</td>\n",
       "    </tr>\n",
       "    <tr>\n",
       "      <th>2024-05-20 02:00:00-07:00</th>\n",
       "      <td>2024-05-20</td>\n",
       "      <td>02:00:00</td>\n",
       "      <td>51.7</td>\n",
       "      <td>1020.8</td>\n",
       "      <td>66.7</td>\n",
       "      <td>0.0</td>\n",
       "    </tr>\n",
       "    <tr>\n",
       "      <th>2024-05-20 03:00:00-07:00</th>\n",
       "      <td>2024-05-20</td>\n",
       "      <td>03:00:00</td>\n",
       "      <td>50.3</td>\n",
       "      <td>1020.8</td>\n",
       "      <td>76.9</td>\n",
       "      <td>0.0</td>\n",
       "    </tr>\n",
       "    <tr>\n",
       "      <th>2024-05-20 04:00:00-07:00</th>\n",
       "      <td>2024-05-20</td>\n",
       "      <td>04:00:00</td>\n",
       "      <td>49.4</td>\n",
       "      <td>1021.0</td>\n",
       "      <td>80.5</td>\n",
       "      <td>0.0</td>\n",
       "    </tr>\n",
       "    <tr>\n",
       "      <th>2024-05-20 05:00:00-07:00</th>\n",
       "      <td>2024-05-20</td>\n",
       "      <td>05:00:00</td>\n",
       "      <td>49.0</td>\n",
       "      <td>1020.7</td>\n",
       "      <td>82.7</td>\n",
       "      <td>0.0</td>\n",
       "    </tr>\n",
       "    <tr>\n",
       "      <th>2024-05-20 06:00:00-07:00</th>\n",
       "      <td>2024-05-20</td>\n",
       "      <td>06:00:00</td>\n",
       "      <td>48.3</td>\n",
       "      <td>1021.2</td>\n",
       "      <td>82.7</td>\n",
       "      <td>0.0</td>\n",
       "    </tr>\n",
       "    <tr>\n",
       "      <th>2024-05-20 07:00:00-07:00</th>\n",
       "      <td>2024-05-20</td>\n",
       "      <td>07:00:00</td>\n",
       "      <td>50.5</td>\n",
       "      <td>1021.5</td>\n",
       "      <td>77.6</td>\n",
       "      <td>0.0</td>\n",
       "    </tr>\n",
       "    <tr>\n",
       "      <th>2024-05-20 08:00:00-07:00</th>\n",
       "      <td>2024-05-20</td>\n",
       "      <td>08:00:00</td>\n",
       "      <td>50.1</td>\n",
       "      <td>1021.8</td>\n",
       "      <td>79.0</td>\n",
       "      <td>0.0</td>\n",
       "    </tr>\n",
       "    <tr>\n",
       "      <th>2024-05-20 09:00:00-07:00</th>\n",
       "      <td>2024-05-20</td>\n",
       "      <td>09:00:00</td>\n",
       "      <td>51.3</td>\n",
       "      <td>1021.7</td>\n",
       "      <td>76.8</td>\n",
       "      <td>0.0</td>\n",
       "    </tr>\n",
       "    <tr>\n",
       "      <th>2024-05-20 10:00:00-07:00</th>\n",
       "      <td>2024-05-20</td>\n",
       "      <td>10:00:00</td>\n",
       "      <td>52.8</td>\n",
       "      <td>1021.6</td>\n",
       "      <td>72.2</td>\n",
       "      <td>0.0</td>\n",
       "    </tr>\n",
       "    <tr>\n",
       "      <th>2024-05-20 11:00:00-07:00</th>\n",
       "      <td>2024-05-20</td>\n",
       "      <td>11:00:00</td>\n",
       "      <td>54.9</td>\n",
       "      <td>1021.3</td>\n",
       "      <td>66.6</td>\n",
       "      <td>0.0</td>\n",
       "    </tr>\n",
       "    <tr>\n",
       "      <th>2024-05-20 12:00:00-07:00</th>\n",
       "      <td>2024-05-20</td>\n",
       "      <td>12:00:00</td>\n",
       "      <td>56.6</td>\n",
       "      <td>1021.2</td>\n",
       "      <td>62.2</td>\n",
       "      <td>0.0</td>\n",
       "    </tr>\n",
       "    <tr>\n",
       "      <th>2024-05-20 13:00:00-07:00</th>\n",
       "      <td>2024-05-20</td>\n",
       "      <td>13:00:00</td>\n",
       "      <td>57.7</td>\n",
       "      <td>1021.0</td>\n",
       "      <td>58.3</td>\n",
       "      <td>0.0</td>\n",
       "    </tr>\n",
       "    <tr>\n",
       "      <th>2024-05-20 14:00:00-07:00</th>\n",
       "      <td>2024-05-20</td>\n",
       "      <td>14:00:00</td>\n",
       "      <td>59.6</td>\n",
       "      <td>1020.6</td>\n",
       "      <td>52.4</td>\n",
       "      <td>0.0</td>\n",
       "    </tr>\n",
       "    <tr>\n",
       "      <th>2024-05-20 15:00:00-07:00</th>\n",
       "      <td>2024-05-20</td>\n",
       "      <td>15:00:00</td>\n",
       "      <td>61.7</td>\n",
       "      <td>1020.1</td>\n",
       "      <td>49.9</td>\n",
       "      <td>0.0</td>\n",
       "    </tr>\n",
       "    <tr>\n",
       "      <th>2024-05-20 16:00:00-07:00</th>\n",
       "      <td>2024-05-20</td>\n",
       "      <td>16:00:00</td>\n",
       "      <td>63.0</td>\n",
       "      <td>1019.5</td>\n",
       "      <td>43.9</td>\n",
       "      <td>0.0</td>\n",
       "    </tr>\n",
       "    <tr>\n",
       "      <th>2024-05-20 17:00:00-07:00</th>\n",
       "      <td>2024-05-20</td>\n",
       "      <td>17:00:00</td>\n",
       "      <td>64.9</td>\n",
       "      <td>1018.7</td>\n",
       "      <td>42.7</td>\n",
       "      <td>0.0</td>\n",
       "    </tr>\n",
       "    <tr>\n",
       "      <th>2024-05-20 18:00:00-07:00</th>\n",
       "      <td>2024-05-20</td>\n",
       "      <td>18:00:00</td>\n",
       "      <td>64.7</td>\n",
       "      <td>1018.4</td>\n",
       "      <td>44.4</td>\n",
       "      <td>0.0</td>\n",
       "    </tr>\n",
       "    <tr>\n",
       "      <th>2024-05-20 19:00:00-07:00</th>\n",
       "      <td>2024-05-20</td>\n",
       "      <td>19:00:00</td>\n",
       "      <td>62.6</td>\n",
       "      <td>1018.3</td>\n",
       "      <td>48.5</td>\n",
       "      <td>0.0</td>\n",
       "    </tr>\n",
       "    <tr>\n",
       "      <th>2024-05-20 20:00:00-07:00</th>\n",
       "      <td>2024-05-20</td>\n",
       "      <td>20:00:00</td>\n",
       "      <td>63.4</td>\n",
       "      <td>1018.3</td>\n",
       "      <td>49.3</td>\n",
       "      <td>0.0</td>\n",
       "    </tr>\n",
       "    <tr>\n",
       "      <th>2024-05-20 21:00:00-07:00</th>\n",
       "      <td>2024-05-20</td>\n",
       "      <td>21:00:00</td>\n",
       "      <td>59.4</td>\n",
       "      <td>1018.4</td>\n",
       "      <td>61.7</td>\n",
       "      <td>0.0</td>\n",
       "    </tr>\n",
       "    <tr>\n",
       "      <th>2024-05-20 22:00:00-07:00</th>\n",
       "      <td>2024-05-20</td>\n",
       "      <td>22:00:00</td>\n",
       "      <td>56.1</td>\n",
       "      <td>1018.6</td>\n",
       "      <td>72.5</td>\n",
       "      <td>0.0</td>\n",
       "    </tr>\n",
       "  </tbody>\n",
       "</table>\n",
       "</div>"
      ],
      "text/plain": [
       "                                 date      time  temperature  pressure  \\\n",
       "datetime_PST                                                             \n",
       "2024-05-19 07:00:00-07:00  2024-05-19  07:00:00         48.3    1019.2   \n",
       "2024-05-19 08:00:00-07:00  2024-05-19  08:00:00         48.8    1019.6   \n",
       "2024-05-19 09:00:00-07:00  2024-05-19  09:00:00         51.4    1020.2   \n",
       "2024-05-19 10:00:00-07:00  2024-05-19  10:00:00         52.9    1020.4   \n",
       "2024-05-19 11:00:00-07:00  2024-05-19  11:00:00         51.3    1020.7   \n",
       "2024-05-19 12:00:00-07:00  2024-05-19  12:00:00         53.4    1020.8   \n",
       "2024-05-19 13:00:00-07:00  2024-05-19  13:00:00         56.3    1020.8   \n",
       "2024-05-19 14:00:00-07:00  2024-05-19  14:00:00         59.1    1020.4   \n",
       "2024-05-19 15:00:00-07:00  2024-05-19  15:00:00         61.4    1020.2   \n",
       "2024-05-19 16:00:00-07:00  2024-05-19  16:00:00         62.1    1020.1   \n",
       "2024-05-19 17:00:00-07:00  2024-05-19  17:00:00         61.9    1019.6   \n",
       "2024-05-19 18:00:00-07:00  2024-05-19  18:00:00         61.6    1019.5   \n",
       "2024-05-19 19:00:00-07:00  2024-05-19  19:00:00         61.8    1019.5   \n",
       "2024-05-19 20:00:00-07:00  2024-05-19  20:00:00         60.8    1019.5   \n",
       "2024-05-19 21:00:00-07:00  2024-05-19  21:00:00         58.8    1019.6   \n",
       "2024-05-19 22:00:00-07:00  2024-05-19  22:00:00         56.4    1020.2   \n",
       "2024-05-19 23:00:00-07:00  2024-05-19  23:00:00         55.2    1020.3   \n",
       "2024-05-20 00:00:00-07:00  2024-05-20  00:00:00         53.3    1020.4   \n",
       "2024-05-20 01:00:00-07:00  2024-05-20  01:00:00         51.5    1020.9   \n",
       "2024-05-20 02:00:00-07:00  2024-05-20  02:00:00         51.7    1020.8   \n",
       "2024-05-20 03:00:00-07:00  2024-05-20  03:00:00         50.3    1020.8   \n",
       "2024-05-20 04:00:00-07:00  2024-05-20  04:00:00         49.4    1021.0   \n",
       "2024-05-20 05:00:00-07:00  2024-05-20  05:00:00         49.0    1020.7   \n",
       "2024-05-20 06:00:00-07:00  2024-05-20  06:00:00         48.3    1021.2   \n",
       "2024-05-20 07:00:00-07:00  2024-05-20  07:00:00         50.5    1021.5   \n",
       "2024-05-20 08:00:00-07:00  2024-05-20  08:00:00         50.1    1021.8   \n",
       "2024-05-20 09:00:00-07:00  2024-05-20  09:00:00         51.3    1021.7   \n",
       "2024-05-20 10:00:00-07:00  2024-05-20  10:00:00         52.8    1021.6   \n",
       "2024-05-20 11:00:00-07:00  2024-05-20  11:00:00         54.9    1021.3   \n",
       "2024-05-20 12:00:00-07:00  2024-05-20  12:00:00         56.6    1021.2   \n",
       "2024-05-20 13:00:00-07:00  2024-05-20  13:00:00         57.7    1021.0   \n",
       "2024-05-20 14:00:00-07:00  2024-05-20  14:00:00         59.6    1020.6   \n",
       "2024-05-20 15:00:00-07:00  2024-05-20  15:00:00         61.7    1020.1   \n",
       "2024-05-20 16:00:00-07:00  2024-05-20  16:00:00         63.0    1019.5   \n",
       "2024-05-20 17:00:00-07:00  2024-05-20  17:00:00         64.9    1018.7   \n",
       "2024-05-20 18:00:00-07:00  2024-05-20  18:00:00         64.7    1018.4   \n",
       "2024-05-20 19:00:00-07:00  2024-05-20  19:00:00         62.6    1018.3   \n",
       "2024-05-20 20:00:00-07:00  2024-05-20  20:00:00         63.4    1018.3   \n",
       "2024-05-20 21:00:00-07:00  2024-05-20  21:00:00         59.4    1018.4   \n",
       "2024-05-20 22:00:00-07:00  2024-05-20  22:00:00         56.1    1018.6   \n",
       "\n",
       "                           relhum  rainfall_type  \n",
       "datetime_PST                                      \n",
       "2024-05-19 07:00:00-07:00    88.5            0.0  \n",
       "2024-05-19 08:00:00-07:00    85.9            0.0  \n",
       "2024-05-19 09:00:00-07:00    77.0            0.0  \n",
       "2024-05-19 10:00:00-07:00    71.7            0.0  \n",
       "2024-05-19 11:00:00-07:00    74.5            0.0  \n",
       "2024-05-19 12:00:00-07:00    62.8            0.0  \n",
       "2024-05-19 13:00:00-07:00    58.4            0.0  \n",
       "2024-05-19 14:00:00-07:00    50.4            0.0  \n",
       "2024-05-19 15:00:00-07:00    49.6            0.0  \n",
       "2024-05-19 16:00:00-07:00    40.9            0.0  \n",
       "2024-05-19 17:00:00-07:00    43.1            0.0  \n",
       "2024-05-19 18:00:00-07:00    41.7            0.0  \n",
       "2024-05-19 19:00:00-07:00    40.6            0.0  \n",
       "2024-05-19 20:00:00-07:00    42.9            0.0  \n",
       "2024-05-19 21:00:00-07:00    45.2            0.0  \n",
       "2024-05-19 22:00:00-07:00    52.1            0.0  \n",
       "2024-05-19 23:00:00-07:00    60.2            0.0  \n",
       "2024-05-20 00:00:00-07:00    64.6            0.0  \n",
       "2024-05-20 01:00:00-07:00    69.2            0.0  \n",
       "2024-05-20 02:00:00-07:00    66.7            0.0  \n",
       "2024-05-20 03:00:00-07:00    76.9            0.0  \n",
       "2024-05-20 04:00:00-07:00    80.5            0.0  \n",
       "2024-05-20 05:00:00-07:00    82.7            0.0  \n",
       "2024-05-20 06:00:00-07:00    82.7            0.0  \n",
       "2024-05-20 07:00:00-07:00    77.6            0.0  \n",
       "2024-05-20 08:00:00-07:00    79.0            0.0  \n",
       "2024-05-20 09:00:00-07:00    76.8            0.0  \n",
       "2024-05-20 10:00:00-07:00    72.2            0.0  \n",
       "2024-05-20 11:00:00-07:00    66.6            0.0  \n",
       "2024-05-20 12:00:00-07:00    62.2            0.0  \n",
       "2024-05-20 13:00:00-07:00    58.3            0.0  \n",
       "2024-05-20 14:00:00-07:00    52.4            0.0  \n",
       "2024-05-20 15:00:00-07:00    49.9            0.0  \n",
       "2024-05-20 16:00:00-07:00    43.9            0.0  \n",
       "2024-05-20 17:00:00-07:00    42.7            0.0  \n",
       "2024-05-20 18:00:00-07:00    44.4            0.0  \n",
       "2024-05-20 19:00:00-07:00    48.5            0.0  \n",
       "2024-05-20 20:00:00-07:00    49.3            0.0  \n",
       "2024-05-20 21:00:00-07:00    61.7            0.0  \n",
       "2024-05-20 22:00:00-07:00    72.5            0.0  "
      ]
     },
     "execution_count": 6,
     "metadata": {},
     "output_type": "execute_result"
    }
   ],
   "source": [
    "atg_obs_necessary.iloc[-100:-60,:]"
   ]
  },
  {
   "cell_type": "code",
   "execution_count": 7,
   "metadata": {},
   "outputs": [
    {
     "data": {
      "text/html": [
       "<div>\n",
       "<style scoped>\n",
       "    .dataframe tbody tr th:only-of-type {\n",
       "        vertical-align: middle;\n",
       "    }\n",
       "\n",
       "    .dataframe tbody tr th {\n",
       "        vertical-align: top;\n",
       "    }\n",
       "\n",
       "    .dataframe thead th {\n",
       "        text-align: right;\n",
       "    }\n",
       "</style>\n",
       "<table border=\"1\" class=\"dataframe\">\n",
       "  <thead>\n",
       "    <tr style=\"text-align: right;\">\n",
       "      <th></th>\n",
       "      <th>date</th>\n",
       "      <th>time</th>\n",
       "      <th>temperature</th>\n",
       "      <th>pressure</th>\n",
       "      <th>relhum</th>\n",
       "      <th>rainfall_type</th>\n",
       "    </tr>\n",
       "    <tr>\n",
       "      <th>datetime_PST</th>\n",
       "      <th></th>\n",
       "      <th></th>\n",
       "      <th></th>\n",
       "      <th></th>\n",
       "      <th></th>\n",
       "      <th></th>\n",
       "    </tr>\n",
       "  </thead>\n",
       "  <tbody>\n",
       "    <tr>\n",
       "      <th>2024-03-21 21:00:00-07:00</th>\n",
       "      <td>2024-03-21</td>\n",
       "      <td>21:00:00</td>\n",
       "      <td>52.7</td>\n",
       "      <td>1014.5</td>\n",
       "      <td>89.1</td>\n",
       "      <td>3.0</td>\n",
       "    </tr>\n",
       "    <tr>\n",
       "      <th>2024-04-02 22:00:00-07:00</th>\n",
       "      <td>2024-04-02</td>\n",
       "      <td>22:00:00</td>\n",
       "      <td>52.2</td>\n",
       "      <td>1017.0</td>\n",
       "      <td>75.2</td>\n",
       "      <td>3.0</td>\n",
       "    </tr>\n",
       "    <tr>\n",
       "      <th>2024-04-02 23:00:00-07:00</th>\n",
       "      <td>2024-04-02</td>\n",
       "      <td>23:00:00</td>\n",
       "      <td>46.2</td>\n",
       "      <td>1017.6</td>\n",
       "      <td>91.6</td>\n",
       "      <td>3.0</td>\n",
       "    </tr>\n",
       "    <tr>\n",
       "      <th>2024-04-29 04:00:00-07:00</th>\n",
       "      <td>2024-04-29</td>\n",
       "      <td>04:00:00</td>\n",
       "      <td>43.4</td>\n",
       "      <td>1012.1</td>\n",
       "      <td>90.0</td>\n",
       "      <td>3.0</td>\n",
       "    </tr>\n",
       "    <tr>\n",
       "      <th>2024-04-29 17:00:00-07:00</th>\n",
       "      <td>2024-04-29</td>\n",
       "      <td>17:00:00</td>\n",
       "      <td>50.7</td>\n",
       "      <td>1014.3</td>\n",
       "      <td>61.5</td>\n",
       "      <td>3.0</td>\n",
       "    </tr>\n",
       "    <tr>\n",
       "      <th>2024-04-29 18:00:00-07:00</th>\n",
       "      <td>2024-04-29</td>\n",
       "      <td>18:00:00</td>\n",
       "      <td>47.9</td>\n",
       "      <td>1014.4</td>\n",
       "      <td>76.0</td>\n",
       "      <td>3.0</td>\n",
       "    </tr>\n",
       "    <tr>\n",
       "      <th>2024-05-07 00:00:00-07:00</th>\n",
       "      <td>2024-05-07</td>\n",
       "      <td>00:00:00</td>\n",
       "      <td>46.0</td>\n",
       "      <td>1013.1</td>\n",
       "      <td>91.5</td>\n",
       "      <td>3.0</td>\n",
       "    </tr>\n",
       "    <tr>\n",
       "      <th>2024-05-19 04:00:00-07:00</th>\n",
       "      <td>2024-05-19</td>\n",
       "      <td>04:00:00</td>\n",
       "      <td>48.6</td>\n",
       "      <td>1017.7</td>\n",
       "      <td>88.1</td>\n",
       "      <td>3.0</td>\n",
       "    </tr>\n",
       "    <tr>\n",
       "      <th>2024-05-22 02:00:00-07:00</th>\n",
       "      <td>2024-05-22</td>\n",
       "      <td>02:00:00</td>\n",
       "      <td>47.1</td>\n",
       "      <td>1006.1</td>\n",
       "      <td>88.4</td>\n",
       "      <td>3.0</td>\n",
       "    </tr>\n",
       "    <tr>\n",
       "      <th>2024-05-22 03:00:00-07:00</th>\n",
       "      <td>2024-05-22</td>\n",
       "      <td>03:00:00</td>\n",
       "      <td>46.7</td>\n",
       "      <td>1007.0</td>\n",
       "      <td>92.9</td>\n",
       "      <td>3.0</td>\n",
       "    </tr>\n",
       "  </tbody>\n",
       "</table>\n",
       "</div>"
      ],
      "text/plain": [
       "                                 date      time  temperature  pressure  \\\n",
       "datetime_PST                                                             \n",
       "2024-03-21 21:00:00-07:00  2024-03-21  21:00:00         52.7    1014.5   \n",
       "2024-04-02 22:00:00-07:00  2024-04-02  22:00:00         52.2    1017.0   \n",
       "2024-04-02 23:00:00-07:00  2024-04-02  23:00:00         46.2    1017.6   \n",
       "2024-04-29 04:00:00-07:00  2024-04-29  04:00:00         43.4    1012.1   \n",
       "2024-04-29 17:00:00-07:00  2024-04-29  17:00:00         50.7    1014.3   \n",
       "2024-04-29 18:00:00-07:00  2024-04-29  18:00:00         47.9    1014.4   \n",
       "2024-05-07 00:00:00-07:00  2024-05-07  00:00:00         46.0    1013.1   \n",
       "2024-05-19 04:00:00-07:00  2024-05-19  04:00:00         48.6    1017.7   \n",
       "2024-05-22 02:00:00-07:00  2024-05-22  02:00:00         47.1    1006.1   \n",
       "2024-05-22 03:00:00-07:00  2024-05-22  03:00:00         46.7    1007.0   \n",
       "\n",
       "                           relhum  rainfall_type  \n",
       "datetime_PST                                      \n",
       "2024-03-21 21:00:00-07:00    89.1            3.0  \n",
       "2024-04-02 22:00:00-07:00    75.2            3.0  \n",
       "2024-04-02 23:00:00-07:00    91.6            3.0  \n",
       "2024-04-29 04:00:00-07:00    90.0            3.0  \n",
       "2024-04-29 17:00:00-07:00    61.5            3.0  \n",
       "2024-04-29 18:00:00-07:00    76.0            3.0  \n",
       "2024-05-07 00:00:00-07:00    91.5            3.0  \n",
       "2024-05-19 04:00:00-07:00    88.1            3.0  \n",
       "2024-05-22 02:00:00-07:00    88.4            3.0  \n",
       "2024-05-22 03:00:00-07:00    92.9            3.0  "
      ]
     },
     "execution_count": 7,
     "metadata": {},
     "output_type": "execute_result"
    }
   ],
   "source": [
    "atg_obs_necessary[atg_obs_necessary['rainfall_type']==3][-10:]"
   ]
  },
  {
   "cell_type": "code",
   "execution_count": 8,
   "metadata": {},
   "outputs": [],
   "source": [
    "def select_times_around_specific_events(atg_obs_necessary, event, num_days_around):\n",
    "    notable_event_times = atg_obs_necessary.loc[atg_obs_necessary['rainfall_type']>=event].index\n",
    "\n",
    "    relevant_events = pd.DataFrame()\n",
    "    for event_time in notable_event_times:\n",
    "        start_time = event_time-pd.Timedelta(days=num_days_around)\n",
    "        end_time = event_time+pd.Timedelta(days=num_days_around)\n",
    "        time_around_event = atg_obs_necessary.loc[start_time:end_time].copy()\n",
    "        relevant_events = pd.concat([relevant_events, time_around_event]).drop_duplicates()\n",
    "    \n",
    "    return relevant_events"
   ]
  },
  {
   "cell_type": "code",
   "execution_count": 9,
   "metadata": {},
   "outputs": [
    {
     "data": {
      "text/html": [
       "<div>\n",
       "<style scoped>\n",
       "    .dataframe tbody tr th:only-of-type {\n",
       "        vertical-align: middle;\n",
       "    }\n",
       "\n",
       "    .dataframe tbody tr th {\n",
       "        vertical-align: top;\n",
       "    }\n",
       "\n",
       "    .dataframe thead th {\n",
       "        text-align: right;\n",
       "    }\n",
       "</style>\n",
       "<table border=\"1\" class=\"dataframe\">\n",
       "  <thead>\n",
       "    <tr style=\"text-align: right;\">\n",
       "      <th></th>\n",
       "      <th>date</th>\n",
       "      <th>time</th>\n",
       "      <th>temperature</th>\n",
       "      <th>pressure</th>\n",
       "      <th>relhum</th>\n",
       "      <th>rainfall_type</th>\n",
       "    </tr>\n",
       "    <tr>\n",
       "      <th>datetime_PST</th>\n",
       "      <th></th>\n",
       "      <th></th>\n",
       "      <th></th>\n",
       "      <th></th>\n",
       "      <th></th>\n",
       "      <th></th>\n",
       "    </tr>\n",
       "  </thead>\n",
       "  <tbody>\n",
       "    <tr>\n",
       "      <th>2022-12-31 16:00:00-08:00</th>\n",
       "      <td>2022-12-31</td>\n",
       "      <td>16:00:00</td>\n",
       "      <td>48.2</td>\n",
       "      <td>1008.5</td>\n",
       "      <td>80.8</td>\n",
       "      <td>0.0</td>\n",
       "    </tr>\n",
       "    <tr>\n",
       "      <th>2022-12-31 17:00:00-08:00</th>\n",
       "      <td>2022-12-31</td>\n",
       "      <td>17:00:00</td>\n",
       "      <td>48.5</td>\n",
       "      <td>1009.2</td>\n",
       "      <td>81.2</td>\n",
       "      <td>0.0</td>\n",
       "    </tr>\n",
       "    <tr>\n",
       "      <th>2022-12-31 18:00:00-08:00</th>\n",
       "      <td>2022-12-31</td>\n",
       "      <td>18:00:00</td>\n",
       "      <td>47.2</td>\n",
       "      <td>1009.8</td>\n",
       "      <td>89.0</td>\n",
       "      <td>0.0</td>\n",
       "    </tr>\n",
       "    <tr>\n",
       "      <th>2022-12-31 19:00:00-08:00</th>\n",
       "      <td>2022-12-31</td>\n",
       "      <td>19:00:00</td>\n",
       "      <td>47.3</td>\n",
       "      <td>1010.2</td>\n",
       "      <td>87.6</td>\n",
       "      <td>0.0</td>\n",
       "    </tr>\n",
       "    <tr>\n",
       "      <th>2022-12-31 20:00:00-08:00</th>\n",
       "      <td>2022-12-31</td>\n",
       "      <td>20:00:00</td>\n",
       "      <td>47.0</td>\n",
       "      <td>1011.0</td>\n",
       "      <td>87.9</td>\n",
       "      <td>1.0</td>\n",
       "    </tr>\n",
       "    <tr>\n",
       "      <th>...</th>\n",
       "      <td>...</td>\n",
       "      <td>...</td>\n",
       "      <td>...</td>\n",
       "      <td>...</td>\n",
       "      <td>...</td>\n",
       "      <td>...</td>\n",
       "    </tr>\n",
       "    <tr>\n",
       "      <th>2024-05-23 06:00:00-07:00</th>\n",
       "      <td>2024-05-23</td>\n",
       "      <td>06:00:00</td>\n",
       "      <td>50.5</td>\n",
       "      <td>1016.5</td>\n",
       "      <td>77.4</td>\n",
       "      <td>0.0</td>\n",
       "    </tr>\n",
       "    <tr>\n",
       "      <th>2024-05-23 07:00:00-07:00</th>\n",
       "      <td>2024-05-23</td>\n",
       "      <td>07:00:00</td>\n",
       "      <td>51.7</td>\n",
       "      <td>1016.8</td>\n",
       "      <td>74.0</td>\n",
       "      <td>0.0</td>\n",
       "    </tr>\n",
       "    <tr>\n",
       "      <th>2024-05-23 08:00:00-07:00</th>\n",
       "      <td>2024-05-23</td>\n",
       "      <td>08:00:00</td>\n",
       "      <td>52.4</td>\n",
       "      <td>1017.0</td>\n",
       "      <td>69.1</td>\n",
       "      <td>0.0</td>\n",
       "    </tr>\n",
       "    <tr>\n",
       "      <th>2024-05-23 09:00:00-07:00</th>\n",
       "      <td>2024-05-23</td>\n",
       "      <td>09:00:00</td>\n",
       "      <td>53.2</td>\n",
       "      <td>1017.0</td>\n",
       "      <td>66.1</td>\n",
       "      <td>0.0</td>\n",
       "    </tr>\n",
       "    <tr>\n",
       "      <th>2024-05-23 10:00:00-07:00</th>\n",
       "      <td>2024-05-23</td>\n",
       "      <td>10:00:00</td>\n",
       "      <td>54.4</td>\n",
       "      <td>1017.1</td>\n",
       "      <td>60.9</td>\n",
       "      <td>0.0</td>\n",
       "    </tr>\n",
       "  </tbody>\n",
       "</table>\n",
       "<p>10146 rows × 6 columns</p>\n",
       "</div>"
      ],
      "text/plain": [
       "                                 date      time  temperature  pressure  \\\n",
       "datetime_PST                                                             \n",
       "2022-12-31 16:00:00-08:00  2022-12-31  16:00:00         48.2    1008.5   \n",
       "2022-12-31 17:00:00-08:00  2022-12-31  17:00:00         48.5    1009.2   \n",
       "2022-12-31 18:00:00-08:00  2022-12-31  18:00:00         47.2    1009.8   \n",
       "2022-12-31 19:00:00-08:00  2022-12-31  19:00:00         47.3    1010.2   \n",
       "2022-12-31 20:00:00-08:00  2022-12-31  20:00:00         47.0    1011.0   \n",
       "...                               ...       ...          ...       ...   \n",
       "2024-05-23 06:00:00-07:00  2024-05-23  06:00:00         50.5    1016.5   \n",
       "2024-05-23 07:00:00-07:00  2024-05-23  07:00:00         51.7    1016.8   \n",
       "2024-05-23 08:00:00-07:00  2024-05-23  08:00:00         52.4    1017.0   \n",
       "2024-05-23 09:00:00-07:00  2024-05-23  09:00:00         53.2    1017.0   \n",
       "2024-05-23 10:00:00-07:00  2024-05-23  10:00:00         54.4    1017.1   \n",
       "\n",
       "                           relhum  rainfall_type  \n",
       "datetime_PST                                      \n",
       "2022-12-31 16:00:00-08:00    80.8            0.0  \n",
       "2022-12-31 17:00:00-08:00    81.2            0.0  \n",
       "2022-12-31 18:00:00-08:00    89.0            0.0  \n",
       "2022-12-31 19:00:00-08:00    87.6            0.0  \n",
       "2022-12-31 20:00:00-08:00    87.9            1.0  \n",
       "...                           ...            ...  \n",
       "2024-05-23 06:00:00-07:00    77.4            0.0  \n",
       "2024-05-23 07:00:00-07:00    74.0            0.0  \n",
       "2024-05-23 08:00:00-07:00    69.1            0.0  \n",
       "2024-05-23 09:00:00-07:00    66.1            0.0  \n",
       "2024-05-23 10:00:00-07:00    60.9            0.0  \n",
       "\n",
       "[10146 rows x 6 columns]"
      ]
     },
     "execution_count": 9,
     "metadata": {},
     "output_type": "execute_result"
    }
   ],
   "source": [
    "relevant_events = select_times_around_specific_events(atg_obs_necessary, 3, 15)\n",
    "relevant_events"
   ]
  },
  {
   "cell_type": "code",
   "execution_count": 10,
   "metadata": {},
   "outputs": [
    {
     "data": {
      "image/png": "[encoded data removed]",
      "text/plain": [
       "<Figure size 600x400 with 1 Axes>"
      ]
     },
     "metadata": {},
     "output_type": "display_data"
    },
    {
     "data": {
      "text/plain": [
       "(array([8747, 1109,  188,  102]), array([0., 1., 2., 3., 4.]))"
      ]
     },
     "execution_count": 10,
     "metadata": {},
     "output_type": "execute_result"
    }
   ],
   "source": [
    "rain_counts, classes = np.histogram(relevant_events['rainfall_type'].values, bins=np.arange(0,relevant_events['rainfall_type'].max()+2))\n",
    "\n",
    "plt.figure(figsize=(6,4))\n",
    "plt.bar(x=np.arange(0,relevant_events['rainfall_type'].max()+1), width=1, height=rain_counts, facecolor='blue', edgecolor='k', alpha=0.6)\n",
    "plt.ylabel('# of hours')\n",
    "plt.xticks(ticks=np.arange(0,relevant_events['rainfall_type'].max()+1), labels=['No rain', 'Light', 'Mid', 'Heavy'])\n",
    "plt.xlabel('Rainfall type')\n",
    "plt.show()\n",
    "rain_counts, classes"
   ]
  },
  {
   "cell_type": "code",
   "execution_count": 11,
   "metadata": {},
   "outputs": [],
   "source": [
    "def get_processed_df_from_data(dataset):\n",
    "    date_objs = pd.to_datetime(dataset['date'], format=\"%Y-%m-%d\")\n",
    "    time_objs = pd.to_datetime(dataset['time'], format='%H:%M:%S')\n",
    "\n",
    "    months = pd.DatetimeIndex(date_objs).month\n",
    "    hours = pd.DatetimeIndex(time_objs).hour\n",
    "\n",
    "    processed_df = pd.DataFrame()\n",
    "    # processed_df['months_from_july'] = (np.abs(months - 7))\n",
    "    # processed_df['time_of_day'] = (((hours-2)%24) // 6).astype(int)\n",
    "\n",
    "    vals = dataset['temperature']\n",
    "    processed_df['feature_1'] = vals.values\n",
    "\n",
    "    vals = dataset['pressure']\n",
    "    processed_df['feature_3'] = vals.values\n",
    "\n",
    "    vals = dataset['relhum']\n",
    "    processed_df['feature_2'] = vals.values\n",
    "    \n",
    "    processed_df['class'] = dataset['rainfall_type'].values\n",
    "    return processed_df"
   ]
  },
  {
   "cell_type": "code",
   "execution_count": 12,
   "metadata": {},
   "outputs": [],
   "source": [
    "def create_oversampled_df(processed_df):\n",
    "    num_zeros = processed_df[processed_df['class']==0].shape[0]\n",
    "\n",
    "    zeros_samps = processed_df[processed_df['class']==0].copy()\n",
    "    dupl_processed_df = zeros_samps\n",
    "    for group in np.arange(1, 4):\n",
    "        under_group_samps = processed_df[processed_df['class']==group].copy()\n",
    "        group_samps = under_group_samps.sample(n=(num_zeros-len(under_group_samps)), replace=True, random_state=42)\n",
    "        \n",
    "        np.random.seed(1)\n",
    "        noise = np.random.normal(0,1,(num_zeros-len(under_group_samps)))\n",
    "        group_samps['feature_1'] = group_samps['feature_1']+noise\n",
    "\n",
    "        np.random.seed(2)\n",
    "        noise = np.random.normal(0,1,(num_zeros-len(under_group_samps)))\n",
    "        group_samps['feature_2'] = group_samps['feature_2']+noise\n",
    "\n",
    "        np.random.seed(3)\n",
    "        noise = np.random.normal(0,1,(num_zeros-len(under_group_samps)))\n",
    "        group_samps['feature_3'] = group_samps['feature_3']+noise\n",
    "\n",
    "        dupl_processed_df = pd.concat([dupl_processed_df, under_group_samps, group_samps])\n",
    "\n",
    "    return dupl_processed_df"
   ]
  },
  {
   "cell_type": "code",
   "execution_count": 13,
   "metadata": {},
   "outputs": [],
   "source": [
    "raw_df_train_val, raw_under_df_test = train_test_split(relevant_events,random_state=42,test_size=0.2)\n",
    "raw_under_df_train, raw_under_df_val = train_test_split(raw_df_train_val,random_state=42,test_size=0.25)"
   ]
  },
  {
   "cell_type": "code",
   "execution_count": 14,
   "metadata": {},
   "outputs": [],
   "source": [
    "raw_under_df_train = raw_under_df_train.sort_index()\n",
    "raw_under_df_val = raw_under_df_val.sort_index()\n",
    "raw_under_df_test = raw_under_df_test.sort_index()"
   ]
  },
  {
   "cell_type": "code",
   "execution_count": 15,
   "metadata": {},
   "outputs": [
    {
     "data": {
      "text/html": [
       "<div>\n",
       "<style scoped>\n",
       "    .dataframe tbody tr th:only-of-type {\n",
       "        vertical-align: middle;\n",
       "    }\n",
       "\n",
       "    .dataframe tbody tr th {\n",
       "        vertical-align: top;\n",
       "    }\n",
       "\n",
       "    .dataframe thead th {\n",
       "        text-align: right;\n",
       "    }\n",
       "</style>\n",
       "<table border=\"1\" class=\"dataframe\">\n",
       "  <thead>\n",
       "    <tr style=\"text-align: right;\">\n",
       "      <th></th>\n",
       "      <th>date</th>\n",
       "      <th>time</th>\n",
       "      <th>temperature</th>\n",
       "      <th>pressure</th>\n",
       "      <th>relhum</th>\n",
       "      <th>rainfall_type</th>\n",
       "    </tr>\n",
       "    <tr>\n",
       "      <th>datetime_PST</th>\n",
       "      <th></th>\n",
       "      <th></th>\n",
       "      <th></th>\n",
       "      <th></th>\n",
       "      <th></th>\n",
       "      <th></th>\n",
       "    </tr>\n",
       "  </thead>\n",
       "  <tbody>\n",
       "    <tr>\n",
       "      <th>2022-12-31 17:00:00-08:00</th>\n",
       "      <td>2022-12-31</td>\n",
       "      <td>17:00:00</td>\n",
       "      <td>48.5</td>\n",
       "      <td>1009.2</td>\n",
       "      <td>81.2</td>\n",
       "      <td>0.0</td>\n",
       "    </tr>\n",
       "    <tr>\n",
       "      <th>2022-12-31 18:00:00-08:00</th>\n",
       "      <td>2022-12-31</td>\n",
       "      <td>18:00:00</td>\n",
       "      <td>47.2</td>\n",
       "      <td>1009.8</td>\n",
       "      <td>89.0</td>\n",
       "      <td>0.0</td>\n",
       "    </tr>\n",
       "    <tr>\n",
       "      <th>2022-12-31 20:00:00-08:00</th>\n",
       "      <td>2022-12-31</td>\n",
       "      <td>20:00:00</td>\n",
       "      <td>47.0</td>\n",
       "      <td>1011.0</td>\n",
       "      <td>87.9</td>\n",
       "      <td>1.0</td>\n",
       "    </tr>\n",
       "    <tr>\n",
       "      <th>2022-12-31 21:00:00-08:00</th>\n",
       "      <td>2022-12-31</td>\n",
       "      <td>21:00:00</td>\n",
       "      <td>46.2</td>\n",
       "      <td>1011.7</td>\n",
       "      <td>90.6</td>\n",
       "      <td>0.0</td>\n",
       "    </tr>\n",
       "    <tr>\n",
       "      <th>2022-12-31 22:00:00-08:00</th>\n",
       "      <td>2022-12-31</td>\n",
       "      <td>22:00:00</td>\n",
       "      <td>45.9</td>\n",
       "      <td>1012.3</td>\n",
       "      <td>90.5</td>\n",
       "      <td>0.0</td>\n",
       "    </tr>\n",
       "    <tr>\n",
       "      <th>...</th>\n",
       "      <td>...</td>\n",
       "      <td>...</td>\n",
       "      <td>...</td>\n",
       "      <td>...</td>\n",
       "      <td>...</td>\n",
       "      <td>...</td>\n",
       "    </tr>\n",
       "    <tr>\n",
       "      <th>2024-05-23 05:00:00-07:00</th>\n",
       "      <td>2024-05-23</td>\n",
       "      <td>05:00:00</td>\n",
       "      <td>50.2</td>\n",
       "      <td>1016.3</td>\n",
       "      <td>78.6</td>\n",
       "      <td>0.0</td>\n",
       "    </tr>\n",
       "    <tr>\n",
       "      <th>2024-05-23 06:00:00-07:00</th>\n",
       "      <td>2024-05-23</td>\n",
       "      <td>06:00:00</td>\n",
       "      <td>50.5</td>\n",
       "      <td>1016.5</td>\n",
       "      <td>77.4</td>\n",
       "      <td>0.0</td>\n",
       "    </tr>\n",
       "    <tr>\n",
       "      <th>2024-05-23 07:00:00-07:00</th>\n",
       "      <td>2024-05-23</td>\n",
       "      <td>07:00:00</td>\n",
       "      <td>51.7</td>\n",
       "      <td>1016.8</td>\n",
       "      <td>74.0</td>\n",
       "      <td>0.0</td>\n",
       "    </tr>\n",
       "    <tr>\n",
       "      <th>2024-05-23 08:00:00-07:00</th>\n",
       "      <td>2024-05-23</td>\n",
       "      <td>08:00:00</td>\n",
       "      <td>52.4</td>\n",
       "      <td>1017.0</td>\n",
       "      <td>69.1</td>\n",
       "      <td>0.0</td>\n",
       "    </tr>\n",
       "    <tr>\n",
       "      <th>2024-05-23 10:00:00-07:00</th>\n",
       "      <td>2024-05-23</td>\n",
       "      <td>10:00:00</td>\n",
       "      <td>54.4</td>\n",
       "      <td>1017.1</td>\n",
       "      <td>60.9</td>\n",
       "      <td>0.0</td>\n",
       "    </tr>\n",
       "  </tbody>\n",
       "</table>\n",
       "<p>6087 rows × 6 columns</p>\n",
       "</div>"
      ],
      "text/plain": [
       "                                 date      time  temperature  pressure  \\\n",
       "datetime_PST                                                             \n",
       "2022-12-31 17:00:00-08:00  2022-12-31  17:00:00         48.5    1009.2   \n",
       "2022-12-31 18:00:00-08:00  2022-12-31  18:00:00         47.2    1009.8   \n",
       "2022-12-31 20:00:00-08:00  2022-12-31  20:00:00         47.0    1011.0   \n",
       "2022-12-31 21:00:00-08:00  2022-12-31  21:00:00         46.2    1011.7   \n",
       "2022-12-31 22:00:00-08:00  2022-12-31  22:00:00         45.9    1012.3   \n",
       "...                               ...       ...          ...       ...   \n",
       "2024-05-23 05:00:00-07:00  2024-05-23  05:00:00         50.2    1016.3   \n",
       "2024-05-23 06:00:00-07:00  2024-05-23  06:00:00         50.5    1016.5   \n",
       "2024-05-23 07:00:00-07:00  2024-05-23  07:00:00         51.7    1016.8   \n",
       "2024-05-23 08:00:00-07:00  2024-05-23  08:00:00         52.4    1017.0   \n",
       "2024-05-23 10:00:00-07:00  2024-05-23  10:00:00         54.4    1017.1   \n",
       "\n",
       "                           relhum  rainfall_type  \n",
       "datetime_PST                                      \n",
       "2022-12-31 17:00:00-08:00    81.2            0.0  \n",
       "2022-12-31 18:00:00-08:00    89.0            0.0  \n",
       "2022-12-31 20:00:00-08:00    87.9            1.0  \n",
       "2022-12-31 21:00:00-08:00    90.6            0.0  \n",
       "2022-12-31 22:00:00-08:00    90.5            0.0  \n",
       "...                           ...            ...  \n",
       "2024-05-23 05:00:00-07:00    78.6            0.0  \n",
       "2024-05-23 06:00:00-07:00    77.4            0.0  \n",
       "2024-05-23 07:00:00-07:00    74.0            0.0  \n",
       "2024-05-23 08:00:00-07:00    69.1            0.0  \n",
       "2024-05-23 10:00:00-07:00    60.9            0.0  \n",
       "\n",
       "[6087 rows x 6 columns]"
      ]
     },
     "execution_count": 15,
     "metadata": {},
     "output_type": "execute_result"
    }
   ],
   "source": [
    "raw_under_df_train"
   ]
  },
  {
   "cell_type": "code",
   "execution_count": 16,
   "metadata": {},
   "outputs": [
    {
     "data": {
      "text/html": [
       "<div>\n",
       "<style scoped>\n",
       "    .dataframe tbody tr th:only-of-type {\n",
       "        vertical-align: middle;\n",
       "    }\n",
       "\n",
       "    .dataframe tbody tr th {\n",
       "        vertical-align: top;\n",
       "    }\n",
       "\n",
       "    .dataframe thead th {\n",
       "        text-align: right;\n",
       "    }\n",
       "</style>\n",
       "<table border=\"1\" class=\"dataframe\">\n",
       "  <thead>\n",
       "    <tr style=\"text-align: right;\">\n",
       "      <th></th>\n",
       "      <th>feature_1</th>\n",
       "      <th>feature_3</th>\n",
       "      <th>feature_2</th>\n",
       "      <th>class</th>\n",
       "    </tr>\n",
       "  </thead>\n",
       "  <tbody>\n",
       "    <tr>\n",
       "      <th>0</th>\n",
       "      <td>48.5</td>\n",
       "      <td>1009.2</td>\n",
       "      <td>81.2</td>\n",
       "      <td>0.0</td>\n",
       "    </tr>\n",
       "    <tr>\n",
       "      <th>1</th>\n",
       "      <td>47.2</td>\n",
       "      <td>1009.8</td>\n",
       "      <td>89.0</td>\n",
       "      <td>0.0</td>\n",
       "    </tr>\n",
       "    <tr>\n",
       "      <th>2</th>\n",
       "      <td>47.0</td>\n",
       "      <td>1011.0</td>\n",
       "      <td>87.9</td>\n",
       "      <td>1.0</td>\n",
       "    </tr>\n",
       "    <tr>\n",
       "      <th>3</th>\n",
       "      <td>46.2</td>\n",
       "      <td>1011.7</td>\n",
       "      <td>90.6</td>\n",
       "      <td>0.0</td>\n",
       "    </tr>\n",
       "    <tr>\n",
       "      <th>4</th>\n",
       "      <td>45.9</td>\n",
       "      <td>1012.3</td>\n",
       "      <td>90.5</td>\n",
       "      <td>0.0</td>\n",
       "    </tr>\n",
       "    <tr>\n",
       "      <th>...</th>\n",
       "      <td>...</td>\n",
       "      <td>...</td>\n",
       "      <td>...</td>\n",
       "      <td>...</td>\n",
       "    </tr>\n",
       "    <tr>\n",
       "      <th>6082</th>\n",
       "      <td>50.2</td>\n",
       "      <td>1016.3</td>\n",
       "      <td>78.6</td>\n",
       "      <td>0.0</td>\n",
       "    </tr>\n",
       "    <tr>\n",
       "      <th>6083</th>\n",
       "      <td>50.5</td>\n",
       "      <td>1016.5</td>\n",
       "      <td>77.4</td>\n",
       "      <td>0.0</td>\n",
       "    </tr>\n",
       "    <tr>\n",
       "      <th>6084</th>\n",
       "      <td>51.7</td>\n",
       "      <td>1016.8</td>\n",
       "      <td>74.0</td>\n",
       "      <td>0.0</td>\n",
       "    </tr>\n",
       "    <tr>\n",
       "      <th>6085</th>\n",
       "      <td>52.4</td>\n",
       "      <td>1017.0</td>\n",
       "      <td>69.1</td>\n",
       "      <td>0.0</td>\n",
       "    </tr>\n",
       "    <tr>\n",
       "      <th>6086</th>\n",
       "      <td>54.4</td>\n",
       "      <td>1017.1</td>\n",
       "      <td>60.9</td>\n",
       "      <td>0.0</td>\n",
       "    </tr>\n",
       "  </tbody>\n",
       "</table>\n",
       "<p>6087 rows × 4 columns</p>\n",
       "</div>"
      ],
      "text/plain": [
       "      feature_1  feature_3  feature_2  class\n",
       "0          48.5     1009.2       81.2    0.0\n",
       "1          47.2     1009.8       89.0    0.0\n",
       "2          47.0     1011.0       87.9    1.0\n",
       "3          46.2     1011.7       90.6    0.0\n",
       "4          45.9     1012.3       90.5    0.0\n",
       "...         ...        ...        ...    ...\n",
       "6082       50.2     1016.3       78.6    0.0\n",
       "6083       50.5     1016.5       77.4    0.0\n",
       "6084       51.7     1016.8       74.0    0.0\n",
       "6085       52.4     1017.0       69.1    0.0\n",
       "6086       54.4     1017.1       60.9    0.0\n",
       "\n",
       "[6087 rows x 4 columns]"
      ]
     },
     "execution_count": 16,
     "metadata": {},
     "output_type": "execute_result"
    }
   ],
   "source": [
    "under_sam_reltimes_tr = get_processed_df_from_data(raw_under_df_train)\n",
    "processed_df_train = create_oversampled_df(under_sam_reltimes_tr)\n",
    "under_sam_reltimes_tr"
   ]
  },
  {
   "cell_type": "code",
   "execution_count": 17,
   "metadata": {},
   "outputs": [
    {
     "data": {
      "text/html": [
       "<div>\n",
       "<style scoped>\n",
       "    .dataframe tbody tr th:only-of-type {\n",
       "        vertical-align: middle;\n",
       "    }\n",
       "\n",
       "    .dataframe tbody tr th {\n",
       "        vertical-align: top;\n",
       "    }\n",
       "\n",
       "    .dataframe thead th {\n",
       "        text-align: right;\n",
       "    }\n",
       "</style>\n",
       "<table border=\"1\" class=\"dataframe\">\n",
       "  <thead>\n",
       "    <tr style=\"text-align: right;\">\n",
       "      <th></th>\n",
       "      <th>feature_1</th>\n",
       "      <th>feature_3</th>\n",
       "      <th>feature_2</th>\n",
       "      <th>class</th>\n",
       "    </tr>\n",
       "  </thead>\n",
       "  <tbody>\n",
       "    <tr>\n",
       "      <th>0</th>\n",
       "      <td>44.7</td>\n",
       "      <td>1018.0</td>\n",
       "      <td>87.5</td>\n",
       "      <td>0.0</td>\n",
       "    </tr>\n",
       "    <tr>\n",
       "      <th>1</th>\n",
       "      <td>43.4</td>\n",
       "      <td>1013.5</td>\n",
       "      <td>88.4</td>\n",
       "      <td>0.0</td>\n",
       "    </tr>\n",
       "    <tr>\n",
       "      <th>2</th>\n",
       "      <td>38.2</td>\n",
       "      <td>1004.2</td>\n",
       "      <td>78.1</td>\n",
       "      <td>0.0</td>\n",
       "    </tr>\n",
       "    <tr>\n",
       "      <th>3</th>\n",
       "      <td>48.2</td>\n",
       "      <td>1001.1</td>\n",
       "      <td>55.2</td>\n",
       "      <td>0.0</td>\n",
       "    </tr>\n",
       "    <tr>\n",
       "      <th>4</th>\n",
       "      <td>46.7</td>\n",
       "      <td>1000.8</td>\n",
       "      <td>55.5</td>\n",
       "      <td>0.0</td>\n",
       "    </tr>\n",
       "    <tr>\n",
       "      <th>...</th>\n",
       "      <td>...</td>\n",
       "      <td>...</td>\n",
       "      <td>...</td>\n",
       "      <td>...</td>\n",
       "    </tr>\n",
       "    <tr>\n",
       "      <th>2024</th>\n",
       "      <td>45.9</td>\n",
       "      <td>1007.4</td>\n",
       "      <td>88.5</td>\n",
       "      <td>2.0</td>\n",
       "    </tr>\n",
       "    <tr>\n",
       "      <th>2025</th>\n",
       "      <td>46.4</td>\n",
       "      <td>1006.8</td>\n",
       "      <td>87.2</td>\n",
       "      <td>0.0</td>\n",
       "    </tr>\n",
       "    <tr>\n",
       "      <th>2026</th>\n",
       "      <td>47.4</td>\n",
       "      <td>1007.3</td>\n",
       "      <td>88.0</td>\n",
       "      <td>0.0</td>\n",
       "    </tr>\n",
       "    <tr>\n",
       "      <th>2027</th>\n",
       "      <td>60.6</td>\n",
       "      <td>1012.4</td>\n",
       "      <td>49.9</td>\n",
       "      <td>0.0</td>\n",
       "    </tr>\n",
       "    <tr>\n",
       "      <th>2028</th>\n",
       "      <td>56.4</td>\n",
       "      <td>1014.8</td>\n",
       "      <td>67.0</td>\n",
       "      <td>0.0</td>\n",
       "    </tr>\n",
       "  </tbody>\n",
       "</table>\n",
       "<p>2029 rows × 4 columns</p>\n",
       "</div>"
      ],
      "text/plain": [
       "      feature_1  feature_3  feature_2  class\n",
       "0          44.7     1018.0       87.5    0.0\n",
       "1          43.4     1013.5       88.4    0.0\n",
       "2          38.2     1004.2       78.1    0.0\n",
       "3          48.2     1001.1       55.2    0.0\n",
       "4          46.7     1000.8       55.5    0.0\n",
       "...         ...        ...        ...    ...\n",
       "2024       45.9     1007.4       88.5    2.0\n",
       "2025       46.4     1006.8       87.2    0.0\n",
       "2026       47.4     1007.3       88.0    0.0\n",
       "2027       60.6     1012.4       49.9    0.0\n",
       "2028       56.4     1014.8       67.0    0.0\n",
       "\n",
       "[2029 rows x 4 columns]"
      ]
     },
     "execution_count": 17,
     "metadata": {},
     "output_type": "execute_result"
    }
   ],
   "source": [
    "processed_df_val = get_processed_df_from_data(raw_under_df_val)\n",
    "# processed_df_val = create_oversampled_df(under_sam_reltimes_va) \n",
    "processed_df_val"
   ]
  },
  {
   "cell_type": "code",
   "execution_count": 18,
   "metadata": {},
   "outputs": [
    {
     "data": {
      "text/plain": [
       "((20968, 4), (2029, 4))"
      ]
     },
     "execution_count": 18,
     "metadata": {},
     "output_type": "execute_result"
    }
   ],
   "source": [
    "processed_df_train.shape, processed_df_val.shape"
   ]
  },
  {
   "cell_type": "code",
   "execution_count": 19,
   "metadata": {},
   "outputs": [
    {
     "data": {
      "image/png": "[encoded data removed]",
      "text/plain": [
       "<Figure size 600x400 with 1 Axes>"
      ]
     },
     "metadata": {},
     "output_type": "display_data"
    },
    {
     "data": {
      "text/plain": [
       "(array([5242, 5242, 5242, 5242]), array([0., 1., 2., 3., 4.]))"
      ]
     },
     "execution_count": 19,
     "metadata": {},
     "output_type": "execute_result"
    }
   ],
   "source": [
    "rain_counts, classes = np.histogram(processed_df_train['class'].values, bins=np.arange(0,processed_df_train['class'].max()+2))\n",
    "\n",
    "plt.figure(figsize=(6,4))\n",
    "plt.bar(x=np.arange(0,processed_df_train['class'].max()+1), width=1, height=rain_counts, facecolor='blue', edgecolor='k', alpha=0.6)\n",
    "plt.xticks(ticks=np.arange(0,processed_df_train['class'].max()+1), labels=['No rain', 'Light', 'Mid', 'Heavy'])\n",
    "plt.xlabel('Rainfall type')\n",
    "plt.ylabel('# of hours')\n",
    "plt.show()\n",
    "rain_counts, classes"
   ]
  },
  {
   "cell_type": "code",
   "execution_count": 20,
   "metadata": {},
   "outputs": [
    {
     "data": {
      "image/png": "[encoded data removed]",
      "text/plain": [
       "<Figure size 600x400 with 1 Axes>"
      ]
     },
     "metadata": {},
     "output_type": "display_data"
    },
    {
     "data": {
      "text/plain": [
       "(array([1743,  232,   30,   24]), array([0., 1., 2., 3., 4.]))"
      ]
     },
     "execution_count": 20,
     "metadata": {},
     "output_type": "execute_result"
    }
   ],
   "source": [
    "rain_counts, classes = np.histogram(processed_df_val['class'].values, bins=np.arange(0,processed_df_train['class'].max()+2))\n",
    "\n",
    "plt.figure(figsize=(6,4))\n",
    "plt.bar(x=np.arange(0,processed_df_train['class'].max()+1), width=1, height=rain_counts, facecolor='blue', edgecolor='k', alpha=0.6)\n",
    "plt.xticks(ticks=np.arange(0,processed_df_train['class'].max()+1), labels=['No rain', 'Light', 'Mid', 'Heavy'])\n",
    "plt.xlabel('Rainfall type')\n",
    "plt.ylabel('# of hours')\n",
    "plt.show()\n",
    "rain_counts, classes"
   ]
  },
  {
   "cell_type": "code",
   "execution_count": 21,
   "metadata": {},
   "outputs": [
    {
     "data": {
      "text/plain": [
       "(20968, 4)"
      ]
     },
     "execution_count": 21,
     "metadata": {},
     "output_type": "execute_result"
    }
   ],
   "source": [
    "processed_data_train = processed_df_train.values.astype(float)\n",
    "processed_data_train.shape"
   ]
  },
  {
   "cell_type": "code",
   "execution_count": 22,
   "metadata": {},
   "outputs": [
    {
     "data": {
      "text/plain": [
       "(2029, 4)"
      ]
     },
     "execution_count": 22,
     "metadata": {},
     "output_type": "execute_result"
    }
   ],
   "source": [
    "processed_data_val = processed_df_val.values.astype(float)\n",
    "processed_data_val.shape"
   ]
  },
  {
   "cell_type": "code",
   "execution_count": 23,
   "metadata": {},
   "outputs": [
    {
     "name": "stdout",
     "output_type": "stream",
     "text": [
      "[  48.5 1009.2   81.2] [0]\n"
     ]
    }
   ],
   "source": [
    "x_data_train = processed_data_train[:, :processed_data_train.shape[1]-1]\n",
    "y_data_train = processed_data_train[:, processed_data_train.shape[1]-1:].astype(int)\n",
    "print(x_data_train[0], y_data_train[0])"
   ]
  },
  {
   "cell_type": "code",
   "execution_count": 24,
   "metadata": {},
   "outputs": [
    {
     "name": "stdout",
     "output_type": "stream",
     "text": [
      "[  44.7 1018.    87.5] [0]\n"
     ]
    }
   ],
   "source": [
    "x_data_val = processed_data_val[:, :processed_data_train.shape[1]-1]\n",
    "y_data_val = processed_data_val[:, processed_data_train.shape[1]-1:].astype(int)\n",
    "print(x_data_val[0], y_data_val[0])"
   ]
  },
  {
   "cell_type": "code",
   "execution_count": 25,
   "metadata": {},
   "outputs": [
    {
     "data": {
      "image/png": "[encoded data removed]",
      "text/plain": [
       "<Figure size 600x400 with 1 Axes>"
      ]
     },
     "metadata": {},
     "output_type": "display_data"
    },
    {
     "data": {
      "text/plain": [
       "(array([5242, 5242, 5242, 5242]), array([0, 1, 2, 3, 4]))"
      ]
     },
     "execution_count": 25,
     "metadata": {},
     "output_type": "execute_result"
    }
   ],
   "source": [
    "rain_counts, classes = np.histogram(y_data_train, bins=np.arange(0,y_data_train.max()+2))\n",
    "\n",
    "plt.figure(figsize=(6,4))\n",
    "plt.bar(x=np.arange(0,y_data_train.max()+1), width=1, height=rain_counts, facecolor='blue', edgecolor='k', alpha=0.6)\n",
    "plt.ylabel('# of hours')\n",
    "plt.xticks(ticks=np.arange(0,y_data_train.max()+1), labels=['No rain', 'Light', 'Mid', 'Heavy'])\n",
    "plt.xlabel('Rainfall type')\n",
    "plt.show()\n",
    "rain_counts, classes"
   ]
  },
  {
   "cell_type": "code",
   "execution_count": 26,
   "metadata": {},
   "outputs": [
    {
     "data": {
      "image/png": "[encoded data removed]",
      "text/plain": [
       "<Figure size 600x400 with 1 Axes>"
      ]
     },
     "metadata": {},
     "output_type": "display_data"
    },
    {
     "data": {
      "text/plain": [
       "(array([1743,  232,   30,   24]), array([0, 1, 2, 3, 4]))"
      ]
     },
     "execution_count": 26,
     "metadata": {},
     "output_type": "execute_result"
    }
   ],
   "source": [
    "rain_counts, classes = np.histogram(y_data_val, bins=np.arange(0,y_data_train.max()+2))\n",
    "\n",
    "plt.figure(figsize=(6,4))\n",
    "plt.bar(x=np.arange(0,y_data_train.max()+1), width=1, height=rain_counts, facecolor='blue', edgecolor='k', alpha=0.6)\n",
    "plt.ylabel('# of hours')\n",
    "plt.xticks(ticks=np.arange(0,y_data_train.max()+1), labels=['No rain', 'Light', 'Mid', 'Heavy'])\n",
    "plt.xlabel('Rainfall type')\n",
    "plt.show()\n",
    "rain_counts, classes"
   ]
  },
  {
   "cell_type": "code",
   "execution_count": 27,
   "metadata": {},
   "outputs": [
    {
     "name": "stdout",
     "output_type": "stream",
     "text": [
      "Metal device set to: Apple M2\n",
      "\n",
      "systemMemory: 16.00 GB\n",
      "maxCacheSize: 5.33 GB\n",
      "\n"
     ]
    },
    {
     "name": "stderr",
     "output_type": "stream",
     "text": [
      "2024-05-26 23:10:01.435093: I tensorflow/core/common_runtime/pluggable_device/pluggable_device_factory.cc:305] Could not identify NUMA node of platform GPU ID 0, defaulting to 0. Your kernel may not have been built with NUMA support.\n",
      "2024-05-26 23:10:01.436932: I tensorflow/core/common_runtime/pluggable_device/pluggable_device_factory.cc:271] Created TensorFlow device (/job:localhost/replica:0/task:0/device:GPU:0 with 0 MB memory) -> physical PluggableDevice (device: 0, name: METAL, pci bus id: <undefined>)\n"
     ]
    },
    {
     "name": "stdout",
     "output_type": "stream",
     "text": [
      "Model: \"sequential\"\n",
      "_________________________________________________________________\n",
      " Layer (type)                Output Shape              Param #   \n",
      "=================================================================\n",
      " dense (Dense)               (None, 128)               512       \n",
      "                                                                 \n",
      " dropout (Dropout)           (None, 128)               0         \n",
      "                                                                 \n",
      " dense_1 (Dense)             (None, 128)               16512     \n",
      "                                                                 \n",
      " dropout_1 (Dropout)         (None, 128)               0         \n",
      "                                                                 \n",
      " dense_2 (Dense)             (None, 128)               16512     \n",
      "                                                                 \n",
      " dropout_2 (Dropout)         (None, 128)               0         \n",
      "                                                                 \n",
      " dense_3 (Dense)             (None, 64)                8256      \n",
      "                                                                 \n",
      " dropout_3 (Dropout)         (None, 64)                0         \n",
      "                                                                 \n",
      " dense_4 (Dense)             (None, 4)                 260       \n",
      "                                                                 \n",
      "=================================================================\n",
      "Total params: 42,052\n",
      "Trainable params: 42,052\n",
      "Non-trainable params: 0\n",
      "_________________________________________________________________\n"
     ]
    }
   ],
   "source": [
    "scaler = StandardScaler()\n",
    "X_train_scaled = scaler.fit_transform(x_data_train)\n",
    "X_val_scaled = scaler.transform(x_data_val)\n",
    "\n",
    "# Define the model\n",
    "model = models.Sequential()\n",
    "\n",
    "# Input layer\n",
    "model.add(layers.Input(shape=(x_data_train.shape[1],)))\n",
    "\n",
    "# Hidden layers\n",
    "model.add(layers.Dense(128, activation='relu', kernel_regularizer=regularizers.l2(0.001)))\n",
    "model.add(layers.Dropout(0.5))\n",
    "model.add(layers.Dense(128, activation='relu', kernel_regularizer=regularizers.l2(0.001)))\n",
    "model.add(layers.Dropout(0.5))\n",
    "model.add(layers.Dense(128, activation='relu', kernel_regularizer=regularizers.l2(0.001)))\n",
    "model.add(layers.Dropout(0.5))\n",
    "model.add(layers.Dense(64, activation='relu', kernel_regularizer=regularizers.l2(0.001)))\n",
    "model.add(layers.Dropout(0.5))\n",
    "\n",
    "# Output layer\n",
    "model.add(layers.Dense(4, activation='softmax'))  # Softmax for multiclass classification\n",
    "\n",
    "# Compile the model\n",
    "optimizer = Adam(learning_rate=0.001)\n",
    "model.compile(optimizer=optimizer, loss='sparse_categorical_crossentropy', metrics=['accuracy'])\n",
    "\n",
    "# Learning rate reduction callback\n",
    "reduce_lr = ReduceLROnPlateau(monitor='val_loss', factor=0.2, patience=5, min_lr=0.0001)\n",
    "\n",
    "# Early stopping callback\n",
    "early_stopping = callbacks.EarlyStopping(monitor='val_loss', patience=40, restore_best_weights=True)\n",
    "\n",
    "# Print model summary\n",
    "model.summary()"
   ]
  },
  {
   "cell_type": "code",
   "execution_count": 28,
   "metadata": {},
   "outputs": [
    {
     "data": {
      "text/plain": [
       "((20968, 3), (20968, 1))"
      ]
     },
     "execution_count": 28,
     "metadata": {},
     "output_type": "execute_result"
    }
   ],
   "source": [
    "X_train_scaled.shape, y_data_train.shape"
   ]
  },
  {
   "cell_type": "code",
   "execution_count": 29,
   "metadata": {},
   "outputs": [
    {
     "data": {
      "text/plain": [
       "((2029, 3), (2029, 1))"
      ]
     },
     "execution_count": 29,
     "metadata": {},
     "output_type": "execute_result"
    }
   ],
   "source": [
    "X_val_scaled.shape, y_data_val.shape"
   ]
  },
  {
   "cell_type": "code",
   "execution_count": 30,
   "metadata": {},
   "outputs": [
    {
     "data": {
      "image/png": "[encoded data removed]",
      "text/plain": [
       "<Figure size 600x400 with 1 Axes>"
      ]
     },
     "metadata": {},
     "output_type": "display_data"
    },
    {
     "data": {
      "text/plain": [
       "(array([0, 0, 0, 0, 0, 0, 0]), array([0, 1, 2, 3, 4, 5, 6, 7]))"
      ]
     },
     "execution_count": 30,
     "metadata": {},
     "output_type": "execute_result"
    }
   ],
   "source": [
    "binwidth = 1\n",
    "rain_counts, classes = np.histogram(x_data_train[:,0], bins=np.arange(0,7+binwidth,binwidth))\n",
    "\n",
    "plt.figure(figsize=(6,4))\n",
    "plt.bar(x=np.arange(0,7,binwidth), width=binwidth, height=rain_counts, facecolor='blue', edgecolor='k', alpha=0.6)\n",
    "plt.ylabel('# of hours')\n",
    "plt.xlabel('Month distance from July')\n",
    "plt.show()\n",
    "rain_counts, classes"
   ]
  },
  {
   "cell_type": "code",
   "execution_count": 31,
   "metadata": {},
   "outputs": [
    {
     "data": {
      "text/plain": [
       "array([[-0.09726985,  0.11850265, -0.16196919],\n",
       "       [-0.27865132,  0.19443699,  0.41270572],\n",
       "       [-0.41817554,  0.43489574,  0.53058775],\n",
       "       ...,\n",
       "       [ 0.72975141, -1.81978078,  0.77727795],\n",
       "       [ 0.90729696, -1.77843801,  0.6429624 ],\n",
       "       [-0.05495302, -0.23304737,  0.82459174]])"
      ]
     },
     "execution_count": 31,
     "metadata": {},
     "output_type": "execute_result"
    }
   ],
   "source": [
    "X_train_scaled"
   ]
  },
  {
   "cell_type": "code",
   "execution_count": 32,
   "metadata": {},
   "outputs": [
    {
     "data": {
      "image/png": "[encoded data removed]",
      "text/plain": [
       "<Figure size 600x400 with 1 Axes>"
      ]
     },
     "metadata": {},
     "output_type": "display_data"
    },
    {
     "data": {
      "text/plain": [
       "(array([   0,   16,   28,  243, 2539, 8696, 6277, 2579,  378,  146,   53,\n",
       "          13,    0]),\n",
       " array([-6, -5, -4, -3, -2, -1,  0,  1,  2,  3,  4,  5,  6,  7]))"
      ]
     },
     "execution_count": 32,
     "metadata": {},
     "output_type": "execute_result"
    }
   ],
   "source": [
    "binwidth = 1\n",
    "rain_counts, classes = np.histogram(X_train_scaled[:,0], bins=np.arange(-6,7+binwidth,binwidth))\n",
    "\n",
    "plt.figure(figsize=(6,4))\n",
    "plt.bar(x=np.arange(-6,7,binwidth), width=binwidth, height=rain_counts, facecolor='blue', edgecolor='k', alpha=0.6)\n",
    "plt.ylabel('# of hours')\n",
    "plt.xlabel('Rainfall type')\n",
    "plt.show()\n",
    "rain_counts, classes"
   ]
  },
  {
   "cell_type": "code",
   "execution_count": 33,
   "metadata": {},
   "outputs": [
    {
     "name": "stdout",
     "output_type": "stream",
     "text": [
      "Epoch 1/60\n"
     ]
    },
    {
     "name": "stderr",
     "output_type": "stream",
     "text": [
      "2024-05-26 23:10:02.341952: W tensorflow/core/platform/profile_utils/cpu_utils.cc:128] Failed to get CPU frequency: 0 Hz\n",
      "2024-05-26 23:10:02.846880: I tensorflow/core/grappler/optimizers/custom_graph_optimizer_registry.cc:113] Plugin optimizer for device_type GPU is enabled.\n"
     ]
    },
    {
     "name": "stdout",
     "output_type": "stream",
     "text": [
      "656/656 [==============================] - ETA: 0s - loss: 1.4169 - accuracy: 0.4208"
     ]
    },
    {
     "name": "stderr",
     "output_type": "stream",
     "text": [
      "2024-05-26 23:10:15.727808: I tensorflow/core/grappler/optimizers/custom_graph_optimizer_registry.cc:113] Plugin optimizer for device_type GPU is enabled.\n"
     ]
    },
    {
     "name": "stdout",
     "output_type": "stream",
     "text": [
      "656/656 [==============================] - 14s 20ms/step - loss: 1.4169 - accuracy: 0.4208 - val_loss: 1.1233 - val_accuracy: 0.6890 - lr: 0.0010\n",
      "Epoch 2/60\n",
      "656/656 [==============================] - 12s 19ms/step - loss: 1.2600 - accuracy: 0.4389 - val_loss: 1.0842 - val_accuracy: 0.6565 - lr: 0.0010\n",
      "Epoch 3/60\n",
      "656/656 [==============================] - 8s 12ms/step - loss: 1.2067 - accuracy: 0.4447 - val_loss: 1.0415 - val_accuracy: 0.6437 - lr: 0.0010\n",
      "Epoch 4/60\n",
      "656/656 [==============================] - 7s 11ms/step - loss: 1.1831 - accuracy: 0.4562 - val_loss: 1.1607 - val_accuracy: 0.6190 - lr: 0.0010\n",
      "Epoch 5/60\n",
      "656/656 [==============================] - 7s 11ms/step - loss: 1.1666 - accuracy: 0.4633 - val_loss: 1.0185 - val_accuracy: 0.6703 - lr: 0.0010\n",
      "Epoch 6/60\n",
      "656/656 [==============================] - 8s 11ms/step - loss: 1.1579 - accuracy: 0.4673 - val_loss: 0.9886 - val_accuracy: 0.6831 - lr: 0.0010\n",
      "Epoch 7/60\n",
      "656/656 [==============================] - 7s 11ms/step - loss: 1.1519 - accuracy: 0.4693 - val_loss: 1.0014 - val_accuracy: 0.6708 - lr: 0.0010\n",
      "Epoch 8/60\n",
      "656/656 [==============================] - 7s 11ms/step - loss: 1.1453 - accuracy: 0.4701 - val_loss: 1.0044 - val_accuracy: 0.6742 - lr: 0.0010\n",
      "Epoch 9/60\n",
      "656/656 [==============================] - 8s 13ms/step - loss: 1.1412 - accuracy: 0.4759 - val_loss: 1.0203 - val_accuracy: 0.6629 - lr: 0.0010\n",
      "Epoch 10/60\n",
      "656/656 [==============================] - 7s 11ms/step - loss: 1.1360 - accuracy: 0.4793 - val_loss: 0.9938 - val_accuracy: 0.6644 - lr: 0.0010\n",
      "Epoch 11/60\n",
      "656/656 [==============================] - 8s 12ms/step - loss: 1.1335 - accuracy: 0.4865 - val_loss: 1.0469 - val_accuracy: 0.6368 - lr: 0.0010\n",
      "Epoch 12/60\n",
      "656/656 [==============================] - 8s 12ms/step - loss: 1.1200 - accuracy: 0.4902 - val_loss: 0.9856 - val_accuracy: 0.6752 - lr: 2.0000e-04\n",
      "Epoch 13/60\n",
      "656/656 [==============================] - 7s 11ms/step - loss: 1.1099 - accuracy: 0.4960 - val_loss: 0.9908 - val_accuracy: 0.6688 - lr: 2.0000e-04\n",
      "Epoch 14/60\n",
      "656/656 [==============================] - 10s 15ms/step - loss: 1.1067 - accuracy: 0.4996 - val_loss: 0.9841 - val_accuracy: 0.6654 - lr: 2.0000e-04\n",
      "Epoch 15/60\n",
      "656/656 [==============================] - 8s 13ms/step - loss: 1.1041 - accuracy: 0.4998 - val_loss: 0.9938 - val_accuracy: 0.6688 - lr: 2.0000e-04\n",
      "Epoch 16/60\n",
      "656/656 [==============================] - 8s 12ms/step - loss: 1.1024 - accuracy: 0.5000 - val_loss: 1.0265 - val_accuracy: 0.6461 - lr: 2.0000e-04\n",
      "Epoch 17/60\n",
      "656/656 [==============================] - 7s 11ms/step - loss: 1.0981 - accuracy: 0.5030 - val_loss: 1.0238 - val_accuracy: 0.6378 - lr: 2.0000e-04\n",
      "Epoch 18/60\n",
      "656/656 [==============================] - 8s 12ms/step - loss: 1.0960 - accuracy: 0.5035 - val_loss: 0.9740 - val_accuracy: 0.6718 - lr: 2.0000e-04\n",
      "Epoch 19/60\n",
      "656/656 [==============================] - 11s 16ms/step - loss: 1.0932 - accuracy: 0.5074 - val_loss: 1.0078 - val_accuracy: 0.6491 - lr: 2.0000e-04\n",
      "Epoch 20/60\n",
      "656/656 [==============================] - 7s 11ms/step - loss: 1.0926 - accuracy: 0.5082 - val_loss: 0.9943 - val_accuracy: 0.6520 - lr: 2.0000e-04\n",
      "Epoch 21/60\n",
      "656/656 [==============================] - 7s 10ms/step - loss: 1.0918 - accuracy: 0.5068 - val_loss: 0.9971 - val_accuracy: 0.6555 - lr: 2.0000e-04\n",
      "Epoch 22/60\n",
      "656/656 [==============================] - 8s 12ms/step - loss: 1.0892 - accuracy: 0.5092 - val_loss: 0.9958 - val_accuracy: 0.6506 - lr: 2.0000e-04\n",
      "Epoch 23/60\n",
      "656/656 [==============================] - 7s 10ms/step - loss: 1.0873 - accuracy: 0.5135 - val_loss: 0.9516 - val_accuracy: 0.6811 - lr: 2.0000e-04\n",
      "Epoch 24/60\n",
      "656/656 [==============================] - 7s 11ms/step - loss: 1.0860 - accuracy: 0.5106 - val_loss: 0.9836 - val_accuracy: 0.6491 - lr: 2.0000e-04\n",
      "Epoch 25/60\n",
      "656/656 [==============================] - 7s 10ms/step - loss: 1.0859 - accuracy: 0.5148 - val_loss: 0.9822 - val_accuracy: 0.6466 - lr: 2.0000e-04\n",
      "Epoch 26/60\n",
      "656/656 [==============================] - 7s 11ms/step - loss: 1.0805 - accuracy: 0.5165 - val_loss: 1.0087 - val_accuracy: 0.6378 - lr: 2.0000e-04\n",
      "Epoch 27/60\n",
      "656/656 [==============================] - 8s 12ms/step - loss: 1.0816 - accuracy: 0.5134 - val_loss: 0.9789 - val_accuracy: 0.6501 - lr: 2.0000e-04\n",
      "Epoch 28/60\n",
      "656/656 [==============================] - 6s 10ms/step - loss: 1.0822 - accuracy: 0.5143 - val_loss: 0.9720 - val_accuracy: 0.6486 - lr: 2.0000e-04\n",
      "Epoch 29/60\n",
      "656/656 [==============================] - 7s 11ms/step - loss: 1.0771 - accuracy: 0.5140 - val_loss: 0.9880 - val_accuracy: 0.6417 - lr: 1.0000e-04\n",
      "Epoch 30/60\n",
      "656/656 [==============================] - 7s 10ms/step - loss: 1.0733 - accuracy: 0.5201 - val_loss: 0.9443 - val_accuracy: 0.6673 - lr: 1.0000e-04\n",
      "Epoch 31/60\n",
      "656/656 [==============================] - 6s 10ms/step - loss: 1.0741 - accuracy: 0.5200 - val_loss: 0.9910 - val_accuracy: 0.6427 - lr: 1.0000e-04\n",
      "Epoch 32/60\n",
      "656/656 [==============================] - 9s 14ms/step - loss: 1.0725 - accuracy: 0.5194 - val_loss: 0.9840 - val_accuracy: 0.6451 - lr: 1.0000e-04\n",
      "Epoch 33/60\n",
      "656/656 [==============================] - 7s 11ms/step - loss: 1.0714 - accuracy: 0.5206 - val_loss: 0.9588 - val_accuracy: 0.6570 - lr: 1.0000e-04\n",
      "Epoch 34/60\n",
      "656/656 [==============================] - 9s 14ms/step - loss: 1.0705 - accuracy: 0.5240 - val_loss: 0.9807 - val_accuracy: 0.6461 - lr: 1.0000e-04\n",
      "Epoch 35/60\n",
      "656/656 [==============================] - 8s 12ms/step - loss: 1.0694 - accuracy: 0.5209 - val_loss: 0.9907 - val_accuracy: 0.6382 - lr: 1.0000e-04\n",
      "Epoch 36/60\n",
      "656/656 [==============================] - 8s 11ms/step - loss: 1.0686 - accuracy: 0.5248 - val_loss: 0.9954 - val_accuracy: 0.6387 - lr: 1.0000e-04\n",
      "Epoch 37/60\n",
      "656/656 [==============================] - 7s 11ms/step - loss: 1.0690 - accuracy: 0.5217 - val_loss: 0.9640 - val_accuracy: 0.6570 - lr: 1.0000e-04\n",
      "Epoch 38/60\n",
      "656/656 [==============================] - 7s 11ms/step - loss: 1.0685 - accuracy: 0.5228 - val_loss: 0.9584 - val_accuracy: 0.6555 - lr: 1.0000e-04\n",
      "Epoch 39/60\n",
      "656/656 [==============================] - 7s 10ms/step - loss: 1.0696 - accuracy: 0.5258 - val_loss: 0.9952 - val_accuracy: 0.6338 - lr: 1.0000e-04\n",
      "Epoch 40/60\n",
      "656/656 [==============================] - 8s 12ms/step - loss: 1.0640 - accuracy: 0.5289 - val_loss: 0.9800 - val_accuracy: 0.6422 - lr: 1.0000e-04\n",
      "Epoch 41/60\n",
      "656/656 [==============================] - 7s 11ms/step - loss: 1.0671 - accuracy: 0.5209 - val_loss: 0.9747 - val_accuracy: 0.6447 - lr: 1.0000e-04\n",
      "Epoch 42/60\n",
      "656/656 [==============================] - 7s 11ms/step - loss: 1.0645 - accuracy: 0.5257 - val_loss: 0.9723 - val_accuracy: 0.6471 - lr: 1.0000e-04\n",
      "Epoch 43/60\n",
      "656/656 [==============================] - 7s 11ms/step - loss: 1.0635 - accuracy: 0.5232 - val_loss: 0.9822 - val_accuracy: 0.6382 - lr: 1.0000e-04\n",
      "Epoch 44/60\n",
      "656/656 [==============================] - 8s 12ms/step - loss: 1.0641 - accuracy: 0.5264 - val_loss: 0.9821 - val_accuracy: 0.6427 - lr: 1.0000e-04\n",
      "Epoch 45/60\n",
      "656/656 [==============================] - 7s 11ms/step - loss: 1.0637 - accuracy: 0.5254 - val_loss: 0.9733 - val_accuracy: 0.6461 - lr: 1.0000e-04\n",
      "Epoch 46/60\n",
      "656/656 [==============================] - 8s 12ms/step - loss: 1.0619 - accuracy: 0.5290 - val_loss: 0.9651 - val_accuracy: 0.6481 - lr: 1.0000e-04\n",
      "Epoch 47/60\n",
      "656/656 [==============================] - 8s 12ms/step - loss: 1.0604 - accuracy: 0.5279 - val_loss: 0.9573 - val_accuracy: 0.6545 - lr: 1.0000e-04\n",
      "Epoch 48/60\n",
      "656/656 [==============================] - 9s 13ms/step - loss: 1.0604 - accuracy: 0.5269 - val_loss: 0.9686 - val_accuracy: 0.6402 - lr: 1.0000e-04\n",
      "Epoch 49/60\n",
      "656/656 [==============================] - 7s 10ms/step - loss: 1.0601 - accuracy: 0.5299 - val_loss: 0.9343 - val_accuracy: 0.6599 - lr: 1.0000e-04\n",
      "Epoch 50/60\n",
      "656/656 [==============================] - 7s 11ms/step - loss: 1.0584 - accuracy: 0.5283 - val_loss: 0.9699 - val_accuracy: 0.6442 - lr: 1.0000e-04\n",
      "Epoch 51/60\n",
      "656/656 [==============================] - 7s 11ms/step - loss: 1.0582 - accuracy: 0.5284 - val_loss: 0.9760 - val_accuracy: 0.6417 - lr: 1.0000e-04\n",
      "Epoch 52/60\n",
      "656/656 [==============================] - 7s 11ms/step - loss: 1.0595 - accuracy: 0.5296 - val_loss: 0.9659 - val_accuracy: 0.6491 - lr: 1.0000e-04\n",
      "Epoch 53/60\n",
      "656/656 [==============================] - 7s 10ms/step - loss: 1.0590 - accuracy: 0.5313 - val_loss: 0.9718 - val_accuracy: 0.6442 - lr: 1.0000e-04\n",
      "Epoch 54/60\n",
      "656/656 [==============================] - 7s 11ms/step - loss: 1.0566 - accuracy: 0.5317 - val_loss: 0.9783 - val_accuracy: 0.6392 - lr: 1.0000e-04\n",
      "Epoch 55/60\n",
      "656/656 [==============================] - 8s 12ms/step - loss: 1.0533 - accuracy: 0.5348 - val_loss: 0.9646 - val_accuracy: 0.6486 - lr: 1.0000e-04\n",
      "Epoch 56/60\n",
      "656/656 [==============================] - 7s 10ms/step - loss: 1.0558 - accuracy: 0.5346 - val_loss: 0.9539 - val_accuracy: 0.6506 - lr: 1.0000e-04\n",
      "Epoch 57/60\n",
      "656/656 [==============================] - 8s 12ms/step - loss: 1.0553 - accuracy: 0.5340 - val_loss: 0.9698 - val_accuracy: 0.6491 - lr: 1.0000e-04\n",
      "Epoch 58/60\n",
      "656/656 [==============================] - 7s 11ms/step - loss: 1.0538 - accuracy: 0.5357 - val_loss: 0.9617 - val_accuracy: 0.6486 - lr: 1.0000e-04\n",
      "Epoch 59/60\n",
      "656/656 [==============================] - 7s 11ms/step - loss: 1.0525 - accuracy: 0.5345 - val_loss: 0.9682 - val_accuracy: 0.6476 - lr: 1.0000e-04\n",
      "Epoch 60/60\n",
      "656/656 [==============================] - 7s 10ms/step - loss: 1.0537 - accuracy: 0.5343 - val_loss: 0.9617 - val_accuracy: 0.6486 - lr: 1.0000e-04\n"
     ]
    }
   ],
   "source": [
    "# Train the Model:\n",
    "history = model.fit(\n",
    "    X_train_scaled, y_data_train,\n",
    "    epochs=60,\n",
    "    batch_size=32,\n",
    "    validation_data=(X_val_scaled, y_data_val),\n",
    "    callbacks=[early_stopping, reduce_lr]\n",
    ")"
   ]
  },
  {
   "cell_type": "code",
   "execution_count": 34,
   "metadata": {},
   "outputs": [
    {
     "data": {
      "image/png": "[encoded data removed]",
      "text/plain": [
       "<Figure size 1000x600 with 1 Axes>"
      ]
     },
     "metadata": {},
     "output_type": "display_data"
    }
   ],
   "source": [
    "train_loss = history.history['loss']\n",
    "val_loss = history.history['val_loss']\n",
    "\n",
    "# Plot the accuracy\n",
    "plt.figure(figsize=(10, 6))\n",
    "plt.plot(train_loss, label='Train Loss')\n",
    "plt.plot(val_loss, label='Validation Loss')\n",
    "plt.xlabel('Epochs')\n",
    "plt.ylabel('Loss')\n",
    "plt.ylim(0, 1)\n",
    "plt.title('Model Loss as a Function of Epoch')\n",
    "plt.legend()\n",
    "plt.grid(True)\n",
    "plt.show()"
   ]
  },
  {
   "cell_type": "code",
   "execution_count": 35,
   "metadata": {},
   "outputs": [
    {
     "data": {
      "image/png": "[encoded data removed]",
      "text/plain": [
       "<Figure size 1000x600 with 1 Axes>"
      ]
     },
     "metadata": {},
     "output_type": "display_data"
    }
   ],
   "source": [
    "train_accuracy = history.history['accuracy']\n",
    "val_accuracy = history.history['val_accuracy']\n",
    "\n",
    "# Plot the accuracy\n",
    "plt.figure(figsize=(10, 6))\n",
    "plt.plot(train_accuracy, label='Train Accuracy')\n",
    "plt.plot(val_accuracy, label='Validation Accuracy')\n",
    "plt.xlabel('Epochs')\n",
    "plt.ylabel('Accuracy')\n",
    "plt.ylim(0, 1)\n",
    "plt.title('Model Accuracy as a Function of Epoch')\n",
    "plt.legend()\n",
    "plt.grid(True)\n",
    "plt.show()"
   ]
  },
  {
   "cell_type": "code",
   "execution_count": 36,
   "metadata": {},
   "outputs": [],
   "source": [
    "# Evaluation (Is it worth, the loss is quite high suggesting that either the model architecture is quite poor (likely) or \n",
    "# that we need to better preprocess our data such as rain (also likely))"
   ]
  },
  {
   "cell_type": "code",
   "execution_count": 37,
   "metadata": {},
   "outputs": [
    {
     "data": {
      "image/png": "[encoded data removed]",
      "text/plain": [
       "<Figure size 600x400 with 1 Axes>"
      ]
     },
     "metadata": {},
     "output_type": "display_data"
    },
    {
     "name": "stdout",
     "output_type": "stream",
     "text": [
      "[1762 1762 1762 1762] [0. 1. 2. 3. 4.]\n",
      "[  48.2 1008.5   80.8] [0]\n"
     ]
    }
   ],
   "source": [
    "under_sam_reltimes_te = get_processed_df_from_data(raw_under_df_test)\n",
    "processed_df_test = create_oversampled_df(under_sam_reltimes_te)\n",
    "\n",
    "rain_counts, classes = np.histogram(processed_df_test['class'].values, bins=np.arange(0,processed_df_train['class'].max()+2))\n",
    "\n",
    "plt.figure(figsize=(6,4))\n",
    "plt.bar(x=np.arange(0,processed_df_train['class'].max()+1), width=1, height=rain_counts, facecolor='blue', edgecolor='k', alpha=0.6)\n",
    "plt.xticks(ticks=np.arange(0,processed_df_train['class'].max()+1), labels=['No rain', 'Light', 'Mid', 'Heavy'])\n",
    "plt.xlabel('Rainfall type')\n",
    "plt.ylabel('# of hours')\n",
    "plt.show()\n",
    "print(rain_counts, classes)\n",
    "\n",
    "processed_data_test = processed_df_test.values.astype(float)\n",
    "x_data_test = processed_data_test[:, :processed_data_test.shape[1]-1]\n",
    "y_data_test = processed_data_test[:, processed_data_test.shape[1]-1:].astype(int)\n",
    "print(x_data_test[0], y_data_test[0])"
   ]
  },
  {
   "cell_type": "code",
   "execution_count": 38,
   "metadata": {},
   "outputs": [
    {
     "name": "stdout",
     "output_type": "stream",
     "text": [
      " 19/221 [=>............................] - ETA: 0s "
     ]
    },
    {
     "name": "stderr",
     "output_type": "stream",
     "text": [
      "2024-05-26 23:17:42.430009: I tensorflow/core/grappler/optimizers/custom_graph_optimizer_registry.cc:113] Plugin optimizer for device_type GPU is enabled.\n"
     ]
    },
    {
     "name": "stdout",
     "output_type": "stream",
     "text": [
      "221/221 [==============================] - 1s 3ms/step\n"
     ]
    },
    {
     "name": "stderr",
     "output_type": "stream",
     "text": [
      "2024-05-26 23:17:43.253481: I tensorflow/core/grappler/optimizers/custom_graph_optimizer_registry.cc:113] Plugin optimizer for device_type GPU is enabled.\n"
     ]
    },
    {
     "name": "stdout",
     "output_type": "stream",
     "text": [
      "221/221 - 2s - loss: 1.2476 - accuracy: 0.4428 - 2s/epoch - 7ms/step\n"
     ]
    },
    {
     "data": {
      "text/plain": [
       "[1.2476458549499512, 0.44282066822052]"
      ]
     },
     "execution_count": 38,
     "metadata": {},
     "output_type": "execute_result"
    }
   ],
   "source": [
    "X_test_scaled = scaler.transform(x_data_test)\n",
    "predictions = model.predict(X_test_scaled)\n",
    "model.evaluate(X_test_scaled, y_data_test.ravel().astype(float), verbose=2)"
   ]
  },
  {
   "cell_type": "code",
   "execution_count": 39,
   "metadata": {},
   "outputs": [
    {
     "name": "stdout",
     "output_type": "stream",
     "text": [
      "Confusion Matrix:\n",
      "[[1231  335  147   49]\n",
      " [ 294  622  578  268]\n",
      " [ 203  489  716  354]\n",
      " [ 114  329  767  552]]\n"
     ]
    },
    {
     "data": {
      "image/png": "[encoded data removed]",
      "text/plain": [
       "<Figure size 640x480 with 2 Axes>"
      ]
     },
     "metadata": {},
     "output_type": "display_data"
    }
   ],
   "source": [
    "cm = confusion_matrix(y_data_test.ravel(), np.argmax(predictions,axis=1))\n",
    "\n",
    "# Print the confusion matrix\n",
    "print(\"Confusion Matrix:\")\n",
    "print(cm)\n",
    "\n",
    "# Visualize the confusion matrix\n",
    "disp = ConfusionMatrixDisplay(confusion_matrix=cm, display_labels=[0, 1, 2, 3])\n",
    "disp.plot(cmap=plt.cm.Blues)\n",
    "plt.show()"
   ]
  },
  {
   "cell_type": "code",
   "execution_count": 40,
   "metadata": {},
   "outputs": [
    {
     "name": "stdout",
     "output_type": "stream",
     "text": [
      "Confusion Matrix:\n",
      "[[1231  335  147   49]\n",
      " [ 294  622  578  268]\n",
      " [ 203  489  716  354]\n",
      " [ 114  329  767  552]]\n"
     ]
    },
    {
     "data": {
      "image/png": "[encoded data removed]",
      "text/plain": [
       "<Figure size 640x480 with 2 Axes>"
      ]
     },
     "metadata": {},
     "output_type": "display_data"
    }
   ],
   "source": [
    "cm = confusion_matrix(y_data_test.ravel(), np.argmax(predictions,axis=1))\n",
    "\n",
    "# Print the confusion matrix\n",
    "print(\"Confusion Matrix:\")\n",
    "print(cm)\n",
    "\n",
    "# Visualize the confusion matrix\n",
    "disp = ConfusionMatrixDisplay(confusion_matrix=(cm / np.sum(cm, axis=1).reshape(4, 1)), display_labels=[0, 1, 2, 3])\n",
    "disp.plot(cmap=plt.cm.Blues)\n",
    "plt.show()"
   ]
  },
  {
   "cell_type": "code",
   "execution_count": 41,
   "metadata": {},
   "outputs": [
    {
     "data": {
      "text/plain": [
       "array([0.68312986, 0.35171049, 0.36070529, 0.36984925])"
      ]
     },
     "execution_count": 41,
     "metadata": {},
     "output_type": "execute_result"
    }
   ],
   "source": [
    "f1_score(y_data_test.ravel(), np.argmax(predictions,axis=1), average=None)"
   ]
  }
 ],
 "metadata": {
  "kernelspec": {
   "display_name": "EE400-Env",
   "language": "python",
   "name": "python3"
  },
  "language_info": {
   "codemirror_mode": {
    "name": "ipython",
    "version": 3
   },
   "file_extension": ".py",
   "mimetype": "text/x-python",
   "name": "python",
   "nbconvert_exporter": "python",
   "pygments_lexer": "ipython3",
   "version": "3.10.14"
  }
 },
 "nbformat": 4,
 "nbformat_minor": 2
}

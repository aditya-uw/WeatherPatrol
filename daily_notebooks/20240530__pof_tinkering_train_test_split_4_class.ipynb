{
 "cells": [
  {
   "cell_type": "code",
   "execution_count": 1,
   "metadata": {},
   "outputs": [],
   "source": [
    "# Imports\n",
    "import pandas as pd\n",
    "import datetime as dt\n",
    "\n",
    "import numpy as np\n",
    "import tensorflow as tf\n",
    "\n",
    "import matplotlib.pyplot as plt\n",
    "\n",
    "import tensorflow as tf\n",
    "from tensorflow.keras import layers, models, regularizers, callbacks\n",
    "from tensorflow.keras.optimizers import Adam\n",
    "from tensorflow.keras.callbacks import ReduceLROnPlateau\n",
    "\n",
    "from sklearn.preprocessing import StandardScaler\n",
    "from sklearn.model_selection import train_test_split\n",
    "from sklearn.metrics import confusion_matrix, ConfusionMatrixDisplay, f1_score\n",
    "from imblearn.over_sampling import SMOTE "
   ]
  },
  {
   "cell_type": "code",
   "execution_count": 2,
   "metadata": {},
   "outputs": [],
   "source": [
    "def clean_up_observations_and_add_rain_class(atg_obs_selected):\n",
    "    no_erros_obs = atg_obs_selected.loc[(atg_obs_selected['Rain']!='M')&(atg_obs_selected['Temperature']!='M')&(atg_obs_selected['Pressure']!='M')&(atg_obs_selected['Relhum']!='M')&(atg_obs_selected['Relhum']!='0.00.')].copy()\n",
    "\n",
    "    no_erros_obs['datetime_PST'] = pd.DatetimeIndex(no_erros_obs['datetime_UTC']).tz_localize('UTC').tz_convert('US/Pacific')\n",
    "    no_erros_obs['Date_PST'] = pd.DatetimeIndex(no_erros_obs['datetime_PST']).date\n",
    "    no_erros_obs['Time_PST'] = pd.DatetimeIndex(no_erros_obs['datetime_PST']).time\n",
    "    no_erros_obs['Rain'] = no_erros_obs['Rain'].astype(float)\n",
    "    no_erros_obs['Temperature'] = no_erros_obs['Temperature'].astype(float)\n",
    "    no_erros_obs['Pressure'] = no_erros_obs['Pressure'].astype(float)\n",
    "    no_erros_obs['Relhum'] = no_erros_obs['Relhum'].astype(float)\n",
    "\n",
    "    first_obs_each_period = no_erros_obs.resample(on='datetime_PST', rule='1h')\n",
    "    summed_rain_each_period = first_obs_each_period['Rain'].sum()\n",
    "\n",
    "    lightrainfall_times = summed_rain_each_period[(summed_rain_each_period<=0.10)&(summed_rain_each_period>0.0)]\n",
    "    moderaterainfall_times = summed_rain_each_period[(summed_rain_each_period<=0.30)&(summed_rain_each_period>0.10)]\n",
    "    heavyrainfall_times = summed_rain_each_period[(summed_rain_each_period>0.30)]\n",
    "\n",
    "    summed_rain_each_period.loc[lightrainfall_times.index] = 1\n",
    "    summed_rain_each_period.loc[moderaterainfall_times.index] = 2\n",
    "    summed_rain_each_period.loc[heavyrainfall_times.index] = 3\n",
    "\n",
    "    # Extract Date, Time, Temperature, SumRain into data array\n",
    "    atg_obs_necessary = pd.DataFrame()\n",
    "    atg_obs_necessary['date'] = first_obs_each_period['Date_PST'].first()\n",
    "    atg_obs_necessary['time'] = first_obs_each_period['Time_PST'].first()\n",
    "    atg_obs_necessary['temperature'] = first_obs_each_period['Temperature'].first()\n",
    "    atg_obs_necessary['pressure'] = first_obs_each_period['Pressure'].first()\n",
    "    atg_obs_necessary['relhum'] = first_obs_each_period['Relhum'].first()\n",
    "    atg_obs_necessary['rainfall_type'] = summed_rain_each_period\n",
    "\n",
    "    atg_obs_necessary = atg_obs_necessary.dropna()\n",
    "    data_arr = atg_obs_necessary.values\n",
    "\n",
    "\n",
    "    return atg_obs_necessary, data_arr"
   ]
  },
  {
   "cell_type": "code",
   "execution_count": 3,
   "metadata": {},
   "outputs": [],
   "source": [
    "atg_obs = pd.read_csv('../../Downloads/LFEM_data-.csv', low_memory=False, skiprows=1)\n",
    "atg_obs.insert(0, 'datetime_UTC', pd.to_datetime(atg_obs['Date'] + atg_obs['Time'], format='%Y-%m-%d%H:%M'))"
   ]
  },
  {
   "cell_type": "code",
   "execution_count": 4,
   "metadata": {},
   "outputs": [],
   "source": [
    "atg_obs_selected = atg_obs.copy() # Selecting dates\n",
    "atg_obs_selected = atg_obs_selected.loc[(atg_obs['datetime_UTC']>=dt.datetime(2022,5,1))]"
   ]
  },
  {
   "cell_type": "code",
   "execution_count": 5,
   "metadata": {},
   "outputs": [],
   "source": [
    "# Extract Date, Time, Temperature, SumRain into data array\n",
    "atg_obs_necessary, data_arr = clean_up_observations_and_add_rain_class(atg_obs_selected)"
   ]
  },
  {
   "cell_type": "code",
   "execution_count": 6,
   "metadata": {},
   "outputs": [
    {
     "data": {
      "text/html": [
       "<div>\n",
       "<style scoped>\n",
       "    .dataframe tbody tr th:only-of-type {\n",
       "        vertical-align: middle;\n",
       "    }\n",
       "\n",
       "    .dataframe tbody tr th {\n",
       "        vertical-align: top;\n",
       "    }\n",
       "\n",
       "    .dataframe thead th {\n",
       "        text-align: right;\n",
       "    }\n",
       "</style>\n",
       "<table border=\"1\" class=\"dataframe\">\n",
       "  <thead>\n",
       "    <tr style=\"text-align: right;\">\n",
       "      <th></th>\n",
       "      <th>date</th>\n",
       "      <th>time</th>\n",
       "      <th>temperature</th>\n",
       "      <th>pressure</th>\n",
       "      <th>relhum</th>\n",
       "      <th>rainfall_type</th>\n",
       "    </tr>\n",
       "    <tr>\n",
       "      <th>datetime_PST</th>\n",
       "      <th></th>\n",
       "      <th></th>\n",
       "      <th></th>\n",
       "      <th></th>\n",
       "      <th></th>\n",
       "      <th></th>\n",
       "    </tr>\n",
       "  </thead>\n",
       "  <tbody>\n",
       "    <tr>\n",
       "      <th>2024-05-19 07:00:00-07:00</th>\n",
       "      <td>2024-05-19</td>\n",
       "      <td>07:00:00</td>\n",
       "      <td>48.3</td>\n",
       "      <td>1019.2</td>\n",
       "      <td>88.5</td>\n",
       "      <td>0.0</td>\n",
       "    </tr>\n",
       "    <tr>\n",
       "      <th>2024-05-19 08:00:00-07:00</th>\n",
       "      <td>2024-05-19</td>\n",
       "      <td>08:00:00</td>\n",
       "      <td>48.8</td>\n",
       "      <td>1019.6</td>\n",
       "      <td>85.9</td>\n",
       "      <td>0.0</td>\n",
       "    </tr>\n",
       "    <tr>\n",
       "      <th>2024-05-19 09:00:00-07:00</th>\n",
       "      <td>2024-05-19</td>\n",
       "      <td>09:00:00</td>\n",
       "      <td>51.4</td>\n",
       "      <td>1020.2</td>\n",
       "      <td>77.0</td>\n",
       "      <td>0.0</td>\n",
       "    </tr>\n",
       "    <tr>\n",
       "      <th>2024-05-19 10:00:00-07:00</th>\n",
       "      <td>2024-05-19</td>\n",
       "      <td>10:00:00</td>\n",
       "      <td>52.9</td>\n",
       "      <td>1020.4</td>\n",
       "      <td>71.7</td>\n",
       "      <td>0.0</td>\n",
       "    </tr>\n",
       "    <tr>\n",
       "      <th>2024-05-19 11:00:00-07:00</th>\n",
       "      <td>2024-05-19</td>\n",
       "      <td>11:00:00</td>\n",
       "      <td>51.3</td>\n",
       "      <td>1020.7</td>\n",
       "      <td>74.5</td>\n",
       "      <td>0.0</td>\n",
       "    </tr>\n",
       "    <tr>\n",
       "      <th>2024-05-19 12:00:00-07:00</th>\n",
       "      <td>2024-05-19</td>\n",
       "      <td>12:00:00</td>\n",
       "      <td>53.4</td>\n",
       "      <td>1020.8</td>\n",
       "      <td>62.8</td>\n",
       "      <td>0.0</td>\n",
       "    </tr>\n",
       "    <tr>\n",
       "      <th>2024-05-19 13:00:00-07:00</th>\n",
       "      <td>2024-05-19</td>\n",
       "      <td>13:00:00</td>\n",
       "      <td>56.3</td>\n",
       "      <td>1020.8</td>\n",
       "      <td>58.4</td>\n",
       "      <td>0.0</td>\n",
       "    </tr>\n",
       "    <tr>\n",
       "      <th>2024-05-19 14:00:00-07:00</th>\n",
       "      <td>2024-05-19</td>\n",
       "      <td>14:00:00</td>\n",
       "      <td>59.1</td>\n",
       "      <td>1020.4</td>\n",
       "      <td>50.4</td>\n",
       "      <td>0.0</td>\n",
       "    </tr>\n",
       "    <tr>\n",
       "      <th>2024-05-19 15:00:00-07:00</th>\n",
       "      <td>2024-05-19</td>\n",
       "      <td>15:00:00</td>\n",
       "      <td>61.4</td>\n",
       "      <td>1020.2</td>\n",
       "      <td>49.6</td>\n",
       "      <td>0.0</td>\n",
       "    </tr>\n",
       "    <tr>\n",
       "      <th>2024-05-19 16:00:00-07:00</th>\n",
       "      <td>2024-05-19</td>\n",
       "      <td>16:00:00</td>\n",
       "      <td>62.1</td>\n",
       "      <td>1020.1</td>\n",
       "      <td>40.9</td>\n",
       "      <td>0.0</td>\n",
       "    </tr>\n",
       "    <tr>\n",
       "      <th>2024-05-19 17:00:00-07:00</th>\n",
       "      <td>2024-05-19</td>\n",
       "      <td>17:00:00</td>\n",
       "      <td>61.9</td>\n",
       "      <td>1019.6</td>\n",
       "      <td>43.1</td>\n",
       "      <td>0.0</td>\n",
       "    </tr>\n",
       "    <tr>\n",
       "      <th>2024-05-19 18:00:00-07:00</th>\n",
       "      <td>2024-05-19</td>\n",
       "      <td>18:00:00</td>\n",
       "      <td>61.6</td>\n",
       "      <td>1019.5</td>\n",
       "      <td>41.7</td>\n",
       "      <td>0.0</td>\n",
       "    </tr>\n",
       "    <tr>\n",
       "      <th>2024-05-19 19:00:00-07:00</th>\n",
       "      <td>2024-05-19</td>\n",
       "      <td>19:00:00</td>\n",
       "      <td>61.8</td>\n",
       "      <td>1019.5</td>\n",
       "      <td>40.6</td>\n",
       "      <td>0.0</td>\n",
       "    </tr>\n",
       "    <tr>\n",
       "      <th>2024-05-19 20:00:00-07:00</th>\n",
       "      <td>2024-05-19</td>\n",
       "      <td>20:00:00</td>\n",
       "      <td>60.8</td>\n",
       "      <td>1019.5</td>\n",
       "      <td>42.9</td>\n",
       "      <td>0.0</td>\n",
       "    </tr>\n",
       "    <tr>\n",
       "      <th>2024-05-19 21:00:00-07:00</th>\n",
       "      <td>2024-05-19</td>\n",
       "      <td>21:00:00</td>\n",
       "      <td>58.8</td>\n",
       "      <td>1019.6</td>\n",
       "      <td>45.2</td>\n",
       "      <td>0.0</td>\n",
       "    </tr>\n",
       "    <tr>\n",
       "      <th>2024-05-19 22:00:00-07:00</th>\n",
       "      <td>2024-05-19</td>\n",
       "      <td>22:00:00</td>\n",
       "      <td>56.4</td>\n",
       "      <td>1020.2</td>\n",
       "      <td>52.1</td>\n",
       "      <td>0.0</td>\n",
       "    </tr>\n",
       "    <tr>\n",
       "      <th>2024-05-19 23:00:00-07:00</th>\n",
       "      <td>2024-05-19</td>\n",
       "      <td>23:00:00</td>\n",
       "      <td>55.2</td>\n",
       "      <td>1020.3</td>\n",
       "      <td>60.2</td>\n",
       "      <td>0.0</td>\n",
       "    </tr>\n",
       "    <tr>\n",
       "      <th>2024-05-20 00:00:00-07:00</th>\n",
       "      <td>2024-05-20</td>\n",
       "      <td>00:00:00</td>\n",
       "      <td>53.3</td>\n",
       "      <td>1020.4</td>\n",
       "      <td>64.6</td>\n",
       "      <td>0.0</td>\n",
       "    </tr>\n",
       "    <tr>\n",
       "      <th>2024-05-20 01:00:00-07:00</th>\n",
       "      <td>2024-05-20</td>\n",
       "      <td>01:00:00</td>\n",
       "      <td>51.5</td>\n",
       "      <td>1020.9</td>\n",
       "      <td>69.2</td>\n",
       "      <td>0.0</td>\n",
       "    </tr>\n",
       "    <tr>\n",
       "      <th>2024-05-20 02:00:00-07:00</th>\n",
       "      <td>2024-05-20</td>\n",
       "      <td>02:00:00</td>\n",
       "      <td>51.7</td>\n",
       "      <td>1020.8</td>\n",
       "      <td>66.7</td>\n",
       "      <td>0.0</td>\n",
       "    </tr>\n",
       "    <tr>\n",
       "      <th>2024-05-20 03:00:00-07:00</th>\n",
       "      <td>2024-05-20</td>\n",
       "      <td>03:00:00</td>\n",
       "      <td>50.3</td>\n",
       "      <td>1020.8</td>\n",
       "      <td>76.9</td>\n",
       "      <td>0.0</td>\n",
       "    </tr>\n",
       "    <tr>\n",
       "      <th>2024-05-20 04:00:00-07:00</th>\n",
       "      <td>2024-05-20</td>\n",
       "      <td>04:00:00</td>\n",
       "      <td>49.4</td>\n",
       "      <td>1021.0</td>\n",
       "      <td>80.5</td>\n",
       "      <td>0.0</td>\n",
       "    </tr>\n",
       "    <tr>\n",
       "      <th>2024-05-20 05:00:00-07:00</th>\n",
       "      <td>2024-05-20</td>\n",
       "      <td>05:00:00</td>\n",
       "      <td>49.0</td>\n",
       "      <td>1020.7</td>\n",
       "      <td>82.7</td>\n",
       "      <td>0.0</td>\n",
       "    </tr>\n",
       "    <tr>\n",
       "      <th>2024-05-20 06:00:00-07:00</th>\n",
       "      <td>2024-05-20</td>\n",
       "      <td>06:00:00</td>\n",
       "      <td>48.3</td>\n",
       "      <td>1021.2</td>\n",
       "      <td>82.7</td>\n",
       "      <td>0.0</td>\n",
       "    </tr>\n",
       "    <tr>\n",
       "      <th>2024-05-20 07:00:00-07:00</th>\n",
       "      <td>2024-05-20</td>\n",
       "      <td>07:00:00</td>\n",
       "      <td>50.5</td>\n",
       "      <td>1021.5</td>\n",
       "      <td>77.6</td>\n",
       "      <td>0.0</td>\n",
       "    </tr>\n",
       "    <tr>\n",
       "      <th>2024-05-20 08:00:00-07:00</th>\n",
       "      <td>2024-05-20</td>\n",
       "      <td>08:00:00</td>\n",
       "      <td>50.1</td>\n",
       "      <td>1021.8</td>\n",
       "      <td>79.0</td>\n",
       "      <td>0.0</td>\n",
       "    </tr>\n",
       "    <tr>\n",
       "      <th>2024-05-20 09:00:00-07:00</th>\n",
       "      <td>2024-05-20</td>\n",
       "      <td>09:00:00</td>\n",
       "      <td>51.3</td>\n",
       "      <td>1021.7</td>\n",
       "      <td>76.8</td>\n",
       "      <td>0.0</td>\n",
       "    </tr>\n",
       "    <tr>\n",
       "      <th>2024-05-20 10:00:00-07:00</th>\n",
       "      <td>2024-05-20</td>\n",
       "      <td>10:00:00</td>\n",
       "      <td>52.8</td>\n",
       "      <td>1021.6</td>\n",
       "      <td>72.2</td>\n",
       "      <td>0.0</td>\n",
       "    </tr>\n",
       "    <tr>\n",
       "      <th>2024-05-20 11:00:00-07:00</th>\n",
       "      <td>2024-05-20</td>\n",
       "      <td>11:00:00</td>\n",
       "      <td>54.9</td>\n",
       "      <td>1021.3</td>\n",
       "      <td>66.6</td>\n",
       "      <td>0.0</td>\n",
       "    </tr>\n",
       "    <tr>\n",
       "      <th>2024-05-20 12:00:00-07:00</th>\n",
       "      <td>2024-05-20</td>\n",
       "      <td>12:00:00</td>\n",
       "      <td>56.6</td>\n",
       "      <td>1021.2</td>\n",
       "      <td>62.2</td>\n",
       "      <td>0.0</td>\n",
       "    </tr>\n",
       "    <tr>\n",
       "      <th>2024-05-20 13:00:00-07:00</th>\n",
       "      <td>2024-05-20</td>\n",
       "      <td>13:00:00</td>\n",
       "      <td>57.7</td>\n",
       "      <td>1021.0</td>\n",
       "      <td>58.3</td>\n",
       "      <td>0.0</td>\n",
       "    </tr>\n",
       "    <tr>\n",
       "      <th>2024-05-20 14:00:00-07:00</th>\n",
       "      <td>2024-05-20</td>\n",
       "      <td>14:00:00</td>\n",
       "      <td>59.6</td>\n",
       "      <td>1020.6</td>\n",
       "      <td>52.4</td>\n",
       "      <td>0.0</td>\n",
       "    </tr>\n",
       "    <tr>\n",
       "      <th>2024-05-20 15:00:00-07:00</th>\n",
       "      <td>2024-05-20</td>\n",
       "      <td>15:00:00</td>\n",
       "      <td>61.7</td>\n",
       "      <td>1020.1</td>\n",
       "      <td>49.9</td>\n",
       "      <td>0.0</td>\n",
       "    </tr>\n",
       "    <tr>\n",
       "      <th>2024-05-20 16:00:00-07:00</th>\n",
       "      <td>2024-05-20</td>\n",
       "      <td>16:00:00</td>\n",
       "      <td>63.0</td>\n",
       "      <td>1019.5</td>\n",
       "      <td>43.9</td>\n",
       "      <td>0.0</td>\n",
       "    </tr>\n",
       "    <tr>\n",
       "      <th>2024-05-20 17:00:00-07:00</th>\n",
       "      <td>2024-05-20</td>\n",
       "      <td>17:00:00</td>\n",
       "      <td>64.9</td>\n",
       "      <td>1018.7</td>\n",
       "      <td>42.7</td>\n",
       "      <td>0.0</td>\n",
       "    </tr>\n",
       "    <tr>\n",
       "      <th>2024-05-20 18:00:00-07:00</th>\n",
       "      <td>2024-05-20</td>\n",
       "      <td>18:00:00</td>\n",
       "      <td>64.7</td>\n",
       "      <td>1018.4</td>\n",
       "      <td>44.4</td>\n",
       "      <td>0.0</td>\n",
       "    </tr>\n",
       "    <tr>\n",
       "      <th>2024-05-20 19:00:00-07:00</th>\n",
       "      <td>2024-05-20</td>\n",
       "      <td>19:00:00</td>\n",
       "      <td>62.6</td>\n",
       "      <td>1018.3</td>\n",
       "      <td>48.5</td>\n",
       "      <td>0.0</td>\n",
       "    </tr>\n",
       "    <tr>\n",
       "      <th>2024-05-20 20:00:00-07:00</th>\n",
       "      <td>2024-05-20</td>\n",
       "      <td>20:00:00</td>\n",
       "      <td>63.4</td>\n",
       "      <td>1018.3</td>\n",
       "      <td>49.3</td>\n",
       "      <td>0.0</td>\n",
       "    </tr>\n",
       "    <tr>\n",
       "      <th>2024-05-20 21:00:00-07:00</th>\n",
       "      <td>2024-05-20</td>\n",
       "      <td>21:00:00</td>\n",
       "      <td>59.4</td>\n",
       "      <td>1018.4</td>\n",
       "      <td>61.7</td>\n",
       "      <td>0.0</td>\n",
       "    </tr>\n",
       "    <tr>\n",
       "      <th>2024-05-20 22:00:00-07:00</th>\n",
       "      <td>2024-05-20</td>\n",
       "      <td>22:00:00</td>\n",
       "      <td>56.1</td>\n",
       "      <td>1018.6</td>\n",
       "      <td>72.5</td>\n",
       "      <td>0.0</td>\n",
       "    </tr>\n",
       "  </tbody>\n",
       "</table>\n",
       "</div>"
      ],
      "text/plain": [
       "                                 date      time  temperature  pressure  \\\n",
       "datetime_PST                                                             \n",
       "2024-05-19 07:00:00-07:00  2024-05-19  07:00:00         48.3    1019.2   \n",
       "2024-05-19 08:00:00-07:00  2024-05-19  08:00:00         48.8    1019.6   \n",
       "2024-05-19 09:00:00-07:00  2024-05-19  09:00:00         51.4    1020.2   \n",
       "2024-05-19 10:00:00-07:00  2024-05-19  10:00:00         52.9    1020.4   \n",
       "2024-05-19 11:00:00-07:00  2024-05-19  11:00:00         51.3    1020.7   \n",
       "2024-05-19 12:00:00-07:00  2024-05-19  12:00:00         53.4    1020.8   \n",
       "2024-05-19 13:00:00-07:00  2024-05-19  13:00:00         56.3    1020.8   \n",
       "2024-05-19 14:00:00-07:00  2024-05-19  14:00:00         59.1    1020.4   \n",
       "2024-05-19 15:00:00-07:00  2024-05-19  15:00:00         61.4    1020.2   \n",
       "2024-05-19 16:00:00-07:00  2024-05-19  16:00:00         62.1    1020.1   \n",
       "2024-05-19 17:00:00-07:00  2024-05-19  17:00:00         61.9    1019.6   \n",
       "2024-05-19 18:00:00-07:00  2024-05-19  18:00:00         61.6    1019.5   \n",
       "2024-05-19 19:00:00-07:00  2024-05-19  19:00:00         61.8    1019.5   \n",
       "2024-05-19 20:00:00-07:00  2024-05-19  20:00:00         60.8    1019.5   \n",
       "2024-05-19 21:00:00-07:00  2024-05-19  21:00:00         58.8    1019.6   \n",
       "2024-05-19 22:00:00-07:00  2024-05-19  22:00:00         56.4    1020.2   \n",
       "2024-05-19 23:00:00-07:00  2024-05-19  23:00:00         55.2    1020.3   \n",
       "2024-05-20 00:00:00-07:00  2024-05-20  00:00:00         53.3    1020.4   \n",
       "2024-05-20 01:00:00-07:00  2024-05-20  01:00:00         51.5    1020.9   \n",
       "2024-05-20 02:00:00-07:00  2024-05-20  02:00:00         51.7    1020.8   \n",
       "2024-05-20 03:00:00-07:00  2024-05-20  03:00:00         50.3    1020.8   \n",
       "2024-05-20 04:00:00-07:00  2024-05-20  04:00:00         49.4    1021.0   \n",
       "2024-05-20 05:00:00-07:00  2024-05-20  05:00:00         49.0    1020.7   \n",
       "2024-05-20 06:00:00-07:00  2024-05-20  06:00:00         48.3    1021.2   \n",
       "2024-05-20 07:00:00-07:00  2024-05-20  07:00:00         50.5    1021.5   \n",
       "2024-05-20 08:00:00-07:00  2024-05-20  08:00:00         50.1    1021.8   \n",
       "2024-05-20 09:00:00-07:00  2024-05-20  09:00:00         51.3    1021.7   \n",
       "2024-05-20 10:00:00-07:00  2024-05-20  10:00:00         52.8    1021.6   \n",
       "2024-05-20 11:00:00-07:00  2024-05-20  11:00:00         54.9    1021.3   \n",
       "2024-05-20 12:00:00-07:00  2024-05-20  12:00:00         56.6    1021.2   \n",
       "2024-05-20 13:00:00-07:00  2024-05-20  13:00:00         57.7    1021.0   \n",
       "2024-05-20 14:00:00-07:00  2024-05-20  14:00:00         59.6    1020.6   \n",
       "2024-05-20 15:00:00-07:00  2024-05-20  15:00:00         61.7    1020.1   \n",
       "2024-05-20 16:00:00-07:00  2024-05-20  16:00:00         63.0    1019.5   \n",
       "2024-05-20 17:00:00-07:00  2024-05-20  17:00:00         64.9    1018.7   \n",
       "2024-05-20 18:00:00-07:00  2024-05-20  18:00:00         64.7    1018.4   \n",
       "2024-05-20 19:00:00-07:00  2024-05-20  19:00:00         62.6    1018.3   \n",
       "2024-05-20 20:00:00-07:00  2024-05-20  20:00:00         63.4    1018.3   \n",
       "2024-05-20 21:00:00-07:00  2024-05-20  21:00:00         59.4    1018.4   \n",
       "2024-05-20 22:00:00-07:00  2024-05-20  22:00:00         56.1    1018.6   \n",
       "\n",
       "                           relhum  rainfall_type  \n",
       "datetime_PST                                      \n",
       "2024-05-19 07:00:00-07:00    88.5            0.0  \n",
       "2024-05-19 08:00:00-07:00    85.9            0.0  \n",
       "2024-05-19 09:00:00-07:00    77.0            0.0  \n",
       "2024-05-19 10:00:00-07:00    71.7            0.0  \n",
       "2024-05-19 11:00:00-07:00    74.5            0.0  \n",
       "2024-05-19 12:00:00-07:00    62.8            0.0  \n",
       "2024-05-19 13:00:00-07:00    58.4            0.0  \n",
       "2024-05-19 14:00:00-07:00    50.4            0.0  \n",
       "2024-05-19 15:00:00-07:00    49.6            0.0  \n",
       "2024-05-19 16:00:00-07:00    40.9            0.0  \n",
       "2024-05-19 17:00:00-07:00    43.1            0.0  \n",
       "2024-05-19 18:00:00-07:00    41.7            0.0  \n",
       "2024-05-19 19:00:00-07:00    40.6            0.0  \n",
       "2024-05-19 20:00:00-07:00    42.9            0.0  \n",
       "2024-05-19 21:00:00-07:00    45.2            0.0  \n",
       "2024-05-19 22:00:00-07:00    52.1            0.0  \n",
       "2024-05-19 23:00:00-07:00    60.2            0.0  \n",
       "2024-05-20 00:00:00-07:00    64.6            0.0  \n",
       "2024-05-20 01:00:00-07:00    69.2            0.0  \n",
       "2024-05-20 02:00:00-07:00    66.7            0.0  \n",
       "2024-05-20 03:00:00-07:00    76.9            0.0  \n",
       "2024-05-20 04:00:00-07:00    80.5            0.0  \n",
       "2024-05-20 05:00:00-07:00    82.7            0.0  \n",
       "2024-05-20 06:00:00-07:00    82.7            0.0  \n",
       "2024-05-20 07:00:00-07:00    77.6            0.0  \n",
       "2024-05-20 08:00:00-07:00    79.0            0.0  \n",
       "2024-05-20 09:00:00-07:00    76.8            0.0  \n",
       "2024-05-20 10:00:00-07:00    72.2            0.0  \n",
       "2024-05-20 11:00:00-07:00    66.6            0.0  \n",
       "2024-05-20 12:00:00-07:00    62.2            0.0  \n",
       "2024-05-20 13:00:00-07:00    58.3            0.0  \n",
       "2024-05-20 14:00:00-07:00    52.4            0.0  \n",
       "2024-05-20 15:00:00-07:00    49.9            0.0  \n",
       "2024-05-20 16:00:00-07:00    43.9            0.0  \n",
       "2024-05-20 17:00:00-07:00    42.7            0.0  \n",
       "2024-05-20 18:00:00-07:00    44.4            0.0  \n",
       "2024-05-20 19:00:00-07:00    48.5            0.0  \n",
       "2024-05-20 20:00:00-07:00    49.3            0.0  \n",
       "2024-05-20 21:00:00-07:00    61.7            0.0  \n",
       "2024-05-20 22:00:00-07:00    72.5            0.0  "
      ]
     },
     "execution_count": 6,
     "metadata": {},
     "output_type": "execute_result"
    }
   ],
   "source": [
    "atg_obs_necessary.iloc[-100:-60,:]"
   ]
  },
  {
   "cell_type": "code",
   "execution_count": 7,
   "metadata": {},
   "outputs": [
    {
     "data": {
      "text/html": [
       "<div>\n",
       "<style scoped>\n",
       "    .dataframe tbody tr th:only-of-type {\n",
       "        vertical-align: middle;\n",
       "    }\n",
       "\n",
       "    .dataframe tbody tr th {\n",
       "        vertical-align: top;\n",
       "    }\n",
       "\n",
       "    .dataframe thead th {\n",
       "        text-align: right;\n",
       "    }\n",
       "</style>\n",
       "<table border=\"1\" class=\"dataframe\">\n",
       "  <thead>\n",
       "    <tr style=\"text-align: right;\">\n",
       "      <th></th>\n",
       "      <th>date</th>\n",
       "      <th>time</th>\n",
       "      <th>temperature</th>\n",
       "      <th>pressure</th>\n",
       "      <th>relhum</th>\n",
       "      <th>rainfall_type</th>\n",
       "    </tr>\n",
       "    <tr>\n",
       "      <th>datetime_PST</th>\n",
       "      <th></th>\n",
       "      <th></th>\n",
       "      <th></th>\n",
       "      <th></th>\n",
       "      <th></th>\n",
       "      <th></th>\n",
       "    </tr>\n",
       "  </thead>\n",
       "  <tbody>\n",
       "    <tr>\n",
       "      <th>2022-06-05 08:00:00-07:00</th>\n",
       "      <td>2022-06-05</td>\n",
       "      <td>08:00:00</td>\n",
       "      <td>59.4</td>\n",
       "      <td>999.3</td>\n",
       "      <td>87.2</td>\n",
       "      <td>3.0</td>\n",
       "    </tr>\n",
       "    <tr>\n",
       "      <th>2022-06-18 20:00:00-07:00</th>\n",
       "      <td>2022-06-18</td>\n",
       "      <td>20:00:00</td>\n",
       "      <td>58.5</td>\n",
       "      <td>1013.4</td>\n",
       "      <td>70.4</td>\n",
       "      <td>3.0</td>\n",
       "    </tr>\n",
       "    <tr>\n",
       "      <th>2022-06-18 21:00:00-07:00</th>\n",
       "      <td>2022-06-18</td>\n",
       "      <td>21:00:00</td>\n",
       "      <td>55.8</td>\n",
       "      <td>1013.6</td>\n",
       "      <td>84.3</td>\n",
       "      <td>3.0</td>\n",
       "    </tr>\n",
       "    <tr>\n",
       "      <th>2022-12-24 09:00:00-08:00</th>\n",
       "      <td>2022-12-24</td>\n",
       "      <td>09:00:00</td>\n",
       "      <td>43.1</td>\n",
       "      <td>1012.1</td>\n",
       "      <td>96.0</td>\n",
       "      <td>3.0</td>\n",
       "    </tr>\n",
       "    <tr>\n",
       "      <th>2023-06-19 02:00:00-07:00</th>\n",
       "      <td>2023-06-19</td>\n",
       "      <td>02:00:00</td>\n",
       "      <td>50.6</td>\n",
       "      <td>1007.3</td>\n",
       "      <td>90.2</td>\n",
       "      <td>3.0</td>\n",
       "    </tr>\n",
       "    <tr>\n",
       "      <th>2023-11-04 10:00:00-07:00</th>\n",
       "      <td>2023-11-04</td>\n",
       "      <td>10:00:00</td>\n",
       "      <td>59.9</td>\n",
       "      <td>1001.7</td>\n",
       "      <td>92.9</td>\n",
       "      <td>3.0</td>\n",
       "    </tr>\n",
       "    <tr>\n",
       "      <th>2024-04-29 04:00:00-07:00</th>\n",
       "      <td>2024-04-29</td>\n",
       "      <td>04:00:00</td>\n",
       "      <td>43.4</td>\n",
       "      <td>1012.1</td>\n",
       "      <td>90.0</td>\n",
       "      <td>3.0</td>\n",
       "    </tr>\n",
       "  </tbody>\n",
       "</table>\n",
       "</div>"
      ],
      "text/plain": [
       "                                 date      time  temperature  pressure  \\\n",
       "datetime_PST                                                             \n",
       "2022-06-05 08:00:00-07:00  2022-06-05  08:00:00         59.4     999.3   \n",
       "2022-06-18 20:00:00-07:00  2022-06-18  20:00:00         58.5    1013.4   \n",
       "2022-06-18 21:00:00-07:00  2022-06-18  21:00:00         55.8    1013.6   \n",
       "2022-12-24 09:00:00-08:00  2022-12-24  09:00:00         43.1    1012.1   \n",
       "2023-06-19 02:00:00-07:00  2023-06-19  02:00:00         50.6    1007.3   \n",
       "2023-11-04 10:00:00-07:00  2023-11-04  10:00:00         59.9    1001.7   \n",
       "2024-04-29 04:00:00-07:00  2024-04-29  04:00:00         43.4    1012.1   \n",
       "\n",
       "                           relhum  rainfall_type  \n",
       "datetime_PST                                      \n",
       "2022-06-05 08:00:00-07:00    87.2            3.0  \n",
       "2022-06-18 20:00:00-07:00    70.4            3.0  \n",
       "2022-06-18 21:00:00-07:00    84.3            3.0  \n",
       "2022-12-24 09:00:00-08:00    96.0            3.0  \n",
       "2023-06-19 02:00:00-07:00    90.2            3.0  \n",
       "2023-11-04 10:00:00-07:00    92.9            3.0  \n",
       "2024-04-29 04:00:00-07:00    90.0            3.0  "
      ]
     },
     "execution_count": 7,
     "metadata": {},
     "output_type": "execute_result"
    }
   ],
   "source": [
    "atg_obs_necessary[atg_obs_necessary['rainfall_type']==3][-10:]"
   ]
  },
  {
   "cell_type": "code",
   "execution_count": 8,
   "metadata": {},
   "outputs": [],
   "source": [
    "def select_times_around_specific_events(atg_obs_necessary, event, num_days_around):\n",
    "    notable_event_times = atg_obs_necessary.loc[atg_obs_necessary['rainfall_type']>=event].index\n",
    "\n",
    "    relevant_events = pd.DataFrame()\n",
    "    for event_time in notable_event_times:\n",
    "        start_time = event_time-pd.Timedelta(days=num_days_around)\n",
    "        end_time = event_time+pd.Timedelta(days=num_days_around)\n",
    "        time_around_event = atg_obs_necessary.loc[start_time:end_time].copy()\n",
    "        relevant_events = pd.concat([relevant_events, time_around_event]).drop_duplicates()\n",
    "    \n",
    "    return relevant_events"
   ]
  },
  {
   "cell_type": "code",
   "execution_count": 9,
   "metadata": {},
   "outputs": [
    {
     "data": {
      "text/html": [
       "<div>\n",
       "<style scoped>\n",
       "    .dataframe tbody tr th:only-of-type {\n",
       "        vertical-align: middle;\n",
       "    }\n",
       "\n",
       "    .dataframe tbody tr th {\n",
       "        vertical-align: top;\n",
       "    }\n",
       "\n",
       "    .dataframe thead th {\n",
       "        text-align: right;\n",
       "    }\n",
       "</style>\n",
       "<table border=\"1\" class=\"dataframe\">\n",
       "  <thead>\n",
       "    <tr style=\"text-align: right;\">\n",
       "      <th></th>\n",
       "      <th>date</th>\n",
       "      <th>time</th>\n",
       "      <th>temperature</th>\n",
       "      <th>pressure</th>\n",
       "      <th>relhum</th>\n",
       "      <th>rainfall_type</th>\n",
       "    </tr>\n",
       "    <tr>\n",
       "      <th>datetime_PST</th>\n",
       "      <th></th>\n",
       "      <th></th>\n",
       "      <th></th>\n",
       "      <th></th>\n",
       "      <th></th>\n",
       "      <th></th>\n",
       "    </tr>\n",
       "  </thead>\n",
       "  <tbody>\n",
       "    <tr>\n",
       "      <th>2022-05-21 08:00:00-07:00</th>\n",
       "      <td>2022-05-21</td>\n",
       "      <td>08:00:00</td>\n",
       "      <td>49.6</td>\n",
       "      <td>1019.9</td>\n",
       "      <td>77.3</td>\n",
       "      <td>0.0</td>\n",
       "    </tr>\n",
       "    <tr>\n",
       "      <th>2022-05-21 09:00:00-07:00</th>\n",
       "      <td>2022-05-21</td>\n",
       "      <td>09:00:00</td>\n",
       "      <td>53.8</td>\n",
       "      <td>1019.7</td>\n",
       "      <td>67.1</td>\n",
       "      <td>0.0</td>\n",
       "    </tr>\n",
       "    <tr>\n",
       "      <th>2022-05-21 10:00:00-07:00</th>\n",
       "      <td>2022-05-21</td>\n",
       "      <td>10:00:00</td>\n",
       "      <td>55.0</td>\n",
       "      <td>1019.7</td>\n",
       "      <td>65.6</td>\n",
       "      <td>0.0</td>\n",
       "    </tr>\n",
       "    <tr>\n",
       "      <th>2022-05-21 11:00:00-07:00</th>\n",
       "      <td>2022-05-21</td>\n",
       "      <td>11:00:00</td>\n",
       "      <td>56.0</td>\n",
       "      <td>1019.6</td>\n",
       "      <td>60.0</td>\n",
       "      <td>0.0</td>\n",
       "    </tr>\n",
       "    <tr>\n",
       "      <th>2022-05-21 12:00:00-07:00</th>\n",
       "      <td>2022-05-21</td>\n",
       "      <td>12:00:00</td>\n",
       "      <td>57.1</td>\n",
       "      <td>1019.4</td>\n",
       "      <td>55.8</td>\n",
       "      <td>0.0</td>\n",
       "    </tr>\n",
       "    <tr>\n",
       "      <th>...</th>\n",
       "      <td>...</td>\n",
       "      <td>...</td>\n",
       "      <td>...</td>\n",
       "      <td>...</td>\n",
       "      <td>...</td>\n",
       "      <td>...</td>\n",
       "    </tr>\n",
       "    <tr>\n",
       "      <th>2024-05-14 00:00:00-07:00</th>\n",
       "      <td>2024-05-14</td>\n",
       "      <td>00:00:00</td>\n",
       "      <td>53.7</td>\n",
       "      <td>1017.3</td>\n",
       "      <td>68.9</td>\n",
       "      <td>0.0</td>\n",
       "    </tr>\n",
       "    <tr>\n",
       "      <th>2024-05-14 01:00:00-07:00</th>\n",
       "      <td>2024-05-14</td>\n",
       "      <td>01:00:00</td>\n",
       "      <td>53.0</td>\n",
       "      <td>1017.3</td>\n",
       "      <td>71.3</td>\n",
       "      <td>0.0</td>\n",
       "    </tr>\n",
       "    <tr>\n",
       "      <th>2024-05-14 02:00:00-07:00</th>\n",
       "      <td>2024-05-14</td>\n",
       "      <td>02:00:00</td>\n",
       "      <td>52.2</td>\n",
       "      <td>1017.3</td>\n",
       "      <td>72.8</td>\n",
       "      <td>0.0</td>\n",
       "    </tr>\n",
       "    <tr>\n",
       "      <th>2024-05-14 03:00:00-07:00</th>\n",
       "      <td>2024-05-14</td>\n",
       "      <td>03:00:00</td>\n",
       "      <td>51.7</td>\n",
       "      <td>1017.4</td>\n",
       "      <td>74.4</td>\n",
       "      <td>0.0</td>\n",
       "    </tr>\n",
       "    <tr>\n",
       "      <th>2024-05-14 04:00:00-07:00</th>\n",
       "      <td>2024-05-14</td>\n",
       "      <td>04:00:00</td>\n",
       "      <td>52.4</td>\n",
       "      <td>1018.1</td>\n",
       "      <td>72.1</td>\n",
       "      <td>0.0</td>\n",
       "    </tr>\n",
       "  </tbody>\n",
       "</table>\n",
       "<p>3910 rows × 6 columns</p>\n",
       "</div>"
      ],
      "text/plain": [
       "                                 date      time  temperature  pressure  \\\n",
       "datetime_PST                                                             \n",
       "2022-05-21 08:00:00-07:00  2022-05-21  08:00:00         49.6    1019.9   \n",
       "2022-05-21 09:00:00-07:00  2022-05-21  09:00:00         53.8    1019.7   \n",
       "2022-05-21 10:00:00-07:00  2022-05-21  10:00:00         55.0    1019.7   \n",
       "2022-05-21 11:00:00-07:00  2022-05-21  11:00:00         56.0    1019.6   \n",
       "2022-05-21 12:00:00-07:00  2022-05-21  12:00:00         57.1    1019.4   \n",
       "...                               ...       ...          ...       ...   \n",
       "2024-05-14 00:00:00-07:00  2024-05-14  00:00:00         53.7    1017.3   \n",
       "2024-05-14 01:00:00-07:00  2024-05-14  01:00:00         53.0    1017.3   \n",
       "2024-05-14 02:00:00-07:00  2024-05-14  02:00:00         52.2    1017.3   \n",
       "2024-05-14 03:00:00-07:00  2024-05-14  03:00:00         51.7    1017.4   \n",
       "2024-05-14 04:00:00-07:00  2024-05-14  04:00:00         52.4    1018.1   \n",
       "\n",
       "                           relhum  rainfall_type  \n",
       "datetime_PST                                      \n",
       "2022-05-21 08:00:00-07:00    77.3            0.0  \n",
       "2022-05-21 09:00:00-07:00    67.1            0.0  \n",
       "2022-05-21 10:00:00-07:00    65.6            0.0  \n",
       "2022-05-21 11:00:00-07:00    60.0            0.0  \n",
       "2022-05-21 12:00:00-07:00    55.8            0.0  \n",
       "...                           ...            ...  \n",
       "2024-05-14 00:00:00-07:00    68.9            0.0  \n",
       "2024-05-14 01:00:00-07:00    71.3            0.0  \n",
       "2024-05-14 02:00:00-07:00    72.8            0.0  \n",
       "2024-05-14 03:00:00-07:00    74.4            0.0  \n",
       "2024-05-14 04:00:00-07:00    72.1            0.0  \n",
       "\n",
       "[3910 rows x 6 columns]"
      ]
     },
     "execution_count": 9,
     "metadata": {},
     "output_type": "execute_result"
    }
   ],
   "source": [
    "relevant_events = select_times_around_specific_events(atg_obs_necessary, 3, 15)\n",
    "relevant_events"
   ]
  },
  {
   "cell_type": "code",
   "execution_count": 10,
   "metadata": {},
   "outputs": [
    {
     "data": {
      "image/png": "[encoded data removed]",
      "text/plain": [
       "<Figure size 600x400 with 1 Axes>"
      ]
     },
     "metadata": {},
     "output_type": "display_data"
    },
    {
     "data": {
      "text/plain": [
       "(array([3450,  410,   43,    7]), array([0., 1., 2., 3., 4.]))"
      ]
     },
     "execution_count": 10,
     "metadata": {},
     "output_type": "execute_result"
    }
   ],
   "source": [
    "rain_counts, classes = np.histogram(relevant_events['rainfall_type'].values, bins=np.arange(0,relevant_events['rainfall_type'].max()+2))\n",
    "\n",
    "plt.figure(figsize=(6,4))\n",
    "plt.bar(x=np.arange(0,relevant_events['rainfall_type'].max()+1), width=1, height=rain_counts, facecolor='blue', edgecolor='k', alpha=0.6)\n",
    "plt.ylabel('# of hours')\n",
    "plt.xticks(ticks=np.arange(0,relevant_events['rainfall_type'].max()+1), labels=['No rain', 'Light', 'Mid', 'Heavy'])\n",
    "plt.xlabel('Rainfall type')\n",
    "plt.show()\n",
    "rain_counts, classes"
   ]
  },
  {
   "cell_type": "code",
   "execution_count": 11,
   "metadata": {},
   "outputs": [],
   "source": [
    "def get_processed_df_from_data(dataset):\n",
    "    date_objs = pd.to_datetime(dataset['date'], format=\"%Y-%m-%d\")\n",
    "    time_objs = pd.to_datetime(dataset['time'], format='%H:%M:%S')\n",
    "\n",
    "    months = pd.DatetimeIndex(date_objs).month\n",
    "    hours = pd.DatetimeIndex(time_objs).hour\n",
    "\n",
    "    processed_df = pd.DataFrame()\n",
    "    processed_df['months_from_july'] = (np.abs(months - 7))\n",
    "    # processed_df['time_of_day'] = (((hours-2)%24) // 6).astype(int)\n",
    "\n",
    "    vals = dataset['temperature']\n",
    "    processed_df['feature_1'] = vals.values\n",
    "\n",
    "    vals = dataset['pressure']\n",
    "    processed_df['feature_3'] = vals.values\n",
    "\n",
    "    vals = dataset['relhum']\n",
    "    processed_df['feature_2'] = vals.values\n",
    "    \n",
    "    processed_df['class'] = dataset['rainfall_type'].values\n",
    "    return processed_df"
   ]
  },
  {
   "cell_type": "code",
   "execution_count": 12,
   "metadata": {},
   "outputs": [],
   "source": [
    "def create_oversampled_df(processed_df):\n",
    "    num_zeros = processed_df[processed_df['class']==0].shape[0]\n",
    "\n",
    "    zeros_samps = processed_df[processed_df['class']==0].copy()\n",
    "    dupl_processed_df = zeros_samps\n",
    "    for group in np.arange(1, 4):\n",
    "        under_group_samps = processed_df[processed_df['class']==group].copy()\n",
    "        if len(under_group_samps)>0:\n",
    "            group_samps = under_group_samps.sample(n=(num_zeros-len(under_group_samps)), replace=True, random_state=42)\n",
    "            \n",
    "            np.random.seed(1)\n",
    "            noise = np.random.normal(0,1,(num_zeros-len(under_group_samps)))\n",
    "            group_samps['feature_1'] = group_samps['feature_1']+noise\n",
    "\n",
    "            np.random.seed(2)\n",
    "            noise = np.random.normal(0,1,(num_zeros-len(under_group_samps)))\n",
    "            group_samps['feature_2'] = group_samps['feature_2']+noise\n",
    "\n",
    "            np.random.seed(3)\n",
    "            noise = np.random.normal(0,1,(num_zeros-len(under_group_samps)))\n",
    "            group_samps['feature_3'] = group_samps['feature_3']+noise\n",
    "\n",
    "            dupl_processed_df = pd.concat([dupl_processed_df, under_group_samps, group_samps])\n",
    "\n",
    "    return dupl_processed_df"
   ]
  },
  {
   "cell_type": "code",
   "execution_count": 13,
   "metadata": {},
   "outputs": [],
   "source": [
    "raw_df_train_val, raw_under_df_test = train_test_split(relevant_events,random_state=42,test_size=0.2)\n",
    "raw_under_df_train, raw_under_df_val = train_test_split(raw_df_train_val,random_state=42,test_size=0.25)"
   ]
  },
  {
   "cell_type": "code",
   "execution_count": 14,
   "metadata": {},
   "outputs": [],
   "source": [
    "raw_under_df_train = raw_under_df_train.sort_index()\n",
    "raw_under_df_val = raw_under_df_val.sort_index()\n",
    "raw_under_df_test = raw_under_df_test.sort_index()"
   ]
  },
  {
   "cell_type": "code",
   "execution_count": 15,
   "metadata": {},
   "outputs": [
    {
     "data": {
      "text/html": [
       "<div>\n",
       "<style scoped>\n",
       "    .dataframe tbody tr th:only-of-type {\n",
       "        vertical-align: middle;\n",
       "    }\n",
       "\n",
       "    .dataframe tbody tr th {\n",
       "        vertical-align: top;\n",
       "    }\n",
       "\n",
       "    .dataframe thead th {\n",
       "        text-align: right;\n",
       "    }\n",
       "</style>\n",
       "<table border=\"1\" class=\"dataframe\">\n",
       "  <thead>\n",
       "    <tr style=\"text-align: right;\">\n",
       "      <th></th>\n",
       "      <th>date</th>\n",
       "      <th>time</th>\n",
       "      <th>temperature</th>\n",
       "      <th>pressure</th>\n",
       "      <th>relhum</th>\n",
       "      <th>rainfall_type</th>\n",
       "    </tr>\n",
       "    <tr>\n",
       "      <th>datetime_PST</th>\n",
       "      <th></th>\n",
       "      <th></th>\n",
       "      <th></th>\n",
       "      <th></th>\n",
       "      <th></th>\n",
       "      <th></th>\n",
       "    </tr>\n",
       "  </thead>\n",
       "  <tbody>\n",
       "    <tr>\n",
       "      <th>2022-05-21 09:00:00-07:00</th>\n",
       "      <td>2022-05-21</td>\n",
       "      <td>09:00:00</td>\n",
       "      <td>53.8</td>\n",
       "      <td>1019.7</td>\n",
       "      <td>67.1</td>\n",
       "      <td>0.0</td>\n",
       "    </tr>\n",
       "    <tr>\n",
       "      <th>2022-05-21 10:00:00-07:00</th>\n",
       "      <td>2022-05-21</td>\n",
       "      <td>10:00:00</td>\n",
       "      <td>55.0</td>\n",
       "      <td>1019.7</td>\n",
       "      <td>65.6</td>\n",
       "      <td>0.0</td>\n",
       "    </tr>\n",
       "    <tr>\n",
       "      <th>2022-05-21 12:00:00-07:00</th>\n",
       "      <td>2022-05-21</td>\n",
       "      <td>12:00:00</td>\n",
       "      <td>57.1</td>\n",
       "      <td>1019.4</td>\n",
       "      <td>55.8</td>\n",
       "      <td>0.0</td>\n",
       "    </tr>\n",
       "    <tr>\n",
       "      <th>2022-05-21 15:00:00-07:00</th>\n",
       "      <td>2022-05-21</td>\n",
       "      <td>15:00:00</td>\n",
       "      <td>63.7</td>\n",
       "      <td>1018.1</td>\n",
       "      <td>35.4</td>\n",
       "      <td>0.0</td>\n",
       "    </tr>\n",
       "    <tr>\n",
       "      <th>2022-05-21 17:00:00-07:00</th>\n",
       "      <td>2022-05-21</td>\n",
       "      <td>17:00:00</td>\n",
       "      <td>65.7</td>\n",
       "      <td>1017.8</td>\n",
       "      <td>36.5</td>\n",
       "      <td>0.0</td>\n",
       "    </tr>\n",
       "    <tr>\n",
       "      <th>...</th>\n",
       "      <td>...</td>\n",
       "      <td>...</td>\n",
       "      <td>...</td>\n",
       "      <td>...</td>\n",
       "      <td>...</td>\n",
       "      <td>...</td>\n",
       "    </tr>\n",
       "    <tr>\n",
       "      <th>2024-05-13 22:00:00-07:00</th>\n",
       "      <td>2024-05-13</td>\n",
       "      <td>22:00:00</td>\n",
       "      <td>55.6</td>\n",
       "      <td>1016.4</td>\n",
       "      <td>66.2</td>\n",
       "      <td>0.0</td>\n",
       "    </tr>\n",
       "    <tr>\n",
       "      <th>2024-05-13 23:00:00-07:00</th>\n",
       "      <td>2024-05-13</td>\n",
       "      <td>23:00:00</td>\n",
       "      <td>54.3</td>\n",
       "      <td>1016.9</td>\n",
       "      <td>68.1</td>\n",
       "      <td>0.0</td>\n",
       "    </tr>\n",
       "    <tr>\n",
       "      <th>2024-05-14 00:00:00-07:00</th>\n",
       "      <td>2024-05-14</td>\n",
       "      <td>00:00:00</td>\n",
       "      <td>53.7</td>\n",
       "      <td>1017.3</td>\n",
       "      <td>68.9</td>\n",
       "      <td>0.0</td>\n",
       "    </tr>\n",
       "    <tr>\n",
       "      <th>2024-05-14 03:00:00-07:00</th>\n",
       "      <td>2024-05-14</td>\n",
       "      <td>03:00:00</td>\n",
       "      <td>51.7</td>\n",
       "      <td>1017.4</td>\n",
       "      <td>74.4</td>\n",
       "      <td>0.0</td>\n",
       "    </tr>\n",
       "    <tr>\n",
       "      <th>2024-05-14 04:00:00-07:00</th>\n",
       "      <td>2024-05-14</td>\n",
       "      <td>04:00:00</td>\n",
       "      <td>52.4</td>\n",
       "      <td>1018.1</td>\n",
       "      <td>72.1</td>\n",
       "      <td>0.0</td>\n",
       "    </tr>\n",
       "  </tbody>\n",
       "</table>\n",
       "<p>2346 rows × 6 columns</p>\n",
       "</div>"
      ],
      "text/plain": [
       "                                 date      time  temperature  pressure  \\\n",
       "datetime_PST                                                             \n",
       "2022-05-21 09:00:00-07:00  2022-05-21  09:00:00         53.8    1019.7   \n",
       "2022-05-21 10:00:00-07:00  2022-05-21  10:00:00         55.0    1019.7   \n",
       "2022-05-21 12:00:00-07:00  2022-05-21  12:00:00         57.1    1019.4   \n",
       "2022-05-21 15:00:00-07:00  2022-05-21  15:00:00         63.7    1018.1   \n",
       "2022-05-21 17:00:00-07:00  2022-05-21  17:00:00         65.7    1017.8   \n",
       "...                               ...       ...          ...       ...   \n",
       "2024-05-13 22:00:00-07:00  2024-05-13  22:00:00         55.6    1016.4   \n",
       "2024-05-13 23:00:00-07:00  2024-05-13  23:00:00         54.3    1016.9   \n",
       "2024-05-14 00:00:00-07:00  2024-05-14  00:00:00         53.7    1017.3   \n",
       "2024-05-14 03:00:00-07:00  2024-05-14  03:00:00         51.7    1017.4   \n",
       "2024-05-14 04:00:00-07:00  2024-05-14  04:00:00         52.4    1018.1   \n",
       "\n",
       "                           relhum  rainfall_type  \n",
       "datetime_PST                                      \n",
       "2022-05-21 09:00:00-07:00    67.1            0.0  \n",
       "2022-05-21 10:00:00-07:00    65.6            0.0  \n",
       "2022-05-21 12:00:00-07:00    55.8            0.0  \n",
       "2022-05-21 15:00:00-07:00    35.4            0.0  \n",
       "2022-05-21 17:00:00-07:00    36.5            0.0  \n",
       "...                           ...            ...  \n",
       "2024-05-13 22:00:00-07:00    66.2            0.0  \n",
       "2024-05-13 23:00:00-07:00    68.1            0.0  \n",
       "2024-05-14 00:00:00-07:00    68.9            0.0  \n",
       "2024-05-14 03:00:00-07:00    74.4            0.0  \n",
       "2024-05-14 04:00:00-07:00    72.1            0.0  \n",
       "\n",
       "[2346 rows x 6 columns]"
      ]
     },
     "execution_count": 15,
     "metadata": {},
     "output_type": "execute_result"
    }
   ],
   "source": [
    "raw_under_df_train"
   ]
  },
  {
   "cell_type": "code",
   "execution_count": 16,
   "metadata": {},
   "outputs": [
    {
     "data": {
      "text/html": [
       "<div>\n",
       "<style scoped>\n",
       "    .dataframe tbody tr th:only-of-type {\n",
       "        vertical-align: middle;\n",
       "    }\n",
       "\n",
       "    .dataframe tbody tr th {\n",
       "        vertical-align: top;\n",
       "    }\n",
       "\n",
       "    .dataframe thead th {\n",
       "        text-align: right;\n",
       "    }\n",
       "</style>\n",
       "<table border=\"1\" class=\"dataframe\">\n",
       "  <thead>\n",
       "    <tr style=\"text-align: right;\">\n",
       "      <th></th>\n",
       "      <th>months_from_july</th>\n",
       "      <th>feature_1</th>\n",
       "      <th>feature_3</th>\n",
       "      <th>feature_2</th>\n",
       "      <th>class</th>\n",
       "    </tr>\n",
       "  </thead>\n",
       "  <tbody>\n",
       "    <tr>\n",
       "      <th>0</th>\n",
       "      <td>2</td>\n",
       "      <td>53.8</td>\n",
       "      <td>1019.7</td>\n",
       "      <td>67.1</td>\n",
       "      <td>0.0</td>\n",
       "    </tr>\n",
       "    <tr>\n",
       "      <th>1</th>\n",
       "      <td>2</td>\n",
       "      <td>55.0</td>\n",
       "      <td>1019.7</td>\n",
       "      <td>65.6</td>\n",
       "      <td>0.0</td>\n",
       "    </tr>\n",
       "    <tr>\n",
       "      <th>2</th>\n",
       "      <td>2</td>\n",
       "      <td>57.1</td>\n",
       "      <td>1019.4</td>\n",
       "      <td>55.8</td>\n",
       "      <td>0.0</td>\n",
       "    </tr>\n",
       "    <tr>\n",
       "      <th>3</th>\n",
       "      <td>2</td>\n",
       "      <td>63.7</td>\n",
       "      <td>1018.1</td>\n",
       "      <td>35.4</td>\n",
       "      <td>0.0</td>\n",
       "    </tr>\n",
       "    <tr>\n",
       "      <th>4</th>\n",
       "      <td>2</td>\n",
       "      <td>65.7</td>\n",
       "      <td>1017.8</td>\n",
       "      <td>36.5</td>\n",
       "      <td>0.0</td>\n",
       "    </tr>\n",
       "    <tr>\n",
       "      <th>...</th>\n",
       "      <td>...</td>\n",
       "      <td>...</td>\n",
       "      <td>...</td>\n",
       "      <td>...</td>\n",
       "      <td>...</td>\n",
       "    </tr>\n",
       "    <tr>\n",
       "      <th>2341</th>\n",
       "      <td>2</td>\n",
       "      <td>55.6</td>\n",
       "      <td>1016.4</td>\n",
       "      <td>66.2</td>\n",
       "      <td>0.0</td>\n",
       "    </tr>\n",
       "    <tr>\n",
       "      <th>2342</th>\n",
       "      <td>2</td>\n",
       "      <td>54.3</td>\n",
       "      <td>1016.9</td>\n",
       "      <td>68.1</td>\n",
       "      <td>0.0</td>\n",
       "    </tr>\n",
       "    <tr>\n",
       "      <th>2343</th>\n",
       "      <td>2</td>\n",
       "      <td>53.7</td>\n",
       "      <td>1017.3</td>\n",
       "      <td>68.9</td>\n",
       "      <td>0.0</td>\n",
       "    </tr>\n",
       "    <tr>\n",
       "      <th>2344</th>\n",
       "      <td>2</td>\n",
       "      <td>51.7</td>\n",
       "      <td>1017.4</td>\n",
       "      <td>74.4</td>\n",
       "      <td>0.0</td>\n",
       "    </tr>\n",
       "    <tr>\n",
       "      <th>2345</th>\n",
       "      <td>2</td>\n",
       "      <td>52.4</td>\n",
       "      <td>1018.1</td>\n",
       "      <td>72.1</td>\n",
       "      <td>0.0</td>\n",
       "    </tr>\n",
       "  </tbody>\n",
       "</table>\n",
       "<p>2346 rows × 5 columns</p>\n",
       "</div>"
      ],
      "text/plain": [
       "      months_from_july  feature_1  feature_3  feature_2  class\n",
       "0                    2       53.8     1019.7       67.1    0.0\n",
       "1                    2       55.0     1019.7       65.6    0.0\n",
       "2                    2       57.1     1019.4       55.8    0.0\n",
       "3                    2       63.7     1018.1       35.4    0.0\n",
       "4                    2       65.7     1017.8       36.5    0.0\n",
       "...                ...        ...        ...        ...    ...\n",
       "2341                 2       55.6     1016.4       66.2    0.0\n",
       "2342                 2       54.3     1016.9       68.1    0.0\n",
       "2343                 2       53.7     1017.3       68.9    0.0\n",
       "2344                 2       51.7     1017.4       74.4    0.0\n",
       "2345                 2       52.4     1018.1       72.1    0.0\n",
       "\n",
       "[2346 rows x 5 columns]"
      ]
     },
     "execution_count": 16,
     "metadata": {},
     "output_type": "execute_result"
    }
   ],
   "source": [
    "under_sam_reltimes_tr = get_processed_df_from_data(raw_under_df_train)\n",
    "processed_df_train = create_oversampled_df(under_sam_reltimes_tr)\n",
    "under_sam_reltimes_tr"
   ]
  },
  {
   "cell_type": "code",
   "execution_count": 17,
   "metadata": {},
   "outputs": [
    {
     "data": {
      "text/html": [
       "<div>\n",
       "<style scoped>\n",
       "    .dataframe tbody tr th:only-of-type {\n",
       "        vertical-align: middle;\n",
       "    }\n",
       "\n",
       "    .dataframe tbody tr th {\n",
       "        vertical-align: top;\n",
       "    }\n",
       "\n",
       "    .dataframe thead th {\n",
       "        text-align: right;\n",
       "    }\n",
       "</style>\n",
       "<table border=\"1\" class=\"dataframe\">\n",
       "  <thead>\n",
       "    <tr style=\"text-align: right;\">\n",
       "      <th></th>\n",
       "      <th>months_from_july</th>\n",
       "      <th>feature_1</th>\n",
       "      <th>feature_3</th>\n",
       "      <th>feature_2</th>\n",
       "      <th>class</th>\n",
       "    </tr>\n",
       "  </thead>\n",
       "  <tbody>\n",
       "    <tr>\n",
       "      <th>0</th>\n",
       "      <td>2</td>\n",
       "      <td>56.0</td>\n",
       "      <td>1019.6</td>\n",
       "      <td>60.0</td>\n",
       "      <td>0.0</td>\n",
       "    </tr>\n",
       "    <tr>\n",
       "      <th>1</th>\n",
       "      <td>2</td>\n",
       "      <td>60.3</td>\n",
       "      <td>1019.2</td>\n",
       "      <td>46.1</td>\n",
       "      <td>0.0</td>\n",
       "    </tr>\n",
       "    <tr>\n",
       "      <th>2</th>\n",
       "      <td>2</td>\n",
       "      <td>61.1</td>\n",
       "      <td>1018.6</td>\n",
       "      <td>40.9</td>\n",
       "      <td>0.0</td>\n",
       "    </tr>\n",
       "    <tr>\n",
       "      <th>3</th>\n",
       "      <td>2</td>\n",
       "      <td>58.1</td>\n",
       "      <td>1019.6</td>\n",
       "      <td>55.6</td>\n",
       "      <td>0.0</td>\n",
       "    </tr>\n",
       "    <tr>\n",
       "      <th>4</th>\n",
       "      <td>2</td>\n",
       "      <td>49.6</td>\n",
       "      <td>1020.2</td>\n",
       "      <td>76.5</td>\n",
       "      <td>0.0</td>\n",
       "    </tr>\n",
       "    <tr>\n",
       "      <th>...</th>\n",
       "      <td>...</td>\n",
       "      <td>...</td>\n",
       "      <td>...</td>\n",
       "      <td>...</td>\n",
       "      <td>...</td>\n",
       "    </tr>\n",
       "    <tr>\n",
       "      <th>777</th>\n",
       "      <td>2</td>\n",
       "      <td>59.1</td>\n",
       "      <td>1011.9</td>\n",
       "      <td>64.5</td>\n",
       "      <td>0.0</td>\n",
       "    </tr>\n",
       "    <tr>\n",
       "      <th>778</th>\n",
       "      <td>2</td>\n",
       "      <td>58.1</td>\n",
       "      <td>1012.3</td>\n",
       "      <td>68.1</td>\n",
       "      <td>0.0</td>\n",
       "    </tr>\n",
       "    <tr>\n",
       "      <th>779</th>\n",
       "      <td>2</td>\n",
       "      <td>55.2</td>\n",
       "      <td>1013.1</td>\n",
       "      <td>75.1</td>\n",
       "      <td>0.0</td>\n",
       "    </tr>\n",
       "    <tr>\n",
       "      <th>780</th>\n",
       "      <td>2</td>\n",
       "      <td>64.2</td>\n",
       "      <td>1014.6</td>\n",
       "      <td>55.4</td>\n",
       "      <td>0.0</td>\n",
       "    </tr>\n",
       "    <tr>\n",
       "      <th>781</th>\n",
       "      <td>2</td>\n",
       "      <td>53.0</td>\n",
       "      <td>1017.3</td>\n",
       "      <td>71.3</td>\n",
       "      <td>0.0</td>\n",
       "    </tr>\n",
       "  </tbody>\n",
       "</table>\n",
       "<p>782 rows × 5 columns</p>\n",
       "</div>"
      ],
      "text/plain": [
       "     months_from_july  feature_1  feature_3  feature_2  class\n",
       "0                   2       56.0     1019.6       60.0    0.0\n",
       "1                   2       60.3     1019.2       46.1    0.0\n",
       "2                   2       61.1     1018.6       40.9    0.0\n",
       "3                   2       58.1     1019.6       55.6    0.0\n",
       "4                   2       49.6     1020.2       76.5    0.0\n",
       "..                ...        ...        ...        ...    ...\n",
       "777                 2       59.1     1011.9       64.5    0.0\n",
       "778                 2       58.1     1012.3       68.1    0.0\n",
       "779                 2       55.2     1013.1       75.1    0.0\n",
       "780                 2       64.2     1014.6       55.4    0.0\n",
       "781                 2       53.0     1017.3       71.3    0.0\n",
       "\n",
       "[782 rows x 5 columns]"
      ]
     },
     "execution_count": 17,
     "metadata": {},
     "output_type": "execute_result"
    }
   ],
   "source": [
    "processed_df_val = get_processed_df_from_data(raw_under_df_val)\n",
    "# processed_df_val = create_oversampled_df(under_sam_reltimes_va) \n",
    "processed_df_val"
   ]
  },
  {
   "cell_type": "code",
   "execution_count": 18,
   "metadata": {},
   "outputs": [
    {
     "data": {
      "text/plain": [
       "((8360, 5), (782, 5))"
      ]
     },
     "execution_count": 18,
     "metadata": {},
     "output_type": "execute_result"
    }
   ],
   "source": [
    "processed_df_train.shape, processed_df_val.shape"
   ]
  },
  {
   "cell_type": "code",
   "execution_count": 19,
   "metadata": {},
   "outputs": [
    {
     "data": {
      "image/png": "[encoded data removed]",
      "text/plain": [
       "<Figure size 600x400 with 1 Axes>"
      ]
     },
     "metadata": {},
     "output_type": "display_data"
    },
    {
     "data": {
      "text/plain": [
       "(array([2090, 2090, 2090, 2090]), array([0., 1., 2., 3., 4.]))"
      ]
     },
     "execution_count": 19,
     "metadata": {},
     "output_type": "execute_result"
    }
   ],
   "source": [
    "rain_counts, classes = np.histogram(processed_df_train['class'].values, bins=np.arange(0,processed_df_train['class'].max()+2))\n",
    "\n",
    "plt.figure(figsize=(6,4))\n",
    "plt.bar(x=np.arange(0,processed_df_train['class'].max()+1), width=1, height=rain_counts, facecolor='blue', edgecolor='k', alpha=0.6)\n",
    "plt.xticks(ticks=np.arange(0,processed_df_train['class'].max()+1), labels=['No rain', 'Light', 'Mid', 'Heavy'])\n",
    "plt.xlabel('Rainfall type')\n",
    "plt.ylabel('# of hours')\n",
    "plt.show()\n",
    "rain_counts, classes"
   ]
  },
  {
   "cell_type": "code",
   "execution_count": 20,
   "metadata": {},
   "outputs": [
    {
     "data": {
      "image/png": "[encoded data removed]",
      "text/plain": [
       "<Figure size 600x400 with 1 Axes>"
      ]
     },
     "metadata": {},
     "output_type": "display_data"
    },
    {
     "data": {
      "text/plain": [
       "(array([687,  84,  10,   1]), array([0., 1., 2., 3., 4.]))"
      ]
     },
     "execution_count": 20,
     "metadata": {},
     "output_type": "execute_result"
    }
   ],
   "source": [
    "rain_counts, classes = np.histogram(processed_df_val['class'].values, bins=np.arange(0,processed_df_train['class'].max()+2))\n",
    "\n",
    "plt.figure(figsize=(6,4))\n",
    "plt.bar(x=np.arange(0,processed_df_train['class'].max()+1), width=1, height=rain_counts, facecolor='blue', edgecolor='k', alpha=0.6)\n",
    "plt.xticks(ticks=np.arange(0,processed_df_train['class'].max()+1), labels=['No rain', 'Light', 'Mid', 'Heavy'])\n",
    "plt.xlabel('Rainfall type')\n",
    "plt.ylabel('# of hours')\n",
    "plt.show()\n",
    "rain_counts, classes"
   ]
  },
  {
   "cell_type": "code",
   "execution_count": 21,
   "metadata": {},
   "outputs": [
    {
     "data": {
      "text/plain": [
       "(8360, 5)"
      ]
     },
     "execution_count": 21,
     "metadata": {},
     "output_type": "execute_result"
    }
   ],
   "source": [
    "processed_data_train = processed_df_train.values.astype(float)\n",
    "processed_data_train.shape"
   ]
  },
  {
   "cell_type": "code",
   "execution_count": 22,
   "metadata": {},
   "outputs": [
    {
     "data": {
      "text/plain": [
       "(782, 5)"
      ]
     },
     "execution_count": 22,
     "metadata": {},
     "output_type": "execute_result"
    }
   ],
   "source": [
    "processed_data_val = processed_df_val.values.astype(float)\n",
    "processed_data_val.shape"
   ]
  },
  {
   "cell_type": "code",
   "execution_count": 23,
   "metadata": {},
   "outputs": [
    {
     "name": "stdout",
     "output_type": "stream",
     "text": [
      "[   2.    53.8 1019.7   67.1] [0]\n"
     ]
    }
   ],
   "source": [
    "x_data_train = processed_data_train[:, :processed_data_train.shape[1]-1]\n",
    "y_data_train = processed_data_train[:, processed_data_train.shape[1]-1:].astype(int)\n",
    "print(x_data_train[0], y_data_train[0])"
   ]
  },
  {
   "cell_type": "code",
   "execution_count": 24,
   "metadata": {},
   "outputs": [
    {
     "name": "stdout",
     "output_type": "stream",
     "text": [
      "[   2.    56.  1019.6   60. ] [0]\n"
     ]
    }
   ],
   "source": [
    "x_data_val = processed_data_val[:, :processed_data_train.shape[1]-1]\n",
    "y_data_val = processed_data_val[:, processed_data_train.shape[1]-1:].astype(int)\n",
    "print(x_data_val[0], y_data_val[0])"
   ]
  },
  {
   "cell_type": "code",
   "execution_count": 25,
   "metadata": {},
   "outputs": [
    {
     "data": {
      "image/png": "[encoded data removed]",
      "text/plain": [
       "<Figure size 600x400 with 1 Axes>"
      ]
     },
     "metadata": {},
     "output_type": "display_data"
    },
    {
     "data": {
      "text/plain": [
       "(array([2090, 2090, 2090, 2090]), array([0, 1, 2, 3, 4]))"
      ]
     },
     "execution_count": 25,
     "metadata": {},
     "output_type": "execute_result"
    }
   ],
   "source": [
    "rain_counts, classes = np.histogram(y_data_train, bins=np.arange(0,y_data_train.max()+2))\n",
    "\n",
    "plt.figure(figsize=(6,4))\n",
    "plt.bar(x=np.arange(0,y_data_train.max()+1), width=1, height=rain_counts, facecolor='blue', edgecolor='k', alpha=0.6)\n",
    "plt.ylabel('# of hours')\n",
    "plt.xticks(ticks=np.arange(0,y_data_train.max()+1), labels=['No rain', 'Light', 'Mid', 'Heavy'])\n",
    "plt.xlabel('Rainfall type')\n",
    "plt.show()\n",
    "rain_counts, classes"
   ]
  },
  {
   "cell_type": "code",
   "execution_count": 26,
   "metadata": {},
   "outputs": [
    {
     "data": {
      "image/png": "[encoded data removed]",
      "text/plain": [
       "<Figure size 600x400 with 1 Axes>"
      ]
     },
     "metadata": {},
     "output_type": "display_data"
    },
    {
     "data": {
      "text/plain": [
       "(array([687,  84,  10,   1]), array([0, 1, 2, 3, 4]))"
      ]
     },
     "execution_count": 26,
     "metadata": {},
     "output_type": "execute_result"
    }
   ],
   "source": [
    "rain_counts, classes = np.histogram(y_data_val, bins=np.arange(0,y_data_train.max()+2))\n",
    "\n",
    "plt.figure(figsize=(6,4))\n",
    "plt.bar(x=np.arange(0,y_data_train.max()+1), width=1, height=rain_counts, facecolor='blue', edgecolor='k', alpha=0.6)\n",
    "plt.ylabel('# of hours')\n",
    "plt.xticks(ticks=np.arange(0,y_data_train.max()+1), labels=['No rain', 'Light', 'Mid', 'Heavy'])\n",
    "plt.xlabel('Rainfall type')\n",
    "plt.show()\n",
    "rain_counts, classes"
   ]
  },
  {
   "cell_type": "code",
   "execution_count": 27,
   "metadata": {},
   "outputs": [
    {
     "name": "stdout",
     "output_type": "stream",
     "text": [
      "Metal device set to: Apple M2\n",
      "\n",
      "systemMemory: 16.00 GB\n",
      "maxCacheSize: 5.33 GB\n",
      "\n"
     ]
    },
    {
     "name": "stderr",
     "output_type": "stream",
     "text": [
      "2024-05-28 22:14:17.956371: I tensorflow/core/common_runtime/pluggable_device/pluggable_device_factory.cc:305] Could not identify NUMA node of platform GPU ID 0, defaulting to 0. Your kernel may not have been built with NUMA support.\n",
      "2024-05-28 22:14:17.958498: I tensorflow/core/common_runtime/pluggable_device/pluggable_device_factory.cc:271] Created TensorFlow device (/job:localhost/replica:0/task:0/device:GPU:0 with 0 MB memory) -> physical PluggableDevice (device: 0, name: METAL, pci bus id: <undefined>)\n"
     ]
    },
    {
     "name": "stdout",
     "output_type": "stream",
     "text": [
      "Model: \"sequential\"\n",
      "_________________________________________________________________\n",
      " Layer (type)                Output Shape              Param #   \n",
      "=================================================================\n",
      " dense (Dense)               (None, 128)               640       \n",
      "                                                                 \n",
      " dropout (Dropout)           (None, 128)               0         \n",
      "                                                                 \n",
      " dense_1 (Dense)             (None, 128)               16512     \n",
      "                                                                 \n",
      " dropout_1 (Dropout)         (None, 128)               0         \n",
      "                                                                 \n",
      " dense_2 (Dense)             (None, 128)               16512     \n",
      "                                                                 \n",
      " dropout_2 (Dropout)         (None, 128)               0         \n",
      "                                                                 \n",
      " dense_3 (Dense)             (None, 64)                8256      \n",
      "                                                                 \n",
      " dropout_3 (Dropout)         (None, 64)                0         \n",
      "                                                                 \n",
      " dense_4 (Dense)             (None, 4)                 260       \n",
      "                                                                 \n",
      "=================================================================\n",
      "Total params: 42,180\n",
      "Trainable params: 42,180\n",
      "Non-trainable params: 0\n",
      "_________________________________________________________________\n"
     ]
    }
   ],
   "source": [
    "scaler = StandardScaler()\n",
    "X_train_scaled = scaler.fit_transform(x_data_train)\n",
    "X_val_scaled = scaler.transform(x_data_val)\n",
    "\n",
    "# Define the model\n",
    "model = models.Sequential()\n",
    "\n",
    "# Input layer\n",
    "model.add(layers.Input(shape=(x_data_train.shape[1],)))\n",
    "\n",
    "# Hidden layers\n",
    "model.add(layers.Dense(128, activation='relu', kernel_regularizer=regularizers.l2(0.001)))\n",
    "model.add(layers.Dropout(0.5))\n",
    "model.add(layers.Dense(128, activation='relu', kernel_regularizer=regularizers.l2(0.001)))\n",
    "model.add(layers.Dropout(0.5))\n",
    "model.add(layers.Dense(128, activation='relu', kernel_regularizer=regularizers.l2(0.001)))\n",
    "model.add(layers.Dropout(0.5))\n",
    "model.add(layers.Dense(64, activation='relu', kernel_regularizer=regularizers.l2(0.001)))\n",
    "model.add(layers.Dropout(0.5))\n",
    "\n",
    "# Output layer\n",
    "model.add(layers.Dense(4, activation='softmax'))  # Softmax for multiclass classification\n",
    "\n",
    "# Compile the model\n",
    "optimizer = Adam(learning_rate=0.001)\n",
    "model.compile(optimizer=optimizer, loss='sparse_categorical_crossentropy', metrics=['accuracy'])\n",
    "\n",
    "# Learning rate reduction callback\n",
    "reduce_lr = ReduceLROnPlateau(monitor='val_loss', factor=0.2, patience=5, min_lr=0.0001)\n",
    "\n",
    "# Early stopping callback\n",
    "early_stopping = callbacks.EarlyStopping(monitor='val_loss', patience=40, restore_best_weights=True)\n",
    "\n",
    "# Print model summary\n",
    "model.summary()"
   ]
  },
  {
   "cell_type": "code",
   "execution_count": 28,
   "metadata": {},
   "outputs": [
    {
     "data": {
      "text/plain": [
       "((8360, 4), (8360, 1))"
      ]
     },
     "execution_count": 28,
     "metadata": {},
     "output_type": "execute_result"
    }
   ],
   "source": [
    "X_train_scaled.shape, y_data_train.shape"
   ]
  },
  {
   "cell_type": "code",
   "execution_count": 29,
   "metadata": {},
   "outputs": [
    {
     "data": {
      "text/plain": [
       "((782, 4), (782, 1))"
      ]
     },
     "execution_count": 29,
     "metadata": {},
     "output_type": "execute_result"
    }
   ],
   "source": [
    "X_val_scaled.shape, y_data_val.shape"
   ]
  },
  {
   "cell_type": "code",
   "execution_count": 30,
   "metadata": {},
   "outputs": [
    {
     "data": {
      "image/png": "[encoded data removed]",
      "text/plain": [
       "<Figure size 600x400 with 1 Axes>"
      ]
     },
     "metadata": {},
     "output_type": "display_data"
    },
    {
     "data": {
      "text/plain": [
       "(array([ 103, 3016,  569,  773, 1550, 2049,  300]),\n",
       " array([0, 1, 2, 3, 4, 5, 6, 7]))"
      ]
     },
     "execution_count": 30,
     "metadata": {},
     "output_type": "execute_result"
    }
   ],
   "source": [
    "binwidth = 1\n",
    "rain_counts, classes = np.histogram(x_data_train[:,0], bins=np.arange(0,7+binwidth,binwidth))\n",
    "\n",
    "plt.figure(figsize=(6,4))\n",
    "plt.bar(x=np.arange(0,7,binwidth), width=binwidth, height=rain_counts, facecolor='blue', edgecolor='k', alpha=0.6)\n",
    "plt.ylabel('# of hours')\n",
    "plt.xlabel('Month distance from July')\n",
    "plt.show()\n",
    "rain_counts, classes"
   ]
  },
  {
   "cell_type": "code",
   "execution_count": 31,
   "metadata": {},
   "outputs": [
    {
     "data": {
      "text/plain": [
       "array([[-0.54259078,  0.07074843,  1.42844109, -0.99770907],\n",
       "       [-0.54259078,  0.22439891,  1.42844109, -1.1010619 ],\n",
       "       [-0.54259078,  0.49328724,  1.39318195, -1.77630039],\n",
       "       ...,\n",
       "       [-1.10973993,  0.46933456,  0.53506733, -0.79810861],\n",
       "       [-1.10973993,  0.7815785 , -0.73222471,  0.37923055],\n",
       "       [-1.10973993,  0.6288333 , -0.95612102,  0.39416535]])"
      ]
     },
     "execution_count": 31,
     "metadata": {},
     "output_type": "execute_result"
    }
   ],
   "source": [
    "X_train_scaled"
   ]
  },
  {
   "cell_type": "code",
   "execution_count": 32,
   "metadata": {},
   "outputs": [
    {
     "data": {
      "image/png": "[encoded data removed]",
      "text/plain": [
       "<Figure size 600x400 with 1 Axes>"
      ]
     },
     "metadata": {},
     "output_type": "display_data"
    },
    {
     "data": {
      "text/plain": [
       "(array([   0,    0,    0,    0, 3119,  569, 2323, 2349,    0,    0,    0,\n",
       "           0,    0]),\n",
       " array([-6, -5, -4, -3, -2, -1,  0,  1,  2,  3,  4,  5,  6,  7]))"
      ]
     },
     "execution_count": 32,
     "metadata": {},
     "output_type": "execute_result"
    }
   ],
   "source": [
    "binwidth = 1\n",
    "rain_counts, classes = np.histogram(X_train_scaled[:,0], bins=np.arange(-6,7+binwidth,binwidth))\n",
    "\n",
    "plt.figure(figsize=(6,4))\n",
    "plt.bar(x=np.arange(-6,7,binwidth), width=binwidth, height=rain_counts, facecolor='blue', edgecolor='k', alpha=0.6)\n",
    "plt.ylabel('# of hours')\n",
    "plt.xlabel('Rainfall type')\n",
    "plt.show()\n",
    "rain_counts, classes"
   ]
  },
  {
   "cell_type": "code",
   "execution_count": 33,
   "metadata": {},
   "outputs": [
    {
     "name": "stdout",
     "output_type": "stream",
     "text": [
      "Epoch 1/60\n"
     ]
    },
    {
     "name": "stderr",
     "output_type": "stream",
     "text": [
      "2024-05-28 22:14:18.712531: W tensorflow/core/platform/profile_utils/cpu_utils.cc:128] Failed to get CPU frequency: 0 Hz\n",
      "2024-05-28 22:14:19.310287: I tensorflow/core/grappler/optimizers/custom_graph_optimizer_registry.cc:113] Plugin optimizer for device_type GPU is enabled.\n"
     ]
    },
    {
     "name": "stdout",
     "output_type": "stream",
     "text": [
      "262/262 [==============================] - ETA: 0s - loss: 1.2457 - accuracy: 0.5903"
     ]
    },
    {
     "name": "stderr",
     "output_type": "stream",
     "text": [
      "2024-05-28 22:14:24.566825: I tensorflow/core/grappler/optimizers/custom_graph_optimizer_registry.cc:113] Plugin optimizer for device_type GPU is enabled.\n"
     ]
    },
    {
     "name": "stdout",
     "output_type": "stream",
     "text": [
      "262/262 [==============================] - 6s 18ms/step - loss: 1.2457 - accuracy: 0.5903 - val_loss: 1.1370 - val_accuracy: 0.5985 - lr: 0.0010\n",
      "Epoch 2/60\n",
      "262/262 [==============================] - 3s 11ms/step - loss: 0.9713 - accuracy: 0.6816 - val_loss: 1.1035 - val_accuracy: 0.5895 - lr: 0.0010\n",
      "Epoch 3/60\n",
      "262/262 [==============================] - 4s 14ms/step - loss: 0.8796 - accuracy: 0.7029 - val_loss: 1.0709 - val_accuracy: 0.5793 - lr: 0.0010\n",
      "Epoch 4/60\n",
      "262/262 [==============================] - 4s 14ms/step - loss: 0.8100 - accuracy: 0.7262 - val_loss: 0.9764 - val_accuracy: 0.5997 - lr: 0.0010\n",
      "Epoch 5/60\n",
      "262/262 [==============================] - 3s 12ms/step - loss: 0.7722 - accuracy: 0.7396 - val_loss: 0.9644 - val_accuracy: 0.6215 - lr: 0.0010\n",
      "Epoch 6/60\n",
      "262/262 [==============================] - 3s 10ms/step - loss: 0.7336 - accuracy: 0.7504 - val_loss: 0.9245 - val_accuracy: 0.6292 - lr: 0.0010\n",
      "Epoch 7/60\n",
      "262/262 [==============================] - 3s 10ms/step - loss: 0.7000 - accuracy: 0.7660 - val_loss: 0.8785 - val_accuracy: 0.6522 - lr: 0.0010\n",
      "Epoch 8/60\n",
      "262/262 [==============================] - 3s 13ms/step - loss: 0.6707 - accuracy: 0.7754 - val_loss: 0.9594 - val_accuracy: 0.5844 - lr: 0.0010\n",
      "Epoch 9/60\n",
      "262/262 [==============================] - 6s 22ms/step - loss: 0.6513 - accuracy: 0.7801 - val_loss: 0.7825 - val_accuracy: 0.6944 - lr: 0.0010\n",
      "Epoch 10/60\n",
      "262/262 [==============================] - 4s 14ms/step - loss: 0.6331 - accuracy: 0.7914 - val_loss: 0.8475 - val_accuracy: 0.6445 - lr: 0.0010\n",
      "Epoch 11/60\n",
      "262/262 [==============================] - 3s 11ms/step - loss: 0.6191 - accuracy: 0.7907 - val_loss: 0.8279 - val_accuracy: 0.6483 - lr: 0.0010\n",
      "Epoch 12/60\n",
      "262/262 [==============================] - 3s 12ms/step - loss: 0.6051 - accuracy: 0.7939 - val_loss: 0.8282 - val_accuracy: 0.6535 - lr: 0.0010\n",
      "Epoch 13/60\n",
      "262/262 [==============================] - 3s 10ms/step - loss: 0.5918 - accuracy: 0.7968 - val_loss: 0.8287 - val_accuracy: 0.6445 - lr: 0.0010\n",
      "Epoch 14/60\n",
      "262/262 [==============================] - 3s 10ms/step - loss: 0.5802 - accuracy: 0.7993 - val_loss: 0.8555 - val_accuracy: 0.6317 - lr: 0.0010\n",
      "Epoch 15/60\n",
      "262/262 [==============================] - 3s 10ms/step - loss: 0.5522 - accuracy: 0.8129 - val_loss: 0.7969 - val_accuracy: 0.6586 - lr: 2.0000e-04\n",
      "Epoch 16/60\n",
      "262/262 [==============================] - 3s 10ms/step - loss: 0.5351 - accuracy: 0.8211 - val_loss: 0.8223 - val_accuracy: 0.6496 - lr: 2.0000e-04\n",
      "Epoch 17/60\n",
      "262/262 [==============================] - 3s 10ms/step - loss: 0.5265 - accuracy: 0.8274 - val_loss: 0.8029 - val_accuracy: 0.6726 - lr: 2.0000e-04\n",
      "Epoch 18/60\n",
      "262/262 [==============================] - 3s 10ms/step - loss: 0.5240 - accuracy: 0.8248 - val_loss: 0.7992 - val_accuracy: 0.6739 - lr: 2.0000e-04\n",
      "Epoch 19/60\n",
      "262/262 [==============================] - 3s 11ms/step - loss: 0.5177 - accuracy: 0.8286 - val_loss: 0.7539 - val_accuracy: 0.6931 - lr: 2.0000e-04\n",
      "Epoch 20/60\n",
      "262/262 [==============================] - 3s 11ms/step - loss: 0.5146 - accuracy: 0.8272 - val_loss: 0.7704 - val_accuracy: 0.6905 - lr: 2.0000e-04\n",
      "Epoch 21/60\n",
      "262/262 [==============================] - 3s 12ms/step - loss: 0.5125 - accuracy: 0.8287 - val_loss: 0.7927 - val_accuracy: 0.6803 - lr: 2.0000e-04\n",
      "Epoch 22/60\n",
      "262/262 [==============================] - 3s 12ms/step - loss: 0.5058 - accuracy: 0.8307 - val_loss: 0.7874 - val_accuracy: 0.6777 - lr: 2.0000e-04\n",
      "Epoch 23/60\n",
      "262/262 [==============================] - 5s 18ms/step - loss: 0.5069 - accuracy: 0.8309 - val_loss: 0.7787 - val_accuracy: 0.6816 - lr: 2.0000e-04\n",
      "Epoch 24/60\n",
      "262/262 [==============================] - 3s 10ms/step - loss: 0.5010 - accuracy: 0.8330 - val_loss: 0.7976 - val_accuracy: 0.6675 - lr: 2.0000e-04\n",
      "Epoch 25/60\n",
      "262/262 [==============================] - 3s 12ms/step - loss: 0.4948 - accuracy: 0.8385 - val_loss: 0.7713 - val_accuracy: 0.6841 - lr: 1.0000e-04\n",
      "Epoch 26/60\n",
      "262/262 [==============================] - 3s 13ms/step - loss: 0.4943 - accuracy: 0.8344 - val_loss: 0.7793 - val_accuracy: 0.6841 - lr: 1.0000e-04\n",
      "Epoch 27/60\n",
      "262/262 [==============================] - 3s 11ms/step - loss: 0.4933 - accuracy: 0.8378 - val_loss: 0.7802 - val_accuracy: 0.6829 - lr: 1.0000e-04\n",
      "Epoch 28/60\n",
      "262/262 [==============================] - 3s 11ms/step - loss: 0.4887 - accuracy: 0.8390 - val_loss: 0.7705 - val_accuracy: 0.6854 - lr: 1.0000e-04\n",
      "Epoch 29/60\n",
      "262/262 [==============================] - 3s 11ms/step - loss: 0.4874 - accuracy: 0.8395 - val_loss: 0.7426 - val_accuracy: 0.7046 - lr: 1.0000e-04\n",
      "Epoch 30/60\n",
      "262/262 [==============================] - 3s 13ms/step - loss: 0.4857 - accuracy: 0.8431 - val_loss: 0.7756 - val_accuracy: 0.6816 - lr: 1.0000e-04\n",
      "Epoch 31/60\n",
      "262/262 [==============================] - 3s 11ms/step - loss: 0.4831 - accuracy: 0.8410 - val_loss: 0.7620 - val_accuracy: 0.6918 - lr: 1.0000e-04\n",
      "Epoch 32/60\n",
      "262/262 [==============================] - 3s 10ms/step - loss: 0.4827 - accuracy: 0.8432 - val_loss: 0.7537 - val_accuracy: 0.6918 - lr: 1.0000e-04\n",
      "Epoch 33/60\n",
      "262/262 [==============================] - 3s 11ms/step - loss: 0.4819 - accuracy: 0.8449 - val_loss: 0.7670 - val_accuracy: 0.6893 - lr: 1.0000e-04\n",
      "Epoch 34/60\n",
      "262/262 [==============================] - 4s 14ms/step - loss: 0.4804 - accuracy: 0.8429 - val_loss: 0.7604 - val_accuracy: 0.6931 - lr: 1.0000e-04\n",
      "Epoch 35/60\n",
      "262/262 [==============================] - 3s 11ms/step - loss: 0.4769 - accuracy: 0.8438 - val_loss: 0.7626 - val_accuracy: 0.6893 - lr: 1.0000e-04\n",
      "Epoch 36/60\n",
      "262/262 [==============================] - 3s 11ms/step - loss: 0.4776 - accuracy: 0.8453 - val_loss: 0.7512 - val_accuracy: 0.6982 - lr: 1.0000e-04\n",
      "Epoch 37/60\n",
      "262/262 [==============================] - 3s 10ms/step - loss: 0.4737 - accuracy: 0.8464 - val_loss: 0.7460 - val_accuracy: 0.6995 - lr: 1.0000e-04\n",
      "Epoch 38/60\n",
      "262/262 [==============================] - 3s 11ms/step - loss: 0.4762 - accuracy: 0.8447 - val_loss: 0.7686 - val_accuracy: 0.6854 - lr: 1.0000e-04\n",
      "Epoch 39/60\n",
      "262/262 [==============================] - 3s 13ms/step - loss: 0.4750 - accuracy: 0.8450 - val_loss: 0.7487 - val_accuracy: 0.6969 - lr: 1.0000e-04\n",
      "Epoch 40/60\n",
      "262/262 [==============================] - 3s 12ms/step - loss: 0.4733 - accuracy: 0.8433 - val_loss: 0.7737 - val_accuracy: 0.6854 - lr: 1.0000e-04\n",
      "Epoch 41/60\n",
      "262/262 [==============================] - 3s 11ms/step - loss: 0.4696 - accuracy: 0.8470 - val_loss: 0.7643 - val_accuracy: 0.6880 - lr: 1.0000e-04\n",
      "Epoch 42/60\n",
      "262/262 [==============================] - 3s 10ms/step - loss: 0.4730 - accuracy: 0.8449 - val_loss: 0.7727 - val_accuracy: 0.6867 - lr: 1.0000e-04\n",
      "Epoch 43/60\n",
      "262/262 [==============================] - 3s 10ms/step - loss: 0.4710 - accuracy: 0.8462 - val_loss: 0.7474 - val_accuracy: 0.6995 - lr: 1.0000e-04\n",
      "Epoch 44/60\n",
      "262/262 [==============================] - 3s 11ms/step - loss: 0.4664 - accuracy: 0.8445 - val_loss: 0.7448 - val_accuracy: 0.7033 - lr: 1.0000e-04\n",
      "Epoch 45/60\n",
      "262/262 [==============================] - 3s 10ms/step - loss: 0.4673 - accuracy: 0.8499 - val_loss: 0.7810 - val_accuracy: 0.6829 - lr: 1.0000e-04\n",
      "Epoch 46/60\n",
      "262/262 [==============================] - 3s 10ms/step - loss: 0.4660 - accuracy: 0.8464 - val_loss: 0.7288 - val_accuracy: 0.7187 - lr: 1.0000e-04\n",
      "Epoch 47/60\n",
      "262/262 [==============================] - 3s 10ms/step - loss: 0.4654 - accuracy: 0.8477 - val_loss: 0.7517 - val_accuracy: 0.6982 - lr: 1.0000e-04\n",
      "Epoch 48/60\n",
      "262/262 [==============================] - 3s 10ms/step - loss: 0.4655 - accuracy: 0.8499 - val_loss: 0.7496 - val_accuracy: 0.6982 - lr: 1.0000e-04\n",
      "Epoch 49/60\n",
      "262/262 [==============================] - 3s 10ms/step - loss: 0.4632 - accuracy: 0.8498 - val_loss: 0.7541 - val_accuracy: 0.6957 - lr: 1.0000e-04\n",
      "Epoch 50/60\n",
      "262/262 [==============================] - 3s 11ms/step - loss: 0.4630 - accuracy: 0.8490 - val_loss: 0.7752 - val_accuracy: 0.6841 - lr: 1.0000e-04\n",
      "Epoch 51/60\n",
      "262/262 [==============================] - 3s 11ms/step - loss: 0.4607 - accuracy: 0.8501 - val_loss: 0.7702 - val_accuracy: 0.6867 - lr: 1.0000e-04\n",
      "Epoch 52/60\n",
      "262/262 [==============================] - 3s 11ms/step - loss: 0.4610 - accuracy: 0.8462 - val_loss: 0.7506 - val_accuracy: 0.6982 - lr: 1.0000e-04\n",
      "Epoch 53/60\n",
      "262/262 [==============================] - 3s 10ms/step - loss: 0.4566 - accuracy: 0.8490 - val_loss: 0.7478 - val_accuracy: 0.6982 - lr: 1.0000e-04\n",
      "Epoch 54/60\n",
      "262/262 [==============================] - 3s 10ms/step - loss: 0.4591 - accuracy: 0.8489 - val_loss: 0.7670 - val_accuracy: 0.6918 - lr: 1.0000e-04\n",
      "Epoch 55/60\n",
      "262/262 [==============================] - 3s 11ms/step - loss: 0.4589 - accuracy: 0.8488 - val_loss: 0.7598 - val_accuracy: 0.6931 - lr: 1.0000e-04\n",
      "Epoch 56/60\n",
      "262/262 [==============================] - 3s 10ms/step - loss: 0.4561 - accuracy: 0.8510 - val_loss: 0.7554 - val_accuracy: 0.6918 - lr: 1.0000e-04\n",
      "Epoch 57/60\n",
      "262/262 [==============================] - 3s 10ms/step - loss: 0.4576 - accuracy: 0.8514 - val_loss: 0.7435 - val_accuracy: 0.7020 - lr: 1.0000e-04\n",
      "Epoch 58/60\n",
      "262/262 [==============================] - 3s 10ms/step - loss: 0.4574 - accuracy: 0.8516 - val_loss: 0.7500 - val_accuracy: 0.7020 - lr: 1.0000e-04\n",
      "Epoch 59/60\n",
      "262/262 [==============================] - 3s 12ms/step - loss: 0.4563 - accuracy: 0.8545 - val_loss: 0.7314 - val_accuracy: 0.7136 - lr: 1.0000e-04\n",
      "Epoch 60/60\n",
      "262/262 [==============================] - 3s 10ms/step - loss: 0.4542 - accuracy: 0.8535 - val_loss: 0.7300 - val_accuracy: 0.7148 - lr: 1.0000e-04\n"
     ]
    }
   ],
   "source": [
    "# Train the Model:\n",
    "history = model.fit(\n",
    "    X_train_scaled, y_data_train,\n",
    "    epochs=60,\n",
    "    batch_size=32,\n",
    "    validation_data=(X_val_scaled, y_data_val),\n",
    "    callbacks=[early_stopping, reduce_lr]\n",
    ")"
   ]
  },
  {
   "cell_type": "code",
   "execution_count": 34,
   "metadata": {},
   "outputs": [
    {
     "data": {
      "image/png": "[encoded data removed]",
      "text/plain": [
       "<Figure size 1000x600 with 1 Axes>"
      ]
     },
     "metadata": {},
     "output_type": "display_data"
    }
   ],
   "source": [
    "train_loss = history.history['loss']\n",
    "val_loss = history.history['val_loss']\n",
    "\n",
    "# Plot the accuracy\n",
    "plt.figure(figsize=(10, 6))\n",
    "plt.plot(train_loss, label='Train Loss')\n",
    "plt.plot(val_loss, label='Validation Loss')\n",
    "plt.xlabel('Epochs')\n",
    "plt.ylabel('Loss')\n",
    "plt.ylim(0, 1)\n",
    "plt.title('Model Loss as a Function of Epoch')\n",
    "plt.legend()\n",
    "plt.grid(True)\n",
    "plt.show()"
   ]
  },
  {
   "cell_type": "code",
   "execution_count": 35,
   "metadata": {},
   "outputs": [
    {
     "data": {
      "image/png": "[encoded data removed]",
      "text/plain": [
       "<Figure size 1000x600 with 1 Axes>"
      ]
     },
     "metadata": {},
     "output_type": "display_data"
    }
   ],
   "source": [
    "train_accuracy = history.history['accuracy']\n",
    "val_accuracy = history.history['val_accuracy']\n",
    "\n",
    "# Plot the accuracy\n",
    "plt.figure(figsize=(10, 6))\n",
    "plt.plot(train_accuracy, label='Train Accuracy')\n",
    "plt.plot(val_accuracy, label='Validation Accuracy')\n",
    "plt.xlabel('Epochs')\n",
    "plt.ylabel('Accuracy')\n",
    "plt.ylim(0, 1)\n",
    "plt.title('Model Accuracy as a Function of Epoch')\n",
    "plt.legend()\n",
    "plt.grid(True)\n",
    "plt.show()"
   ]
  },
  {
   "cell_type": "code",
   "execution_count": 36,
   "metadata": {},
   "outputs": [],
   "source": [
    "# Evaluation (Is it worth, the loss is quite high suggesting that either the model architecture is quite poor (likely) or \n",
    "# that we need to better preprocess our data such as rain (also likely))"
   ]
  },
  {
   "cell_type": "code",
   "execution_count": 37,
   "metadata": {},
   "outputs": [
    {
     "data": {
      "image/png": "[encoded data removed]",
      "text/plain": [
       "<Figure size 600x400 with 1 Axes>"
      ]
     },
     "metadata": {},
     "output_type": "display_data"
    },
    {
     "name": "stdout",
     "output_type": "stream",
     "text": [
      "[673 673 673 673] [0. 1. 2. 3. 4.]\n",
      "[   2.    49.6 1019.9   77.3] [0]\n"
     ]
    }
   ],
   "source": [
    "under_sam_reltimes_te = get_processed_df_from_data(raw_under_df_test)\n",
    "processed_df_test = create_oversampled_df(under_sam_reltimes_te)\n",
    "\n",
    "rain_counts, classes = np.histogram(processed_df_test['class'].values, bins=np.arange(0,processed_df_train['class'].max()+2))\n",
    "\n",
    "plt.figure(figsize=(6,4))\n",
    "plt.bar(x=np.arange(0,processed_df_train['class'].max()+1), width=1, height=rain_counts, facecolor='blue', edgecolor='k', alpha=0.6)\n",
    "plt.xticks(ticks=np.arange(0,processed_df_train['class'].max()+1), labels=['No rain', 'Light', 'Mid', 'Heavy'])\n",
    "plt.xlabel('Rainfall type')\n",
    "plt.ylabel('# of hours')\n",
    "plt.show()\n",
    "print(rain_counts, classes)\n",
    "\n",
    "processed_data_test = processed_df_test.values.astype(float)\n",
    "x_data_test = processed_data_test[:, :processed_data_test.shape[1]-1]\n",
    "y_data_test = processed_data_test[:, processed_data_test.shape[1]-1:].astype(int)\n",
    "print(x_data_test[0], y_data_test[0])"
   ]
  },
  {
   "cell_type": "code",
   "execution_count": 38,
   "metadata": {},
   "outputs": [
    {
     "name": "stdout",
     "output_type": "stream",
     "text": [
      "40/85 [=============>................] - ETA: 0s"
     ]
    },
    {
     "name": "stderr",
     "output_type": "stream",
     "text": [
      "2024-05-28 22:17:21.449653: I tensorflow/core/grappler/optimizers/custom_graph_optimizer_registry.cc:113] Plugin optimizer for device_type GPU is enabled.\n"
     ]
    },
    {
     "name": "stdout",
     "output_type": "stream",
     "text": [
      "85/85 [==============================] - 0s 3ms/step\n"
     ]
    },
    {
     "name": "stderr",
     "output_type": "stream",
     "text": [
      "2024-05-28 22:17:21.903364: I tensorflow/core/grappler/optimizers/custom_graph_optimizer_registry.cc:113] Plugin optimizer for device_type GPU is enabled.\n"
     ]
    },
    {
     "name": "stdout",
     "output_type": "stream",
     "text": [
      "85/85 - 1s - loss: 2.8265 - accuracy: 0.4785 - 709ms/epoch - 8ms/step\n"
     ]
    },
    {
     "data": {
      "text/plain": [
       "[2.826484441757202, 0.47845467925071716]"
      ]
     },
     "execution_count": 38,
     "metadata": {},
     "output_type": "execute_result"
    }
   ],
   "source": [
    "X_test_scaled = scaler.transform(x_data_test)\n",
    "predictions = model.predict(X_test_scaled)\n",
    "model.evaluate(X_test_scaled, y_data_test.ravel().astype(float), verbose=2)"
   ]
  },
  {
   "cell_type": "code",
   "execution_count": 39,
   "metadata": {},
   "outputs": [
    {
     "name": "stdout",
     "output_type": "stream",
     "text": [
      "Confusion Matrix:\n",
      "[[495 135  19  24]\n",
      " [ 68 414 148  43]\n",
      " [  0 226 379  68]\n",
      " [  0 516 157   0]]\n"
     ]
    },
    {
     "data": {
      "image/png": "[encoded data removed]",
      "text/plain": [
       "<Figure size 640x480 with 2 Axes>"
      ]
     },
     "metadata": {},
     "output_type": "display_data"
    }
   ],
   "source": [
    "cm = confusion_matrix(y_data_test.ravel(), np.argmax(predictions,axis=1))\n",
    "\n",
    "# Print the confusion matrix\n",
    "print(\"Confusion Matrix:\")\n",
    "print(cm)\n",
    "\n",
    "# Visualize the confusion matrix\n",
    "disp = ConfusionMatrixDisplay(confusion_matrix=cm, display_labels=[0, 1, 2, 3])\n",
    "disp.plot(cmap=plt.cm.Blues)\n",
    "plt.show()"
   ]
  },
  {
   "cell_type": "code",
   "execution_count": 40,
   "metadata": {},
   "outputs": [
    {
     "name": "stdout",
     "output_type": "stream",
     "text": [
      "Confusion Matrix:\n",
      "[[495 135  19  24]\n",
      " [ 68 414 148  43]\n",
      " [  0 226 379  68]\n",
      " [  0 516 157   0]]\n"
     ]
    },
    {
     "data": {
      "image/png": "[encoded data removed]",
      "text/plain": [
       "<Figure size 640x480 with 2 Axes>"
      ]
     },
     "metadata": {},
     "output_type": "display_data"
    }
   ],
   "source": [
    "cm = confusion_matrix(y_data_test.ravel(), np.argmax(predictions,axis=1))\n",
    "\n",
    "# Print the confusion matrix\n",
    "print(\"Confusion Matrix:\")\n",
    "print(cm)\n",
    "\n",
    "# Visualize the confusion matrix\n",
    "disp = ConfusionMatrixDisplay(confusion_matrix=(cm / np.sum(cm, axis=1).reshape(4, 1)), display_labels=[0, 1, 2, 3])\n",
    "disp.plot(cmap=plt.cm.Blues)\n",
    "plt.show()"
   ]
  },
  {
   "cell_type": "code",
   "execution_count": 41,
   "metadata": {},
   "outputs": [
    {
     "data": {
      "text/plain": [
       "array([0.80097087, 0.42158859, 0.55087209, 0.        ])"
      ]
     },
     "execution_count": 41,
     "metadata": {},
     "output_type": "execute_result"
    }
   ],
   "source": [
    "f1_score(y_data_test.ravel(), np.argmax(predictions,axis=1), average=None)"
   ]
  }
 ],
 "metadata": {
  "kernelspec": {
   "display_name": "EE400-Env",
   "language": "python",
   "name": "python3"
  },
  "language_info": {
   "codemirror_mode": {
    "name": "ipython",
    "version": 3
   },
   "file_extension": ".py",
   "mimetype": "text/x-python",
   "name": "python",
   "nbconvert_exporter": "python",
   "pygments_lexer": "ipython3",
   "version": "3.10.14"
  }
 },
 "nbformat": 4,
 "nbformat_minor": 2
}
